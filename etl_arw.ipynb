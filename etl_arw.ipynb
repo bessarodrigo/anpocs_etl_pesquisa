{
 "cells": [
  {
   "cell_type": "markdown",
   "id": "21651082-c451-4fdc-b9bf-5110f8477f8c",
   "metadata": {},
   "source": [
    "# Importações"
   ]
  },
  {
   "cell_type": "code",
   "execution_count": 1,
   "id": "d6050949-2605-400d-a8bb-2e89e21d9f41",
   "metadata": {},
   "outputs": [],
   "source": [
    "import pandas as pd\n",
    "import matplotlib.pyplot as plt\n",
    "import numpy as np\n",
    "import re\n",
    "import seaborn as sns\n",
    "import numpy as np\n",
    "import os"
   ]
  },
  {
   "cell_type": "markdown",
   "id": "92258111-d300-4572-9f6e-0bd46a5255c8",
   "metadata": {},
   "source": [
    "# Leitura do Arquivo"
   ]
  },
  {
   "cell_type": "code",
   "execution_count": 2,
   "id": "10a9ea28-b4c4-4933-b5af-de576e9842ab",
   "metadata": {},
   "outputs": [],
   "source": [
    "# Caminho do arquivo Excel\n",
    "excel_file = \"arw.xlsx\"\n",
    "\n",
    "# Leitura do arquivo Excel\n",
    "df = pd.read_excel(excel_file, sheet_name='Respondentes')"
   ]
  },
  {
   "cell_type": "markdown",
   "id": "8169726c-f1cc-4447-a06d-41e5b325d6eb",
   "metadata": {},
   "source": [
    "# Ajustes Iniciais"
   ]
  },
  {
   "cell_type": "code",
   "execution_count": 3,
   "id": "4a76c3db-8046-4cfc-a111-aa1ad244d4db",
   "metadata": {},
   "outputs": [],
   "source": [
    "# Drop das colunas desnecessárias\n",
    "columns_to_drop = ['endereco_ip', 'coletor', 'tempo_gasto', 'data_resposta', 'concorda_termo_consentimento']\n",
    "columns_to_drop = [col for col in columns_to_drop if col in df.columns]\n",
    "df.drop(columns=columns_to_drop, inplace=True)\n",
    "\n",
    "# Função para converter floats em inteiros\n",
    "def converter_float_para_int(df):\n",
    "    for coluna in df.columns:\n",
    "        if df[coluna].dtype == 'float64':\n",
    "            # Verifica se há valores NaN na coluna e os preenche com 0 (ou outro valor apropriado) antes da conversão\n",
    "            df[coluna].fillna(0, inplace=True)\n",
    "            df[coluna] = df[coluna].astype(int)\n",
    "    return df\n",
    "\n",
    "# Aplicar a função para converter floats em inteiros\n",
    "df = converter_float_para_int(df)"
   ]
  },
  {
   "cell_type": "markdown",
   "id": "2cbf30de-5536-4672-8e39-30092ebb7772",
   "metadata": {},
   "source": [
    "# Transformações"
   ]
  },
  {
   "cell_type": "markdown",
   "id": "b1f6b4fa-401b-4617-8550-c3803b324dd0",
   "metadata": {},
   "source": [
    "## identificacao_genero"
   ]
  },
  {
   "cell_type": "code",
   "execution_count": 4,
   "id": "d07d6aae-adf1-4c18-b4e4-6c90ca26c128",
   "metadata": {},
   "outputs": [
    {
     "name": "stdout",
     "output_type": "stream",
     "text": [
      "Contagem de cada valor:\n",
      "Mulher cisgênero         2128\n",
      "Homem cisgênero          1489\n",
      "Pessoa não-binária         66\n",
      "Prefiro não responder      41\n",
      "Homem transgênero          10\n",
      "Agênero                    10\n",
      "Mulher transgênero          7\n",
      "Name: identificacao_genero, dtype: int64\n"
     ]
    }
   ],
   "source": [
    "# Função para remover o texto após o parêntese, incluindo o próprio parêntese\n",
    "def remover_apos_parentese(texto):\n",
    "    if isinstance(texto, str):\n",
    "        return re.sub(r'\\s*\\(.*\\)', '', texto).strip()\n",
    "    return texto\n",
    "\n",
    "# Aplicar a função à coluna 'identificacao_genero'\n",
    "df['identificacao_genero'] = df['identificacao_genero'].apply(remover_apos_parentese)\n",
    "\n",
    "# Contar as ocorrências de cada valor único na coluna 'identificacao_genero'\n",
    "identificacao_genero_counts = df['identificacao_genero'].value_counts()\n",
    "\n",
    "# Exibir o resultado\n",
    "print(\"Contagem de cada valor:\")\n",
    "print(identificacao_genero_counts)"
   ]
  },
  {
   "cell_type": "markdown",
   "id": "e1079ccf-c0e3-4679-830b-82c4d973dedb",
   "metadata": {},
   "source": [
    "## ano_conclusao_graduacao"
   ]
  },
  {
   "cell_type": "code",
   "execution_count": 5,
   "id": "2566ee08-84f7-4c3a-b490-2408ccb02a22",
   "metadata": {},
   "outputs": [
    {
     "name": "stdout",
     "output_type": "stream",
     "text": [
      "Valores únicos antes da substituição:\n",
      "[   0 2003 1996 2005 2006 2008 2007 1981 1973 2013 1992 2000 2015 2011\n",
      " 1995 2017 2019 2018 1983 2004 2014 2023 2002 2012 1975 1980 1998 1989\n",
      " 1986 1997 1999 2016 2010 2001 1987 2022 2020 2009 2021 1984 2024 1979\n",
      " 1970 1971 1993 1982 1991 2025 1985 1976 1994 1990 1974   88 2027 1988\n",
      " 1965   -1   -7 1967 2026   19    1   -3    7 1978  224   -2  -91 1964\n",
      "    2 1960    9 2028 1968  777    5  666 1977 1972 1900 2029]\n",
      "\n",
      "Valores únicos após a substituição:\n",
      "<IntegerArray>\n",
      "[<NA>, 2003, 1996, 2005, 2006, 2008, 2007, 1981, 1973, 2013, 1992, 2000, 2015,\n",
      " 2011, 1995, 2017, 2019, 2018, 1983, 2004, 2014, 2023, 2002, 2012, 1975, 1980,\n",
      " 1998, 1989, 1986, 1997, 1999, 2016, 2010, 2001, 1987, 2022, 2020, 2009, 2021,\n",
      " 1984, 2024, 1979, 1970, 1971, 1993, 1982, 1991, 2025, 1985, 1976, 1994, 1990,\n",
      " 1974, 2027, 1988, 1965, 1967, 2026, 1978, 1964, 1960, 2028, 1968, 1977, 1972,\n",
      " 2029]\n",
      "Length: 66, dtype: Int64\n",
      "\n",
      "Número de valores nulos: 567\n",
      "\n",
      "Contagem por Ano de Graduação:\n",
      "1960      2\n",
      "1964      2\n",
      "1965      1\n",
      "1967      1\n",
      "1968      2\n",
      "       ... \n",
      "2026      6\n",
      "2027      1\n",
      "2028      2\n",
      "2029      1\n",
      "<NA>    567\n",
      "Name: ano_conclusao_graduacao, Length: 66, dtype: Int64\n"
     ]
    }
   ],
   "source": [
    "# Exibir os valores únicos antes de qualquer manipulação\n",
    "print(\"Valores únicos antes da substituição:\")\n",
    "print(df['ano_conclusao_graduacao'].unique())\n",
    "\n",
    "# Substituir anos de conclusão da graduação abaixo de 1901 por NaN\n",
    "df['ano_conclusao_graduacao'] = df['ano_conclusao_graduacao'].apply(lambda x: x if x >= 1901 else np.nan)\n",
    "\n",
    "# Converter a coluna para 'Int64', que suporta NaN\n",
    "df['ano_conclusao_graduacao'] = df['ano_conclusao_graduacao'].astype('Int64')\n",
    "\n",
    "# Exibir os valores únicos após a substituição\n",
    "print(\"\\nValores únicos após a substituição:\")\n",
    "print(df['ano_conclusao_graduacao'].unique())\n",
    "\n",
    "# Contar valores nulos na coluna 'ano_conclusao_graduacao'\n",
    "nulos_ano_conclusao = df['ano_conclusao_graduacao'].isnull().sum()\n",
    "print(f\"\\nNúmero de valores nulos: {nulos_ano_conclusao}\")\n",
    "\n",
    "# Verificar contagem por ano após a substituição\n",
    "contagem_por_ano = df['ano_conclusao_graduacao'].value_counts(dropna=False).sort_index()\n",
    "print(\"\\nContagem por Ano de Graduação:\")\n",
    "print(contagem_por_ano)"
   ]
  },
  {
   "cell_type": "markdown",
   "id": "b1727c2d-55d1-4b14-b93d-faa7187f9d46",
   "metadata": {},
   "source": [
    "## ano_conclusao_mestrado"
   ]
  },
  {
   "cell_type": "code",
   "execution_count": 6,
   "id": "051844cc-6856-4c06-b0a0-dbd0377c49d1",
   "metadata": {},
   "outputs": [
    {
     "name": "stdout",
     "output_type": "stream",
     "text": [
      "Valores únicos antes da substituição:\n",
      "[   0 2005 2001 2018 2009 2015 2010 1989 1979 1996 2013 2019 2014 2017\n",
      " 2000 2020 2022 2021 2025 1980 1995 1994 1993 2016 2002 2007 2004    2\n",
      " 2003 2008 1988 2011 2012 2023 2006 2024    1 1983 1974 1977 1998 1978\n",
      " 1999   19 1991 1986 2026 1981 1992   -2   94 1972    3 1987 1971 1997\n",
      " 1985 1975 1976 1990    4   -1   20 1966 1973   -3    8  555   -4    9\n",
      "   66 1970 1900]\n",
      "\n",
      "Valores únicos após a substituição:\n",
      "<IntegerArray>\n",
      "[<NA>, 2005, 2001, 2018, 2009, 2015, 2010, 1989, 1979, 1996, 2013, 2019, 2014,\n",
      " 2017, 2000, 2020, 2022, 2021, 2025, 1980, 1995, 1994, 1993, 2016, 2002, 2007,\n",
      " 2004, 2003, 2008, 1988, 2011, 2012, 2023, 2006, 2024, 1983, 1974, 1977, 1998,\n",
      " 1978, 1999, 1991, 1986, 2026, 1981, 1992, 1972, 1987, 1971, 1997, 1985, 1975,\n",
      " 1976, 1990, 1966, 1973, 1970]\n",
      "Length: 57, dtype: Int64\n",
      "\n",
      "Número de valores nulos: 1817\n",
      "\n",
      "Contagem por Ano de Mestrado:\n",
      "1966       1\n",
      "1970       1\n",
      "1971       2\n",
      "1972       3\n",
      "1973       1\n",
      "1974       3\n",
      "1975       2\n",
      "1976       3\n",
      "1977       1\n",
      "1978       1\n",
      "1979       4\n",
      "1980       2\n",
      "1981       1\n",
      "1983       3\n",
      "1985       1\n",
      "1986       1\n",
      "1987       4\n",
      "1988       4\n",
      "1989       8\n",
      "1990       5\n",
      "1991       5\n",
      "1992       9\n",
      "1993       8\n",
      "1994      12\n",
      "1995      11\n",
      "1996      18\n",
      "1997      11\n",
      "1998      24\n",
      "1999      21\n",
      "2000      21\n",
      "2001      28\n",
      "2002      27\n",
      "2003      28\n",
      "2004      28\n",
      "2005      37\n",
      "2006      33\n",
      "2007      41\n",
      "2008      48\n",
      "2009      79\n",
      "2010      63\n",
      "2011      60\n",
      "2012      91\n",
      "2013      94\n",
      "2014     106\n",
      "2015     111\n",
      "2016     104\n",
      "2017     107\n",
      "2018     102\n",
      "2019      91\n",
      "2020      88\n",
      "2021     109\n",
      "2022      99\n",
      "2023     118\n",
      "2024     152\n",
      "2025      47\n",
      "2026      33\n",
      "<NA>    1817\n",
      "Name: ano_conclusao_mestrado, dtype: Int64\n"
     ]
    }
   ],
   "source": [
    "# Exibir os valores únicos antes de qualquer manipulação\n",
    "print(\"Valores únicos antes da substituição:\")\n",
    "print(df['ano_conclusao_mestrado'].unique())\n",
    "\n",
    "# Substituir anos de conclusão do mestrado abaixo de 1901 por NaN\n",
    "df['ano_conclusao_mestrado'] = df['ano_conclusao_mestrado'].apply(lambda x: x if x >= 1901 else np.nan)\n",
    "\n",
    "# Converter a coluna para 'Int64', que suporta NaN\n",
    "df['ano_conclusao_mestrado'] = df['ano_conclusao_mestrado'].astype('Int64')\n",
    "\n",
    "# Exibir os valores únicos após a substituição\n",
    "print(\"\\nValores únicos após a substituição:\")\n",
    "print(df['ano_conclusao_mestrado'].unique())\n",
    "\n",
    "# Contar valores nulos na coluna 'ano_conclusao_mestrado'\n",
    "nulos_ano_conclusao = df['ano_conclusao_mestrado'].isnull().sum()\n",
    "print(f\"\\nNúmero de valores nulos: {nulos_ano_conclusao}\")\n",
    "\n",
    "# Verificar contagem por ano após a substituição\n",
    "contagem_por_ano = df['ano_conclusao_mestrado'].value_counts(dropna=False).sort_index()\n",
    "print(\"\\nContagem por Ano de Mestrado:\")\n",
    "print(contagem_por_ano)"
   ]
  },
  {
   "cell_type": "markdown",
   "id": "d87f7f54-967b-4347-a6ae-416195ba924c",
   "metadata": {},
   "source": [
    "## ano_conclusao_doutorado"
   ]
  },
  {
   "cell_type": "code",
   "execution_count": 7,
   "id": "37d730e8-a080-48b6-9d22-76a35a3bc412",
   "metadata": {},
   "outputs": [
    {
     "name": "stdout",
     "output_type": "stream",
     "text": [
      "Valores únicos antes da substituição:\n",
      "[   0 2012 2006 2022 2013 2025 2020 1997 1999 2005 2018 2019 2007 2024\n",
      " 2017 1989 2016 2028 2011 2023 1986 2002 2010 2001 2008 2014 2015    2\n",
      " 2027 2029 2003 2004 2021 2026 1992 1985 1987 2009 1995 2000 1984 1974\n",
      "    1 1993 1996 1990   -2    3   -1 1988 1998   -3 1979 1994 1981 1973\n",
      " 1991 1980  458    5  666 1975   -8   -5 1983 1900]\n",
      "\n",
      "Valores únicos após a substituição:\n",
      "[   0 2012 2006 2022 2013 2025 2020 1997 1999 2005 2018 2019 2007 2024\n",
      " 2017 1989 2016 2028 2011 2023 1986 2002 2010 2001 2008 2014 2015 2027\n",
      " 2029 2003 2004 2021 2026 1992 1985 1987 2009 1995 2000 1984 1974 1993\n",
      " 1996 1990 1988 1998 1979 1994 1981 1973 1991 1980 1975 1983]\n",
      "\n",
      "Número de valores nulos: 0\n",
      "\n",
      "Contagem por Ano de Graduação:\n",
      "0       2868\n",
      "1973       2\n",
      "1974       2\n",
      "1975       1\n",
      "1979       1\n",
      "1980       2\n",
      "1981       1\n",
      "1983       1\n",
      "1984       2\n",
      "1985       3\n",
      "1986       1\n",
      "1987       4\n",
      "1988       2\n",
      "1989       2\n",
      "1990       1\n",
      "1991       1\n",
      "1992       2\n",
      "1993       6\n",
      "1994       1\n",
      "1995       4\n",
      "1996       2\n",
      "1997       5\n",
      "1998       6\n",
      "1999       5\n",
      "2000       8\n",
      "2001      13\n",
      "2002      11\n",
      "2003      10\n",
      "2004      14\n",
      "2005      15\n",
      "2006      18\n",
      "2007      23\n",
      "2008      18\n",
      "2009      18\n",
      "2010      31\n",
      "2011      19\n",
      "2012      29\n",
      "2013      45\n",
      "2014      38\n",
      "2015      40\n",
      "2016      48\n",
      "2017      37\n",
      "2018      46\n",
      "2019      69\n",
      "2020      55\n",
      "2021      53\n",
      "2022      78\n",
      "2023      67\n",
      "2024      72\n",
      "2025      54\n",
      "2026      31\n",
      "2027      28\n",
      "2028      18\n",
      "2029       1\n",
      "Name: ano_conclusao_doutorado, dtype: int64\n"
     ]
    }
   ],
   "source": [
    "# Exibir os valores únicos antes de qualquer manipulação\n",
    "print(\"Valores únicos antes da substituição:\")\n",
    "print(df['ano_conclusao_doutorado'].unique())\n",
    "\n",
    "# Substituir anos de conclusão da graduação abaixo de 1901 por 0\n",
    "df['ano_conclusao_doutorado'] = df['ano_conclusao_doutorado'].apply(lambda x: x if x >= 1901 else 0)\n",
    "\n",
    "# Exibir os valores únicos após a substituição\n",
    "print(\"\\nValores únicos após a substituição:\")\n",
    "print(df['ano_conclusao_doutorado'].unique())\n",
    "\n",
    "# Contar valores nulos na coluna 'ano_conclusao_graduacao'\n",
    "nulos_ano_conclusao = df['ano_conclusao_doutorado'].isnull().sum()\n",
    "print(f\"\\nNúmero de valores nulos: {nulos_ano_conclusao}\")\n",
    "\n",
    "# Verificar contagem por ano após a substituição\n",
    "contagem_por_ano = df['ano_conclusao_doutorado'].value_counts().sort_index()\n",
    "print(\"\\nContagem por Ano de Graduação:\")\n",
    "print(contagem_por_ano)"
   ]
  },
  {
   "cell_type": "markdown",
   "id": "91d1d498-2b44-49d4-9ab3-319a77ea2106",
   "metadata": {},
   "source": [
    "## faixa_renda_domiciliar"
   ]
  },
  {
   "cell_type": "code",
   "execution_count": 8,
   "id": "6c2a8ee0-d1da-4a49-b897-8ae4aed15c1c",
   "metadata": {},
   "outputs": [
    {
     "name": "stdout",
     "output_type": "stream",
     "text": [
      "Mais de 2 até 5      926\n",
      "Mais de 5 até 10     889\n",
      "Mais de 10 até 15    492\n",
      "Mais de 1 até 2      388\n",
      "Mais de 15 até 20    235\n",
      "Até 1                196\n",
      "Mais de 20           192\n",
      "Name: faixa_renda_domiciliar, dtype: int64\n"
     ]
    }
   ],
   "source": [
    "# Função para remover o texto 'salários-mínimos' ou 'salário-mínimo'\n",
    "def limpar_texto(texto):\n",
    "    if isinstance(texto, str):  # Verifica se o valor é uma string\n",
    "        return texto.replace('salários-mínimos', '').replace('salário-mínimo', '').strip()\n",
    "    return texto  # Retorna o valor original se não for uma string\n",
    "\n",
    "# Aplicar a função à coluna 'faixa_renda_domiciliar'\n",
    "df['faixa_renda_domiciliar'] = df['faixa_renda_domiciliar'].apply(limpar_texto)\n",
    "\n",
    "# Verificar o resultado\n",
    "faixa_renda_domiciliar = df['faixa_renda_domiciliar'].value_counts()\n",
    "print(faixa_renda_domiciliar)"
   ]
  },
  {
   "cell_type": "markdown",
   "id": "e21e5d02-6565-4c2e-931d-a7170ebad880",
   "metadata": {},
   "source": [
    "## responsavel_cuidado_familiar"
   ]
  },
  {
   "cell_type": "code",
   "execution_count": 9,
   "id": "2f033d81-9992-40d4-8b33-fbf4a00f551a",
   "metadata": {},
   "outputs": [
    {
     "name": "stdout",
     "output_type": "stream",
     "text": [
      "Não                           2103\n",
      "Filho(s)                       686\n",
      "Familiares Idosos              305\n",
      "Familiares Crianças             84\n",
      "Prefiro não responder           72\n",
      "Familiares com Deficiência      33\n",
      "Enteados                        19\n",
      "Name: responsavel_cuidado_familiar, dtype: int64\n"
     ]
    }
   ],
   "source": [
    "# Dicionário de mapeamento para simplificar os textos\n",
    "mapear_textos_cuidado_familiar = {\n",
    "    'Sim, filho/a (s)': 'Filho(s)',\n",
    "    'Sim, familiar(es) que é (são) idosos (as)': 'Familiares Idosos',\n",
    "    'Sim, familiar (es) que é (são) crianças': 'Familiares Crianças',\n",
    "    'Sim, familiar (es) que é (são) pessoa com deficiência': 'Familiares com Deficiência',\n",
    "    'Sim, enteados(a)': 'Enteados',\n",
    "    'Prefiro não responder': 'Prefiro não responder',\n",
    "    'Não': 'Não'\n",
    "}\n",
    "\n",
    "# Aplicar o mapeamento à coluna 'responsavel_cuidado_familiar'\n",
    "df['responsavel_cuidado_familiar'] = df['responsavel_cuidado_familiar'].replace(mapear_textos_cuidado_familiar)\n",
    "\n",
    "# Verificar o resultado\n",
    "responsavel_cuidado_familiar = df['responsavel_cuidado_familiar'].value_counts()\n",
    "print(responsavel_cuidado_familiar)"
   ]
  },
  {
   "cell_type": "markdown",
   "id": "98097094-44bf-47ac-9c26-b20be5b5d2b1",
   "metadata": {},
   "source": [
    "## quantidade_filhos"
   ]
  },
  {
   "cell_type": "code",
   "execution_count": 10,
   "id": "f2fa5695-3b43-4356-b296-8898066ef7d2",
   "metadata": {},
   "outputs": [
    {
     "name": "stdout",
     "output_type": "stream",
     "text": [
      "1 filha(o)               443\n",
      "Sem filhos               426\n",
      "2 filhas(os)             294\n",
      "3 filhas(os)              61\n",
      "4 filhas(os)              15\n",
      "5 ou mais filhas(os)       8\n",
      "Prefiro não responder      2\n",
      "Name: quantidade_filhos, dtype: int64\n"
     ]
    }
   ],
   "source": [
    "# Dicionário de mapeamento para simplificar os textos\n",
    "mapear_textos_quantidade_filhos = {\n",
    "    '1 filha (o)': '1 filha(o)',\n",
    "    '2 filhas (os)': '2 filhas(os)',\n",
    "    '3 filhas (os)': '3 filhas(os)',\n",
    "    '4 filhas (os)': '4 filhas(os)',\n",
    "    '5 filhas (os) ou mais': '5 ou mais filhas(os)',\n",
    "    'Não tenho filhos': 'Sem filhos',\n",
    "    'Prefiro não responder': 'Prefiro não responder'\n",
    "}\n",
    "\n",
    "# Aplicar o mapeamento à coluna 'quantidade_filhos'\n",
    "df['quantidade_filhos'] = df['quantidade_filhos'].replace(mapear_textos_quantidade_filhos)\n",
    "\n",
    "# Verificar o resultado\n",
    "quantidade_filhos = df['quantidade_filhos'].value_counts()\n",
    "print(quantidade_filhos)"
   ]
  },
  {
   "cell_type": "markdown",
   "id": "7af2749c-d338-493c-abd4-5426d6285562",
   "metadata": {},
   "source": [
    "## instituicao_nivel_mais_alto"
   ]
  },
  {
   "cell_type": "code",
   "execution_count": 11,
   "id": "1744898b-fd3f-425a-ab38-dc152b56957a",
   "metadata": {},
   "outputs": [
    {
     "name": "stdout",
     "output_type": "stream",
     "text": [
      "Pública                        2802\n",
      "Privada sem fins lucrativos     215\n",
      "Privada com fins lucrativos     192\n",
      "Name: instituicao_nivel_mais_alto, dtype: int64\n"
     ]
    }
   ],
   "source": [
    "# Dicionário de mapeamento para simplificar os textos\n",
    "mapear_textos_instituicao_nivel_mais_alto = {\n",
    "    'Pública': 'Pública',\n",
    "    'Privada com fins lucrativos': 'Privada com fins lucrativos',\n",
    "    'Privada sem fins lucrativos (confessionais, comunitárias e fundações)': 'Privada sem fins lucrativos',\n",
    "}\n",
    "\n",
    "# Aplicar o mapeamento à coluna 'quantidade_filhos'\n",
    "df['instituicao_nivel_mais_alto'] = df['instituicao_nivel_mais_alto'].replace(mapear_textos_instituicao_nivel_mais_alto)\n",
    "\n",
    "# Verificar o resultado\n",
    "instituicao_nivel_mais_alto = df['instituicao_nivel_mais_alto'].value_counts()\n",
    "print(instituicao_nivel_mais_alto)"
   ]
  },
  {
   "cell_type": "markdown",
   "id": "93346906",
   "metadata": {},
   "source": [
    "## ocupacao_profissional_atual"
   ]
  },
  {
   "cell_type": "code",
   "execution_count": 12,
   "id": "4400a1c3",
   "metadata": {},
   "outputs": [
    {
     "name": "stdout",
     "output_type": "stream",
     "text": [
      "Estudante De Pós-Graduação Bolsista                                                   345\n",
      "Docente De Universidade Pública                                                       344\n",
      "Desempregado(a)                                                                       241\n",
      "Docente Da Educação Básica Na Rede Pública                                            230\n",
      "Autônomo/Prestador De Serviço                                                         195\n",
      "                                                                                     ... \n",
      "Projetos Socioambientais                                                                1\n",
      "Atuo Como Profissional De Salvaguarda (Proteção E Garantia De Direitos) Em Uma Saf      1\n",
      "Docente Universidade Pública Aposentada                                                 1\n",
      "Terceirizada Em Empresa Pública (CLT)                                                   1\n",
      "Orientador Social                                                                       1\n",
      "Name: ocupacao_profissional_atual, Length: 835, dtype: int64\n"
     ]
    }
   ],
   "source": [
    "# Remover o ponto final das frases na coluna 'ocupacao_profissional_atual' e capitalizar as palavras\n",
    "df['ocupacao_profissional_atual'] = df['ocupacao_profissional_atual'].str.rstrip('.').str.title()\n",
    "\n",
    "# Fazer as substituições específicas\n",
    "df['ocupacao_profissional_atual'] = df['ocupacao_profissional_atual'].replace({\n",
    "    'Desempregado (A)': 'Desempregado(a)',\n",
    "    'Terceirizada Em Empresa Pública (Clt)': 'Terceirizada Em Empresa Pública (CLT)'\n",
    "})\n",
    "\n",
    "# Contar os valores\n",
    "ocupacao_profissional_atual = df['ocupacao_profissional_atual'].value_counts()\n",
    "\n",
    "# Exibir o resultado\n",
    "print(ocupacao_profissional_atual)"
   ]
  },
  {
   "cell_type": "markdown",
   "id": "fd5ae4b1",
   "metadata": {},
   "source": [
    "## Criação da coluna empregado"
   ]
  },
  {
   "cell_type": "code",
   "execution_count": 13,
   "id": "20568506",
   "metadata": {},
   "outputs": [
    {
     "name": "stdout",
     "output_type": "stream",
     "text": [
      "       ocupacao_profissional_atual desempregado\n",
      "0                              NaN          Não\n",
      "1                              NaN          Não\n",
      "2                              NaN          Não\n",
      "3  Docente De Universidade Privada          Não\n",
      "4                              NaN          Não\n",
      "Não    3691\n",
      "Sim     241\n",
      "Name: desempregado, dtype: int64\n"
     ]
    }
   ],
   "source": [
    "# Criar a nova coluna 'desempregado' com base na coluna 'ocupacao_profissional_atual'\n",
    "df['desempregado'] = df['ocupacao_profissional_atual'].apply(\n",
    "    lambda x: 'Sim' if x == 'Desempregado(a)' else 'Não'\n",
    ")\n",
    "\n",
    "# Exibir as primeiras linhas para verificar o resultado\n",
    "print(df[['ocupacao_profissional_atual', 'desempregado']].head())\n",
    "\n",
    "# Contar os valores\n",
    "desempregado = df['desempregado'].value_counts()\n",
    "\n",
    "# Exibir o resultado\n",
    "print(desempregado)"
   ]
  },
  {
   "cell_type": "markdown",
   "id": "e474c9ae-4097-4b97-9d73-a19ef83fb7f0",
   "metadata": {},
   "source": [
    "## tipo_vinculo_ocupacao_atual"
   ]
  },
  {
   "cell_type": "code",
   "execution_count": 14,
   "id": "7291aa2b-9e3c-4e65-842e-609a503b7345",
   "metadata": {},
   "outputs": [
    {
     "name": "stdout",
     "output_type": "stream",
     "text": [
      "Empregado(a) Formal no Setor Privado               605\n",
      "Bolsista                                           498\n",
      "Autônomo(a)/Prestador(a) de Serviço                445\n",
      "Servidor(a) Estatutário Federal                    435\n",
      "Servidor(a) Estatutário Estadual                   324\n",
      "Empregado(a) Formal no Terceiro Setor              182\n",
      "Servidor(a) Estatutário Municipal                  112\n",
      "Servidor(a) Temporário no Âmbito Estadual           95\n",
      "Servidor(a) Público Celetista Estadual              51\n",
      "Servidor(a) Público Celetista Federal               47\n",
      "Empresário(a)                                       46\n",
      "Servidor(a) Comissionado (a) no Âmbito Estadual     40\n",
      "Servidor(a) Temporário no Âmbito Federal            32\n",
      "Servidor(a) Temporário no Âmbito Municipal          29\n",
      "Servidor(a) Público Celetista Municipal             26\n",
      "Servidor(a) Comissionado(a) no Âmbito Municipal     22\n",
      "Servidor(a) Comissionado(a) no Âmbito Federal       18\n",
      "Name: tipo_vinculo_ocupacao_atual, dtype: int64\n"
     ]
    }
   ],
   "source": [
    "# Criar um dicionário de mapeamento para os valores de 'tipo_vinculo_ocupacao_atual'\n",
    "mapeamento_ocupacao = {\n",
    "    \"Empregado(a) formal no setor privado\": \"Empregado(a) Formal no Setor Privado\",\n",
    "    \"Bolsista\": \"Bolsista\",\n",
    "    \"Autônomo(a)/prestador(a) de serviço\": \"Autônomo(a)/Prestador(a) de Serviço\",\n",
    "    \"Servidor(a) estatutário federal\": \"Servidor(a) Estatutário Federal\",\n",
    "    \"Servidor(a) estatutário estadual\": \"Servidor(a) Estatutário Estadual\",\n",
    "    \"Empregado(a) formal no terceiro setor\": \"Empregado(a) Formal no Terceiro Setor\",\n",
    "    \"Servidor(a) estatutário municipal\": \"Servidor(a) Estatutário Municipal\",\n",
    "    \"Servidor (a) temporário no âmbito estadual\": \"Servidor(a) Temporário no Âmbito Estadual\",\n",
    "    \"Servidor(a) público celetista estadual\": \"Servidor(a) Público Celetista Estadual\",\n",
    "    \"Servidor(a) público celetista federal\": \"Servidor(a) Público Celetista Federal\",\n",
    "    \"Empresário(a)\": \"Empresário(a)\",\n",
    "    \"Servidor (a) comissionado (a) no âmbito estadual\": \"Servidor(a) Comissionado (a) no Âmbito Estadual\",\n",
    "    \"Servidor (a) temporário no âmbito federal\": \"Servidor(a) Temporário no Âmbito Federal\",\n",
    "    \"Servidor (a) temporário no âmbito municipal\": \"Servidor(a) Temporário no Âmbito Municipal\",\n",
    "    \"Servidor(a) público celetista municipal\": \"Servidor(a) Público Celetista Municipal\",\n",
    "    \"Servidor (a) comissionado (a) no âmbito municipal\": \"Servidor(a) Comissionado(a) no Âmbito Municipal\",\n",
    "    \"Servidor (a) comissionado (a) no âmbito federal\": \"Servidor(a) Comissionado(a) no Âmbito Federal\",\n",
    "}\n",
    "\n",
    "# Aplicar o mapeamento à coluna 'tipo_vinculo_ocupacao_atual'\n",
    "df['tipo_vinculo_ocupacao_atual'] = df['tipo_vinculo_ocupacao_atual'].map(mapeamento_ocupacao)\n",
    "\n",
    "# Contar os valores após o mapeamento\n",
    "tipo_vinculo_ocupacao_atual = df['tipo_vinculo_ocupacao_atual'].value_counts()\n",
    "\n",
    "# Exibir o resultado\n",
    "print(tipo_vinculo_ocupacao_atual)"
   ]
  },
  {
   "cell_type": "markdown",
   "id": "016012d4-d346-494c-9eda-81bf3a948f19",
   "metadata": {},
   "source": [
    "## caracterizacao_organizacao"
   ]
  },
  {
   "cell_type": "code",
   "execution_count": 15,
   "id": "32759f4e-2856-47be-b552-d36a84e7e3bf",
   "metadata": {},
   "outputs": [
    {
     "name": "stdout",
     "output_type": "stream",
     "text": [
      "\n",
      "Contagem por caracterização da organização atual:\n",
      "Instituição de Ensino Superior Pública                              862\n",
      "Empresa Privada                                                     417\n",
      "Instituição de Ensino da Rede Básica Pública                        324\n",
      "Organização do Terceiro Setor                                       221\n",
      "Assembleia Legislativa Estadual                                     143\n",
      "                                                                   ... \n",
      "Empresa de economia mista (Banrisul)                                  1\n",
      "Poder executivo Municipal                                             1\n",
      "Pequena empresa em formação                                           1\n",
      "Bolsista, com vínculo a IES, mas que também atua em uma ONG.          1\n",
      "Centro de Referência Especializado em Assistência Social - CREAS      1\n",
      "Name: caracterizacao_organizacao, Length: 384, dtype: int64\n"
     ]
    }
   ],
   "source": [
    "# Criar um dicionário de mapeamento para os valores de 'caracterizacao_organizacao'\n",
    "mapear_textos_caracterizacao_organizacao = {\n",
    "    \"Instituição de ensino superior pública\": \"Instituição de Ensino Superior Pública\",\n",
    "    \"Instituição de ensino superior privada com fins lucrativos\": \"Instituição de Ensino Superior Privada com Fins Lucrativos\",\n",
    "    \"Instituição de ensino superior privada sem fins lucrativos (confessionais, comunitárias e fundações)\": \"Instituição de Ensino Superior Privada sem Fins Lucrativos\",\n",
    "    \"Instituição de ensino da rede básica pública\": \"Instituição de Ensino da Rede Básica Pública\",\n",
    "    \"Instituição de ensino da rede básica privada\": \"Instituição de Ensino da Rede Básica Privada\",\n",
    "    \"Instituição de ensino da rede básica privada sem fins lucrativos\": \"Instituição de Ensino da Rede Básica Privada sem Fins Lucrativos\",\n",
    "    \"Empresa pública/autarquia\": \"Empresa Pública/Autarquia\",\n",
    "    \"Congresso Nacional\": \"Congresso Nacional\",\n",
    "    \"Assembleia legislativa estadual\": \"Assembleia Legislativa Estadual\",\n",
    "    \"Assembleia legislativa municipal\": \"Assembleia Legislativa Municipal\",\n",
    "    \"Órgãos públicos de controle (Tribunais de contas, Ministério Público etc.)\": \"Órgãos Públicos de Controle\",\n",
    "    \"Empresa privada\": \"Empresa Privada\",\n",
    "    \"Organização do terceiro setor (ONGs, OSCIPs, OSs, cooperativas, associações, fundações etc.)\": \"Organização do Terceiro Setor\",\n",
    "    \"Empresa própria ou da qual você é sócio(a)\": \"Empresa Própria ou Sócio(a)\"\n",
    "}\n",
    "\n",
    "# Remover espaços em branco nas bordas dos valores na coluna\n",
    "df['caracterizacao_organizacao'] = df['caracterizacao_organizacao'].str.strip()\n",
    "\n",
    "# Aplicar o mapeamento mantendo os valores originais para strings não listadas\n",
    "df['caracterizacao_organizacao'] = df['caracterizacao_organizacao'].apply(\n",
    "    lambda x: mapear_textos_caracterizacao_organizacao.get(x, x)\n",
    ")\n",
    "\n",
    "# Contar os valores após o mapeamento\n",
    "caracterizacao_organizacao = df['caracterizacao_organizacao'].value_counts()\n",
    "\n",
    "# Exibir o resultado\n",
    "print(\"\\nContagem por caracterização da organização atual:\")\n",
    "print(caracterizacao_organizacao)"
   ]
  },
  {
   "cell_type": "markdown",
   "id": "2bdd25d9-c7c7-43f8-8236-747588916bd8",
   "metadata": {},
   "source": [
    "## perfil_empresa_privada"
   ]
  },
  {
   "cell_type": "code",
   "execution_count": 16,
   "id": "11816c99-9df2-42fa-9437-98fdf1047519",
   "metadata": {},
   "outputs": [
    {
     "name": "stdout",
     "output_type": "stream",
     "text": [
      "Consultoria/Assessoria em Pesquisa                                  165\n",
      "Empresa do Setor de Serviços                                        158\n",
      "Consultoria/Assessoria em Meio Ambiente e Sustentabilidade           82\n",
      "Consultoria/Assessoria em Ensino e Educação                          72\n",
      "Empresa do Setor Industrial                                          54\n",
      "                                                                   ... \n",
      "Comércio Exterior                                                     1\n",
      "Consultoria gestão de projetos sociais, culturais e educacionais      1\n",
      "Consultoria de inovação                                               1\n",
      "Fundação do terceiro setor sobre educação e cultura                   1\n",
      "Rede social                                                           1\n",
      "Name: perfil_empresa_privada, Length: 278, dtype: int64\n"
     ]
    }
   ],
   "source": [
    "# Criar um dicionário de mapeamento para os valores de 'perfil_empresa_privada'\n",
    "mapear_textos_perfil_empresa_privada = {\n",
    "    \"Consultoria/assessoria econômica ou financeira\": \"Consultoria/Assessoria Econômica ou Financeira\",\n",
    "    \"Consultoria/assessoria econômica em relações institucionais e governamentais\": \"Consultoria/Assessoria Econômica em Relações Institucionais e Governamentais\",\n",
    "    \"Consultoria/assessoria em pesquisa\": \"Consultoria/Assessoria em Pesquisa\",\n",
    "    \"Consultoria/assessoria em ensino e educação\": \"Consultoria/Assessoria em Ensino e Educação\",\n",
    "    \"Consultoria/assessoria em meio ambiente e sustentabilidade\": \"Consultoria/Assessoria em Meio Ambiente e Sustentabilidade\",\n",
    "    \"Consultoria/assessoria em governança social e diversidade\": \"Consultoria/Assessoria em Governança Social e Diversidade\",\n",
    "    \"Consultoria/assessoria em cultura/projetos culturais\": \"Consultoria/Assessoria em Cultura/Projetos Culturais\",\n",
    "    \"Empresa do setor industrial\": \"Empresa do Setor Industrial\",\n",
    "    \"Empresa do setor de serviços\": \"Empresa do Setor de Serviços\",\n",
    "    \"Empresa do setor financeiro\": \"Empresa do Setor Financeiro\"\n",
    "}\n",
    "\n",
    "# Aplicar o mapeamento mantendo os valores originais para strings não listadas\n",
    "df['perfil_empresa_privada'] = df['perfil_empresa_privada'].apply(\n",
    "    lambda x: mapear_textos_perfil_empresa_privada.get(x, x)\n",
    ")\n",
    "\n",
    "# Contar os valores após o mapeamento\n",
    "perfil_empresa_privada = df['perfil_empresa_privada'].value_counts()\n",
    "\n",
    "# Exibir o resultado\n",
    "print(perfil_empresa_privada)"
   ]
  },
  {
   "cell_type": "markdown",
   "id": "f3e9ec4d",
   "metadata": {},
   "source": [
    "## perfil_ramo_atuacao_publico"
   ]
  },
  {
   "cell_type": "code",
   "execution_count": 17,
   "id": "bcf1c615",
   "metadata": {},
   "outputs": [
    {
     "name": "stdout",
     "output_type": "stream",
     "text": [
      "Educação                  809\n",
      "Pesquisa                  298\n",
      "Cultura                    53\n",
      "Direitos Humanos           51\n",
      "Desenvolvimento Social     46\n",
      "                         ... \n",
      "governança                  1\n",
      "Orçamento e Controle        1\n",
      "Marketing                   1\n",
      "Gestão Governamental        1\n",
      "Regulação                   1\n",
      "Name: perfil_ramo_atuacao_publico, Length: 166, dtype: int64\n"
     ]
    }
   ],
   "source": [
    "# Criar um dicionário de mapeamento para os valores de 'perfil_ramo_atuacao_publico'\n",
    "mapear_textos_ramo_atuacao_publico = {\n",
    "    \"Educação\": \"Educação\",\n",
    "    \"Pesquisa\": \"Pesquisa\",\n",
    "    \"Cultura\": \"Cultura\",\n",
    "    \"Esporte\": \"Esporte\",\n",
    "    \"Justiça\": \"Justiça\",\n",
    "    \"Agricultura\": \"Agricultura\",\n",
    "    \"Meio ambiente e sustentabilidade\": \"Meio Ambiente e Sustentabilidade\",\n",
    "    \"Direitos Humanos\": \"Direitos Humanos\",\n",
    "    \"Planejamento urbano e territorial\": \"Planejamento Urbano e Territorial\",\n",
    "    \"Desenvolvimento social\": \"Desenvolvimento Social\",\n",
    "    \"Assistência social\": \"Assistência Social\",\n",
    "    \"Proteção social\": \"Proteção Social\",\n",
    "    \"Assessoria parlamentar\": \"Assessoria Parlamentar\"\n",
    "}\n",
    "\n",
    "# Aplicar o mapeamento mantendo os valores originais para strings não listadas\n",
    "df['perfil_ramo_atuacao_publico'] = df['perfil_ramo_atuacao_publico'].apply(\n",
    "    lambda x: mapear_textos_ramo_atuacao_publico.get(x, x)\n",
    ")\n",
    "\n",
    "# Contar os valores após o mapeamento\n",
    "perfil_ramo_atuacao_publico = df['perfil_ramo_atuacao_publico'].value_counts()\n",
    "\n",
    "# Exibir o resultado\n",
    "print(perfil_ramo_atuacao_publico)"
   ]
  },
  {
   "cell_type": "markdown",
   "id": "e5d66335-6027-403e-a86f-d4e8ab7aa276",
   "metadata": {},
   "source": [
    "## expectativas_iniciais_profissao"
   ]
  },
  {
   "cell_type": "code",
   "execution_count": 18,
   "id": "59c9b948-f4a1-4e1f-90a0-e84c1a1be27d",
   "metadata": {},
   "outputs": [
    {
     "name": "stdout",
     "output_type": "stream",
     "text": [
      "Ser Professor E Pesquisador Em Instituições Públicas De Ensino                      1329\n",
      "Contribuir Para A Produção De Conhecimento Científico Na Minha Área De Interesse     514\n",
      "Avançar Na Minha Carreira Profissional Fora Do Ambiente Acadêmico                    374\n",
      "Desenvolver Habilidades De Pesquisa E Análise De Dados                               299\n",
      "Explorar Novas Oportunidades De Carreira Além Do Campo Das Ciências Sociais          177\n",
      "                                                                                    ... \n",
      "Atuar Com Políticas Públicas                                                           1\n",
      "Gestão De Políticas Publicas                                                           1\n",
      "Estudo Da Sociedade Brasileira, Das Relações Sociais                                   1\n",
      "Transformar A Qualidade De Vida Das Pessoas                                            1\n",
      "Trabalhar Na Área Social                                                               1\n",
      "Name: expectativas_iniciais_profissao, Length: 138, dtype: int64\n"
     ]
    }
   ],
   "source": [
    "# Remover o ponto final das frases na coluna 'expectativas_iniciais_profissao' e capitalizar as palavras\n",
    "df['expectativas_iniciais_profissao'] = df['expectativas_iniciais_profissao'].str.rstrip('.').str.title()\n",
    "\n",
    "# Contar os valores\n",
    "expectativas_iniciais_profissao = df['expectativas_iniciais_profissao'].value_counts()\n",
    "\n",
    "# Exibir o resultado\n",
    "print(expectativas_iniciais_profissao)"
   ]
  },
  {
   "cell_type": "code",
   "execution_count": 19,
   "id": "a28dcec5-8f27-4bb1-b11e-9da11340d010",
   "metadata": {},
   "outputs": [
    {
     "name": "stdout",
     "output_type": "stream",
     "text": [
      "Contagem de 'expectativas_iniciais_profissao':\n",
      "Ser Professor E Pesquisador Em Instituições Públicas De Ensino                      1329\n",
      "Contribuir Para A Produção De Conhecimento Científico Na Minha Área De Interesse     514\n",
      "Avançar Na Minha Carreira Profissional Fora Do Ambiente Acadêmico                    374\n",
      "Desenvolver Habilidades De Pesquisa E Análise De Dados                               299\n",
      "Explorar Novas Oportunidades De Carreira Além Do Campo Das Ciências Sociais          177\n",
      "Outra                                                                                135\n",
      "Conectar-Me Com Uma Rede De Profissionais E Acadêmicos Na Minha Área De Estudo        37\n",
      "Ser Professor E Pesquisador Em Instituições Privadas De Ensino                        34\n",
      "Name: expectativas_iniciais_profissao, dtype: int64\n",
      "\n",
      "Opções abertas em 'expectativas_iniciais_profissao_outro':\n",
      "['Subsidiar Minha Militância Político-Partidária E Sindical'\n",
      " 'Produzir Conhecimento Para Subsidiar Lutas Sociais'\n",
      " 'Eu Queria Ser Jornalista E Ciências Sociais Seria Uma Formação Complementar'\n",
      " 'Eu Não Sabia' 'Ensino, Independentemente De Onde'\n",
      " 'Não Tinha Uma Visão Profissional Bem Definida Quando Entrei Na Graduação. Mas Esperava Ter Mais Oportunidades De Trabalho'\n",
      " 'Trabalhar Como Cientista Social Em Algum Órgão Público'\n",
      " 'Ter Um Emprego E Pagar As Contas'\n",
      " 'Conhecer A Área De Estudos E Ter Envolvimento Com Lugares De Pensamento Crítico'\n",
      " 'A Escola Pelas Ciências Sociais Se Deu Por Uma (Falsa) Ideia De Seu Vínculo Com O Desenho De Políticas Públicas. Mas Eu Não Tinha Uma Ideia Clara Do Que Uma Formação Em Ciências Sociais Significaria Em Termos Profissionais, Pois Todas As Opções Apresentadas Acima Só Ficaram Mais Claras Ao Final Da Graduação'\n",
      " 'Ingressar Na Política'\n",
      " 'Contribuir Para O Enfrentamento De Problemas Sociais Através De Uma Compreensão Mais Aprofundada Das Dinâmicas Socioculturais'\n",
      " 'Pesquisa Com Povos Indígenas'\n",
      " 'Iniciei Pensando Em Mercado De Trabalho, Empresa. Quando Vi Que Não Havia Muita Opção Nesta Área Logo Que Entrei No Curso, Optei Em Focar Na Carreira Acadêmica'\n",
      " 'Contribuir Para A Produção De Conhecimento Para Intervenção Social'\n",
      " 'Entrei No Curso Porque Queria Apenas Uma Coisa: Viver. Não Pensei Tanto Em Mercado, Apenas Percebi Que Nos Últimos Anos Fui Me Identificando Com Certos Assuntos E Que Eu Merecia Mais Uma Chance De Viver,'\n",
      " 'Usar O Conhecimento Adquirido Na Produção De Políticas Públicas, Transformação De Realidade E Garantia De Direitos A Minorias'\n",
      " 'Estudar Nova Área'\n",
      " 'Ascender Socialmente E Ter Oportunidades Melhores De Emprego, Uma Vez Que Ninguém Da Minha Família Teve Oportunidade De Fazer Faculdade'\n",
      " 'Eu Queria Adquirir Repertório Para Trabalhar Na Produção De Livros'\n",
      " 'Serviço Público' 'Ser Diplomata'\n",
      " 'Ser Preofessor De Sociologia No Ensino Médio Publico E Privado'\n",
      " 'Contribuir Para A Produção Do Conhecimento E Formação Em Áreas De Articulação Entre Ciências Sociais E Educação'\n",
      " 'Ser Político Com Qualidade'\n",
      " 'Entrei Sem Perspectiva Definida. Fiquei Muitos Anos Como Profissional Da Educação Básica'\n",
      " 'Ser Professora Da Rede Estadual De Ensino'\n",
      " 'Obter Conhecimento Nas Temáticas Desenvolvidas Pelos Estudos Em Ciências Sociais'\n",
      " 'Interesse Pela Área Do Conhecimento Das Ciências Sociais. Não Havia Preocupações Profissionais Envolvidas Na Época'\n",
      " 'Ampliar Meus Conhecimentos' 'Não Tinha Expectativas Direcionadas'\n",
      " 'Aprender' 'Ser Professor Da Rede Pública No Ensino Médio'\n",
      " 'Passar Num Concurso Público'\n",
      " 'Transformar A Qualidade De Vida Das Pessoas'\n",
      " 'Estudo Da Sociedade Brasileira, Das Relações Sociais'\n",
      " 'Gestão De Políticas Publicas' 'Atuar Com Políticas Públicas'\n",
      " 'Construir Um Pensamento Crítico E Revolucionário, Com Vistas A Grandes Mudanças Sociais'\n",
      " 'Ser Professora E/Ou Pesquisadora No Exterior' 'Mudar O Mundo'\n",
      " 'Realizar Um Trabalho Relevante Para A Sociedade'\n",
      " 'Trabalhar Em Iniciativas Conprometidas Com Mudamcas Sociais, Da Sociedade Xivil, Mercado Ou Setor Publico'\n",
      " 'Não Tenho Expectativa' 'Trabalho No Terceiro Setor'\n",
      " 'Trabalhar Na Política Com Assessoria Parlamentar'\n",
      " 'Não Tinha Objetivos Claros' 'Seguir Carreira Política'\n",
      " 'Explorar A Área De Assessoria Parlamentar'\n",
      " 'Trabalhar Em Museu Como Antropóloga' 'Ser Professor'\n",
      " 'Tinha A Ideia Vaga De Me Tornar Arqueóloga E, Para Isso, Sabia Que Precisava De Uma Graduação Em Ciências Sociais'\n",
      " 'Não Conhecia Bem O Curso. Esperava Algum Emprego Na Área, Mas Não Sabia Bem Qual'\n",
      " 'Contribuir No Apoio À Qualidade De Vida Das Comunidades Com As Quais Atuo'\n",
      " 'Ser Pesquisadora Em Institutos De Pesquisa'\n",
      " 'Transformar A Realidade Social' 'Professor Educação Básica'\n",
      " 'Fortalecer O Movimento Social Que Atuo'\n",
      " 'Ser Professor De Sociologia No Ensino Médio'\n",
      " 'Entrei Na Ciências Sociais Por Uma Questão Intelectual-Política Que Não Necessariamente Se Traduzia Em Uma Visão Profissional Específica'\n",
      " 'Trabalhar Com Consultoria Politica' 'Não Sabia'\n",
      " 'Contribuir Para Melhorias Na Sociedade'\n",
      " 'Para Mim Não Estava Claro Qual Poderia Ser A Minha Atuação, Talvez Docência, Mas Não Pensava Na Atuação No Ensino Superior Ao Iniciar A Faculdade'\n",
      " 'Eu Não Sabia Exatamente O Que Estava Escolhendo Aos 17 Anos! =)'\n",
      " 'Participar Da Política Partidária'\n",
      " 'Ser Pesquisadora No Setor Público Ou No Setor Privado'\n",
      " 'Ter Conhecimento Acerca Do Ser Humano, Não Possuía Informação Sobre Carreira E Pesquisa Científica'\n",
      " 'Desenvolver Atividades No 3º Setor' 'Ser Prefeito Da Minha Cidade'\n",
      " 'Ser Professor De Ensino Médio'\n",
      " 'Ativista, Intelectual Orgânico Da Revolução. (Risos)'\n",
      " 'Atuar No Setor Público Em Área Compatível Com A Minha Formação E Lecionar Em Sala De Aula (Docência \"Corporativa\" E Ensino Superior)'\n",
      " 'Trabalho Com Políticas Públicas'\n",
      " 'Atuar Para A Transformação Da Sociedade' 'Não Tinha Expectativas'\n",
      " 'Agir Sobre O Mundo' 'Não Sabia Quando Ingressei'\n",
      " 'Trabalhar Com Políticas Sociais'\n",
      " 'Assessorar Partidos, Políticos, Organizações Sociais E Populares Com Pesquisas E Análises Sociopolíticas'\n",
      " 'Trabalhar No Corporativo'\n",
      " 'Eu Era Tão Jovem E Ingênuo Quando Ingressei Na Faculdade, Não Tinha Expectativa Profissinal Nenhuma, Só Queria O Conhecimento Das Ciências Sociais. Minha Profissionalização Na Área Foi Consequência Que Eu Não Previa Nem Planejei No Início'\n",
      " 'Não Conhecia O Curso, Optei Pelo Curso Pois Na Instituição Que Ingressei Na Havia A Graduação Em Psicologia'\n",
      " 'Trabalhar No Terceiro Setor' 'Transformação Social'\n",
      " 'Como Minha Área De Foco É A Ciência Política E Relações Internacionais, Minhas Aspirações São Em Relação A Ser Aprovada Em Concurso Público Para A Área. Admito Que Pretendo Migrar Para Outra Área Enquanto Não Sou Aprovada No Concurso, Pois Preciso Trabalhar E Gerar Dinheiro, O Que Meu Título Acadêmico Não Proporciona'\n",
      " 'Eu Não Sabia O Que Eu Estava Fazendo. Eu Amava A Sociologia'\n",
      " 'A Pergunta 28 Está Equivocada. Porque Apesar De Minha Expectativa Ao Início Ter Sido Uma, Eu Hoje Considero Que Superei Minhas Expectativas, Mesmo Não Tendo Nada A Ver Com A Minha Expectativa Inicial, Que Era Ser Professor(A). Mas Isso Não Se Deve À Minha Graduação, Se É Que É Isso Que Vocês Querem Avaliar'\n",
      " 'Contribuir Para A Produção De Conhecimento Em Sala De Aula, E Para Os Projetos Sociais Na Ong, Na Qual Também Trabalho, Até Hoje'\n",
      " 'Contribuir À Autoconsciência Social'\n",
      " 'Ter Formação De Ensino Superior Com Oportunidades De Emprego Melhores E, Com Isso, Conseguir Me Sustentar'\n",
      " 'Avançar Na Minha Carreira Profissional Dentro Do Ambiente Acadêmico'\n",
      " 'Quando Ingressei Na Graduação, Não Tinha Expectativas Claras Em Relação À Carreira Na Área'\n",
      " 'Não Tinha Muita Pretensão. Foi Minha Segunda Opção No Vestibular. Mal Sabia O Que Eram As Ciências Sociais. Hoje Aspiro Ser Professor E Pesquisador Em Instituição Pública De Ensino'\n",
      " 'Trabalhar Na Área Da Política, Principalmente, Com Escrita E Análise'\n",
      " 'Políticas Públicas' 'Fazer Teatro Político' 'Trabalhar Com Política'\n",
      " 'Desenvolver Políticas Públicas'\n",
      " 'Comecei Porque Queria Aprofundamentos Teóricos. Inicialmente Queria Fazer Jornalismo E Achei Que Ciências Sociais Seria Um Curso Mais Profundo. Mas Não Sabia Bem O Que Era'\n",
      " 'Ser Professor E Contribuir Com Meu Conhecimento Na Escola Pública E Comunidade'\n",
      " 'Contribuir Para A Transformação Social Do Pais. Tinha Participação Em Movimentos Sociais, Razão Principal Que Me Levou A Cursar Ciências Sociais'\n",
      " 'Não Tinha Muitas Expectativas Pois Não Tinha Muita Clareza Sobre A Carreira'\n",
      " 'Contribuir Com Políticas Públicas E Desenvolvimento Social'\n",
      " 'Conseguir Acessar O Ensino'\n",
      " 'Interesse Acadêmico Pela Área Das Ciências Sociais' 'Ter Curso Superior'\n",
      " 'Contribuir Com Projetos Sociais' 'Não Tinha Ideia'\n",
      " 'Ser Como Docente De Ensino Médio, Preferencial Mas Nao Necessariamente Em Instituições Publicas, E/Ou Lecionar Em Universidades Privadas'\n",
      " 'Não Tinha Uma Pretensão Definida'\n",
      " 'Pesquisar (Só, Não Pensava Em Que Tipo De Instituição)'\n",
      " 'Trabalhar Na Área De Responsabilidade Social'\n",
      " 'Não Cursei Ciências Sociais Na Graduação'\n",
      " 'Eu Mal Sabia O Que Era Ciências Sociais. Só Gostava De Geografia E História, Rs'\n",
      " 'Ingressei No Curso A Fim De Obter Um Curso Superior. Passei A Gostar E Por Isso Finalizei. No Entanto, É Extremamente Frustrante Ser Graduada Em Uma Área Sem Oportunidade Nenhuma No Meu Estado. Na Verdade, Em Todo O País As Oportunidades São Poucas Para Quem Não Deseja Seguir A Carreira Acadêmica'\n",
      " 'Um Pouco De Tudo Listado Acima' 'Apenas Conhecimento'\n",
      " 'Motivos Políticos' 'Contribuir Para A Melhoria Da Vida'\n",
      " 'Atuar Como Pesquisador Na Área Em Instituições De Pesquisa'\n",
      " 'Atuar Na Area De Desenvolvimento, Programas Sociais'\n",
      " 'Conceber E Implementar Políticas Públicas Em Escala Políticas'\n",
      " 'Ser Pesquisador Social E Analisa De Dados'\n",
      " 'Não Lembro. Era Puro Interesse Pelos Temas'\n",
      " 'Empregabilidade Numa Área Do Conhecimento Com Que Eu Tivesse Interesse'\n",
      " 'Ser Professora Da Educação Básica' 'Transformar Esse Mundo Louco'\n",
      " 'Quando Ingressei Na Faculdade Não Tinha Verdadeira Noção Do Que Eram As Ciências Sociais'\n",
      " 'Desenvolver Conhecimentos E Habilidades Que Contribuíssem Com A Promoção Da Justiça Social'\n",
      " 'Trabalhar Na Área Social']\n"
     ]
    }
   ],
   "source": [
    "# Lista de opções fechadas (já normalizadas)\n",
    "opcoes_fechadas = [\n",
    "    \"Contribuir Para A Produção De Conhecimento Científico Na Minha Área De Interesse\",\n",
    "    \"Ser Professor E Pesquisador Em Instituições Públicas De Ensino\",\n",
    "    \"Ser Professor E Pesquisador Em Instituições Privadas De Ensino\",\n",
    "    \"Desenvolver Habilidades De Pesquisa E Análise De Dados\",\n",
    "    \"Avançar Na Minha Carreira Profissional Fora Do Ambiente Acadêmico\",\n",
    "    \"Conectar-Me Com Uma Rede De Profissionais E Acadêmicos Na Minha Área De Estudo\",\n",
    "    \"Explorar Novas Oportunidades De Carreira Além Do Campo Das Ciências Sociais\"\n",
    "]\n",
    "\n",
    "# Função para normalizar o texto\n",
    "def normalizar_texto(texto):\n",
    "    if isinstance(texto, str):\n",
    "        return texto.strip().rstrip('.').title()\n",
    "    return texto\n",
    "\n",
    "# Criar uma nova coluna 'expectativas_iniciais_profissao_outro' para armazenar as respostas abertas antes da normalização\n",
    "df['expectativas_iniciais_profissao_outro'] = df['expectativas_iniciais_profissao'].apply(\n",
    "    lambda x: normalizar_texto(x) if normalizar_texto(x) not in opcoes_fechadas else None\n",
    ")\n",
    "\n",
    "# Normalizar as strings na coluna 'expectativas_iniciais_profissao'\n",
    "df['expectativas_iniciais_profissao'] = df['expectativas_iniciais_profissao'].apply(normalizar_texto)\n",
    "\n",
    "# Categorizar todas as respostas que não correspondem às opções fechadas como 'Outra'\n",
    "df['expectativas_iniciais_profissao'] = df['expectativas_iniciais_profissao'].apply(\n",
    "    lambda x: x if x in opcoes_fechadas else ('Outra' if pd.notna(x) else x)\n",
    ")\n",
    "\n",
    "# Contar os valores na coluna 'expectativas_iniciais_profissao'\n",
    "expectativas_iniciais_profissao = df['expectativas_iniciais_profissao'].value_counts()\n",
    "\n",
    "# Exibir o resultado da coluna 'expectativas_iniciais_profissao'\n",
    "print(\"Contagem de 'expectativas_iniciais_profissao':\")\n",
    "print(expectativas_iniciais_profissao)\n",
    "\n",
    "# Exibir as opções abertas da nova coluna 'expectativas_iniciais_profissao_outro'\n",
    "print(\"\\nOpções abertas em 'expectativas_iniciais_profissao_outro':\")\n",
    "print(df['expectativas_iniciais_profissao_outro'].dropna().unique())"
   ]
  },
  {
   "cell_type": "markdown",
   "id": "22a40f0f-0f2a-41a8-968b-55867d93d7fc",
   "metadata": {},
   "source": [
    "## expectativas_alcancadas"
   ]
  },
  {
   "cell_type": "code",
   "execution_count": 20,
   "id": "c77b5fdf-a271-462c-a0ba-6e8a17c79925",
   "metadata": {},
   "outputs": [
    {
     "name": "stdout",
     "output_type": "stream",
     "text": [
      "Um Pouco Abaixo Das Expectativas    871\n",
      "Muito Abaixo Das Expectativas       798\n",
      "Conforme As Expectativas            659\n",
      "Um Pouco Acima Das Expectativas     289\n",
      "Muito Acima Das Expectativas        269\n",
      "Name: expectativas_alcancadas, dtype: int64\n"
     ]
    }
   ],
   "source": [
    "# Capitalizar os valores na coluna 'expectativas_alcancadas'\n",
    "df['expectativas_alcancadas'] = df['expectativas_alcancadas'].str.title()\n",
    "\n",
    "# Contar os valores\n",
    "expectativas_alcancadas = df['expectativas_alcancadas'].value_counts()\n",
    "\n",
    "# Exibir o resultado\n",
    "print(expectativas_alcancadas)"
   ]
  },
  {
   "cell_type": "markdown",
   "id": "a7e216b1-efa8-4b44-89f0-fd02f31cb31f",
   "metadata": {},
   "source": [
    "## satisfacao_carreira"
   ]
  },
  {
   "cell_type": "code",
   "execution_count": 21,
   "id": "da85afeb-7316-400b-abd8-b9650a679908",
   "metadata": {},
   "outputs": [
    {
     "name": "stdout",
     "output_type": "stream",
     "text": [
      "Satisfeito(A)                            1046\n",
      "Insatisfeito(A)                           595\n",
      "Nem Satisfeito(A) Nem Insatisfeito(A)     562\n",
      "Muito Satisfeito(A)                       351\n",
      "Muito Insatisfeito(A)                     327\n",
      "Name: satisfacao_carreira, dtype: int64\n"
     ]
    }
   ],
   "source": [
    "# Capitalizar os valores na coluna 'satisfacao_carreira'\n",
    "df['satisfacao_carreira'] = df['satisfacao_carreira'].str.title()\n",
    "\n",
    "# Contar os valores\n",
    "satisfacao_carreira = df['satisfacao_carreira'].value_counts()\n",
    "\n",
    "# Exibir o resultado\n",
    "print(satisfacao_carreira)"
   ]
  },
  {
   "cell_type": "code",
   "execution_count": 22,
   "id": "b5c1d464",
   "metadata": {},
   "outputs": [
    {
     "name": "stdout",
     "output_type": "stream",
     "text": [
      "Satisfeito(a)            1046\n",
      "Insatisfeito(a)           595\n",
      "Indiferente               562\n",
      "Muito Satisfeito(a)       351\n",
      "Muito Insatisfeito(a)     327\n",
      "Name: satisfacao_carreira, dtype: int64\n"
     ]
    }
   ],
   "source": [
    "# Criar um dicionário de mapeamento para os valores de 'satisfacao_carreira'\n",
    "mapeamento_ocupacao = {\n",
    "    \"Satisfeito(A)\": \"Satisfeito(a)\",\n",
    "    \"Insatisfeito(A)\": \"Insatisfeito(a)\",\n",
    "    \"Nem Satisfeito(A) Nem Insatisfeito(A)\": \"Indiferente\",\n",
    "    \"Muito Satisfeito(A)\": \"Muito Satisfeito(a)\",\n",
    "    \"Muito Insatisfeito(A)\": \"Muito Insatisfeito(a)\"\n",
    "}\n",
    "\n",
    "# Aplicar o mapeamento à coluna 'como_adquiriu_conhecimento'\n",
    "df['satisfacao_carreira'] = df['satisfacao_carreira'].map(mapeamento_ocupacao)\n",
    "\n",
    "# Contar os valores\n",
    "satisfacao_carreira = df['satisfacao_carreira'].value_counts()\n",
    "\n",
    "# Exibir o resultado\n",
    "print(satisfacao_carreira)"
   ]
  },
  {
   "cell_type": "markdown",
   "id": "de0c79f9-a99e-424f-b965-f54cb0543dea",
   "metadata": {},
   "source": [
    "## fatores_sucesso_profissional"
   ]
  },
  {
   "cell_type": "code",
   "execution_count": 23,
   "id": "1a124da1-92a5-4192-8e8b-a909f78e89d7",
   "metadata": {},
   "outputs": [
    {
     "name": "stdout",
     "output_type": "stream",
     "text": [
      "Relevância Do Trabalho Para A Sociedade                                                                                                                                                                                    208\n",
      "Relevância Do Trabalho Para A Sociedade + Reconhecimento Acadêmico + Remuneração + Equilíbrio Entre Vida Profissional E Pessoal + Oportunidades De Pesquisa E Publicação + Desenvolvimento De Habilidades Profissionais    160\n",
      "Relevância Do Trabalho Para A Sociedade + Remuneração + Equilíbrio Entre Vida Profissional E Pessoal                                                                                                                       152\n",
      "Relevância Do Trabalho Para A Sociedade + Reconhecimento Acadêmico + Remuneração                                                                                                                                           122\n",
      "Relevância Do Trabalho Para A Sociedade + Reconhecimento Acadêmico + Remuneração + Oportunidades De Pesquisa E Publicação                                                                                                  116\n",
      "                                                                                                                                                                                                                          ... \n",
      "Reconhecimento Acadêmico + Equilíbrio Entre Vida Profissional E Pessoal                                                                                                                                                      6\n",
      "Relevância Do Trabalho Para A Sociedade + Reconhecimento Acadêmico + Equilíbrio Entre Vida Profissional E Pessoal + Desenvolvimento De Habilidades Profissionais                                                             5\n",
      "Reconhecimento Acadêmico + Equilíbrio Entre Vida Profissional E Pessoal + Oportunidades De Pesquisa E Publicação + Desenvolvimento De Habilidades Profissionais                                                              4\n",
      "Reconhecimento Acadêmico + Equilíbrio Entre Vida Profissional E Pessoal + Desenvolvimento De Habilidades Profissionais                                                                                                       3\n",
      "Equilíbrio Entre Vida Profissional E Pessoal + Oportunidades De Pesquisa E Publicação                                                                                                                                        3\n",
      "Name: fatores_sucesso_profissional, Length: 63, dtype: int64\n"
     ]
    }
   ],
   "source": [
    "# Capitalizar os valores na coluna 'fatores_sucesso_profissional'\n",
    "df['fatores_sucesso_profissional'] = df['fatores_sucesso_profissional'].str.title()\n",
    "\n",
    "# Contar os valores\n",
    "fatores_sucesso_profissional = df['fatores_sucesso_profissional'].value_counts()\n",
    "\n",
    "# Exibir o resultado\n",
    "print(fatores_sucesso_profissional)"
   ]
  },
  {
   "cell_type": "markdown",
   "id": "dc5c8efa-6182-4f72-be77-1ad8f2650512",
   "metadata": {},
   "source": [
    "## desafios_realizacao_profissional"
   ]
  },
  {
   "cell_type": "code",
   "execution_count": 24,
   "id": "1ea5801a-572b-4a4a-833b-a2d79c3db405",
   "metadata": {},
   "outputs": [
    {
     "name": "stdout",
     "output_type": "stream",
     "text": [
      "Dificuldade Em Encontrar Oportunidades De Emprego Na Área De Ciências Sociais                                                                                                                                                                                                                                                                                                                             396\n",
      "Dificuldade Em Encontrar Oportunidades De Emprego Na Área De Ciências Sociais + Falta De Reconhecimento Ou Valorização Das Habilidades Adquiridas Durante A Pós-Graduação                                                                                                                                                                                                                                 201\n",
      "Dificuldade Em Encontrar Oportunidades De Emprego Na Área De Ciências Sociais + Dificuldades Para Estabelecer Uma Rede Profissional Ou Acadêmica                                                                                                                                                                                                                                                          130\n",
      "Desafios Para Equilibrar Trabalho E Vida Pessoal.                                                                                                                                                                                                                                                                                                                                                         128\n",
      "Dificuldade Em Encontrar Oportunidades De Emprego Na Área De Ciências Sociais + Falta De Reconhecimento Ou Valorização Das Habilidades Adquiridas Durante A Pós-Graduação + Dificuldades Para Estabelecer Uma Rede Profissional Ou Acadêmica                                                                                                                                                              103\n",
      "                                                                                                                                                                                                                                                                                                                                                                                                         ... \n",
      "Concorrência Acirrada No Mercado De Trabalho + Falta De Reconhecimento Ou Valorização Das Habilidades Adquiridas Durante A Pós-Graduação + Desafios Para Equilibrar Trabalho E Vida Pessoal. + Barreiras Para Publicação De Pesquisas Ou Acesso A Recursos Acadêmicos + Dificuldades Para Estabelecer Uma Rede Profissional Ou Acadêmica                                                                    1\n",
      "Dificuldade Em Encontrar Oportunidades De Emprego Na Área De Ciências Sociais + Concorrência Acirrada No Mercado De Trabalho + Falta De Reconhecimento Ou Valorização Das Habilidades Adquiridas Durante A Pós-Graduação + Desafios Para Equilibrar Trabalho E Vida Pessoal. + Dificuldades Para Estabelecer Uma Rede Profissional Ou Acadêmica + Discriminação Ou Preconceito No Ambiente De Trabalho      1\n",
      "Desafios Para Equilibrar Trabalho E Vida Pessoal. + Dificuldades Para Estabelecer Uma Rede Profissional Ou Acadêmica + Limitações Geográficas Na Busca Por Oportunidades De Trabalho + Discriminação Ou Preconceito No Ambiente De Trabalho                                                                                                                                                                 1\n",
      "Dificuldade Em Encontrar Oportunidades De Emprego Na Área De Ciências Sociais + Concorrência Acirrada No Mercado De Trabalho + Falta De Reconhecimento Ou Valorização Das Habilidades Adquiridas Durante A Pós-Graduação + Desafios Para Equilibrar Trabalho E Vida Pessoal. + Limitações Geográficas Na Busca Por Oportunidades De Trabalho + Discriminação Ou Preconceito No Ambiente De Trabalho         1\n",
      "Dificuldade Em Encontrar Oportunidades De Emprego Na Área De Ciências Sociais + Concorrência Acirrada No Mercado De Trabalho + Barreiras Para Publicação De Pesquisas Ou Acesso A Recursos Acadêmicos + Dificuldades Para Estabelecer Uma Rede Profissional Ou Acadêmica + Limitações Geográficas Na Busca Por Oportunidades De Trabalho + Discriminação Ou Preconceito No Ambiente De Trabalho             1\n",
      "Name: desafios_realizacao_profissional, Length: 202, dtype: int64\n"
     ]
    }
   ],
   "source": [
    "# Capitalizar os valores na coluna 'desafios_realizacao_profissional'\n",
    "df['desafios_realizacao_profissional'] = df['desafios_realizacao_profissional'].str.title()\n",
    "\n",
    "# Contar os valores\n",
    "desafios_realizacao_profissional = df['desafios_realizacao_profissional'].value_counts()\n",
    "\n",
    "# Exibir o resultado\n",
    "print(desafios_realizacao_profissional)"
   ]
  },
  {
   "cell_type": "markdown",
   "id": "28d1b20d-208f-44af-b0a3-ed7c53a9691b",
   "metadata": {},
   "source": [
    "## curriculo_atende_necessidades"
   ]
  },
  {
   "cell_type": "code",
   "execution_count": 25,
   "id": "25f9986f-592e-413b-b19e-d02044baf450",
   "metadata": {},
   "outputs": [
    {
     "name": "stdout",
     "output_type": "stream",
     "text": [
      "Sim, Mas Há Espaço Para Melhorias Direcionadas A Atender Melhor Às Necessidades Profissionais    1326\n",
      "Não, Há Uma Defasagem Entre O Currículo Dos Cursos E As Necessidades Profissionais.              1082\n",
      "Sim, O Currículo Dos Cursos Atende Plenamente Às Necessidades Profissionais                       299\n",
      "Não Tenho Certeza                                                                                 119\n",
      "Name: curriculo_atende_necessidades, dtype: int64\n"
     ]
    }
   ],
   "source": [
    "# Capitalizar os valores na coluna 'curriculo_atende_necessidades'\n",
    "df['curriculo_atende_necessidades'] = df['curriculo_atende_necessidades'].str.title()\n",
    "\n",
    "# Contar os valores\n",
    "curriculo_atende_necessidades = df['curriculo_atende_necessidades'].value_counts()\n",
    "\n",
    "# Exibir o resultado\n",
    "print(curriculo_atende_necessidades)    "
   ]
  },
  {
   "cell_type": "markdown",
   "id": "b1660839-91af-4220-8520-8c25402ddbb5",
   "metadata": {},
   "source": [
    "## conhecimento_aplicavel"
   ]
  },
  {
   "cell_type": "code",
   "execution_count": 26,
   "id": "746226b1-f16b-43a9-a8bd-2eb38835fa00",
   "metadata": {},
   "outputs": [
    {
     "name": "stdout",
     "output_type": "stream",
     "text": [
      "Sim    2208\n",
      "Não     614\n",
      "Name: conhecimento_aplicavel, dtype: int64\n"
     ]
    }
   ],
   "source": [
    "# Capitalizar os valores na coluna 'conhecimento_aplicavel'\n",
    "df['conhecimento_aplicavel'] = df['conhecimento_aplicavel'].str.title()\n",
    "\n",
    "# Contar os valores\n",
    "conhecimento_aplicavel = df['conhecimento_aplicavel'].value_counts()\n",
    "\n",
    "# Exibir o resultado\n",
    "print(conhecimento_aplicavel)  "
   ]
  },
  {
   "cell_type": "markdown",
   "id": "56db7e9b-a377-4de0-97dd-3cca0dbf3fc9",
   "metadata": {},
   "source": [
    "## como_adquiriu_conhecimento"
   ]
  },
  {
   "cell_type": "code",
   "execution_count": 27,
   "id": "aac74a42-fb0b-4a9f-b112-f6351454c5a8",
   "metadata": {},
   "outputs": [
    {
     "name": "stdout",
     "output_type": "stream",
     "text": [
      "Por Conta Própria                            1095\n",
      "Cursos Complementares Ou De Curta Duração     621\n",
      "Treinamentos No Local De Trabalho             544\n",
      "Name: como_adquiriu_conhecimento, dtype: int64\n"
     ]
    }
   ],
   "source": [
    "# Criar um dicionário de mapeamento para os valores de 'como_adquiriu_conhecimento'\n",
    "mapeamento_ocupacao = {\n",
    "    \"Adquiri esses conhecimentos por conta própria\": \"Por Conta Própria\",\n",
    "    \"Adquiri esses conhecimentos através de cursos complementares ou de curta duração\": \"Cursos Complementares Ou De Curta Duração\",\n",
    "    \"Adquiri esses conhecimentos através de treinamentos no local de trabalho\": \"Treinamentos No Local De Trabalho\"\n",
    "}\n",
    "\n",
    "# Aplicar o mapeamento à coluna 'como_adquiriu_conhecimento'\n",
    "df['como_adquiriu_conhecimento'] = df['como_adquiriu_conhecimento'].map(mapeamento_ocupacao)\n",
    "\n",
    "# Contar os valores\n",
    "como_adquiriu_conhecimento = df['como_adquiriu_conhecimento'].value_counts()\n",
    "\n",
    "# Exibir o resultado\n",
    "print(como_adquiriu_conhecimento)"
   ]
  },
  {
   "cell_type": "markdown",
   "id": "9eebdf97-c79d-483c-8b2a-82470d7cd2d8",
   "metadata": {},
   "source": [
    "## conhecimento_necessario"
   ]
  },
  {
   "cell_type": "code",
   "execution_count": 28,
   "id": "24af0c38-58a3-467d-a214-a9c381dfc332",
   "metadata": {},
   "outputs": [
    {
     "name": "stdout",
     "output_type": "stream",
     "text": [
      "Habilidades Em Análise Estatística E Quantitativa + Conhecimentos Em Ferramentas De Coleta E Análise De Dados (Por Exemplo, Software Estatístico, Ferramentas De Visualização De Dados) + Competências Em Pesquisa Qualitativa (Por Exemplo, Entrevistas, Análise De Conteúdo) + Conhecimentos Em Programação E Análise De Dados Em Linguagens Como R Ou Python + Habilidades Em Comunicação E Apresentação De Resultados De Pesquisa + Competências Para Gerir Projetos De Pesquisa + Competências E Habilidades Relacionadas À Gestão Empresarial    235\n",
      "Habilidades Em Análise Estatística E Quantitativa + Conhecimentos Em Ferramentas De Coleta E Análise De Dados (Por Exemplo, Software Estatístico, Ferramentas De Visualização De Dados) + Competências Em Pesquisa Qualitativa (Por Exemplo, Entrevistas, Análise De Conteúdo) + Conhecimentos Em Programação E Análise De Dados Em Linguagens Como R Ou Python + Habilidades Em Comunicação E Apresentação De Resultados De Pesquisa + Competências Para Gerir Projetos De Pesquisa                                                                   173\n",
      "Habilidades Em Análise Estatística E Quantitativa + Conhecimentos Em Ferramentas De Coleta E Análise De Dados (Por Exemplo, Software Estatístico, Ferramentas De Visualização De Dados) + Conhecimentos Em Programação E Análise De Dados Em Linguagens Como R Ou Python                                                                                                                                                                                                                                                                               113\n",
      "Habilidades Em Análise Estatística E Quantitativa + Conhecimentos Em Ferramentas De Coleta E Análise De Dados (Por Exemplo, Software Estatístico, Ferramentas De Visualização De Dados) + Competências Em Pesquisa Qualitativa (Por Exemplo, Entrevistas, Análise De Conteúdo) + Habilidades Em Comunicação E Apresentação De Resultados De Pesquisa + Competências Para Gerir Projetos De Pesquisa                                                                                                                                                     81\n",
      "Habilidades Em Análise Estatística E Quantitativa + Conhecimentos Em Ferramentas De Coleta E Análise De Dados (Por Exemplo, Software Estatístico, Ferramentas De Visualização De Dados) + Competências Em Pesquisa Qualitativa (Por Exemplo, Entrevistas, Análise De Conteúdo) + Conhecimentos Em Programação E Análise De Dados Em Linguagens Como R Ou Python                                                                                                                                                                                         73\n",
      "                                                                                                                                                                                                                                                                                                                                                                                                                                                                                                                                                      ... \n",
      "Habilidades Em Análise Estatística E Quantitativa + Conhecimentos Em Ferramentas De Coleta E Análise De Dados (Por Exemplo, Software Estatístico, Ferramentas De Visualização De Dados) + Competências Para Gerir Projetos De Pesquisa + Competências E Habilidades Relacionadas À Gestão Empresarial + Competências Relacionadas À Atuação Em Sala De Aula Enquanto Docente                                                                                                                                                                             1\n",
      "Competências Em Pesquisa Qualitativa (Por Exemplo, Entrevistas, Análise De Conteúdo) + Habilidades Em Comunicação E Apresentação De Resultados De Pesquisa + Competências Para Gerir Projetos De Pesquisa + Saber Gerir Projetos Sociais                                                                                                                                                                                                                                                                                                                 1\n",
      "Conhecimentos Em Ferramentas De Coleta E Análise De Dados (Por Exemplo, Software Estatístico, Ferramentas De Visualização De Dados) + Competências Em Pesquisa Qualitativa (Por Exemplo, Entrevistas, Análise De Conteúdo) + Habilidades Em Comunicação E Apresentação De Resultados De Pesquisa + Competências E Habilidades Relacionadas À Gestão Empresarial                                                                                                                                                                                          1\n",
      "Conhecimentos Em Ferramentas De Coleta E Análise De Dados (Por Exemplo, Software Estatístico, Ferramentas De Visualização De Dados) + Competências Em Pesquisa Qualitativa (Por Exemplo, Entrevistas, Análise De Conteúdo) + Competências Para Gerir Projetos De Pesquisa + Competências E Habilidades Relacionadas À Gestão Empresarial + Habilidades Em Gestão Institucional                                                                                                                                                                           1\n",
      "Habilidades Em Análise Estatística E Quantitativa + Conhecimentos Em Ferramentas De Coleta E Análise De Dados (Por Exemplo, Software Estatístico, Ferramentas De Visualização De Dados) + Competências Em Pesquisa Qualitativa (Por Exemplo, Entrevistas, Análise De Conteúdo) + Conhecimentos Em Programação E Análise De Dados Em Linguagens Como R Ou Python + Habilidades Em Comunicação E Apresentação De Resultados De Pesquisa + Competências E Habilidades Relacionadas À Gestão Empresarial + Power Bi                                          1\n",
      "Name: conhecimento_necessario, Length: 552, dtype: int64\n"
     ]
    }
   ],
   "source": [
    "# Capitalizar os valores na coluna 'desafios_realizacao_profissional'\n",
    "df['conhecimento_necessario'] = df['conhecimento_necessario'].str.title()\n",
    "\n",
    "# Contar os valores\n",
    "conhecimento_necessario = df['conhecimento_necessario'].value_counts()\n",
    "\n",
    "# Exibir o resultado\n",
    "print(conhecimento_necessario)"
   ]
  },
  {
   "cell_type": "markdown",
   "id": "adf21578-e44f-4ae6-afda-8d953a54e0e2",
   "metadata": {},
   "source": [
    "## habilidades_utilidade_leitura_escrita"
   ]
  },
  {
   "cell_type": "code",
   "execution_count": 29,
   "id": "13693029-1032-4d04-bb71-953e6710c3fb",
   "metadata": {},
   "outputs": [
    {
     "name": "stdout",
     "output_type": "stream",
     "text": [
      "Extremamente Importante    1516\n",
      "Muito Importante            735\n",
      "Importante                  423\n",
      "Pouco Importante             87\n",
      "Nada Importante              30\n",
      "Name: habilidades_utilidade_leitura_escrita, dtype: int64\n"
     ]
    }
   ],
   "source": [
    "# Capitalizar os valores na coluna 'habilidades_utilidade_leitura_escrita'\n",
    "df['habilidades_utilidade_leitura_escrita'] = df['habilidades_utilidade_leitura_escrita'].str.title()\n",
    "\n",
    "# Contar os valores\n",
    "habilidades_utilidade_leitura_escrita = df['habilidades_utilidade_leitura_escrita'].value_counts()\n",
    "\n",
    "# Exibir o resultado\n",
    "print(habilidades_utilidade_leitura_escrita)"
   ]
  },
  {
   "cell_type": "markdown",
   "id": "5ada2076-24e4-48ab-a5a5-53cd85f47e95",
   "metadata": {},
   "source": [
    "## habilidades_utilidade_pensamento_analitico"
   ]
  },
  {
   "cell_type": "code",
   "execution_count": 30,
   "id": "49da18c1-08a8-487c-ad88-865b1ed7eb65",
   "metadata": {},
   "outputs": [
    {
     "name": "stdout",
     "output_type": "stream",
     "text": [
      "Extremamente Importante    1617\n",
      "Muito Importante            681\n",
      "Importante                  391\n",
      "Pouco Importante             72\n",
      "Nada Importante              24\n",
      "Name: habilidades_utilidade_pensamento_analitico, dtype: int64\n"
     ]
    }
   ],
   "source": [
    "# Capitalizar os valores na coluna 'habilidades_utilidade_pensamento_analitico'\n",
    "df['habilidades_utilidade_pensamento_analitico'] = df['habilidades_utilidade_pensamento_analitico'].str.title()\n",
    "\n",
    "# Contar os valores\n",
    "habilidades_utilidade_pensamento_analitico = df['habilidades_utilidade_pensamento_analitico'].value_counts()\n",
    "\n",
    "# Exibir o resultado\n",
    "print(habilidades_utilidade_pensamento_analitico)"
   ]
  },
  {
   "cell_type": "markdown",
   "id": "cbc1bc56-96ab-4c7e-813b-13123deb7f6f",
   "metadata": {},
   "source": [
    "## habilidades_utilidade_analise_dados"
   ]
  },
  {
   "cell_type": "code",
   "execution_count": 31,
   "id": "6744638d-e62e-498c-a1e8-6ad8258c1b92",
   "metadata": {},
   "outputs": [
    {
     "name": "stdout",
     "output_type": "stream",
     "text": [
      "Extremamente Importante    1159\n",
      "Muito Importante            670\n",
      "Importante                  607\n",
      "Pouco Importante            245\n",
      "Nada Importante             111\n",
      "Name: habilidades_utilidade_analise_dados, dtype: int64\n"
     ]
    }
   ],
   "source": [
    "# Capitalizar os valores na coluna 'habilidades_utilidade_analise_dados'\n",
    "df['habilidades_utilidade_analise_dados'] = df['habilidades_utilidade_analise_dados'].str.title()\n",
    "\n",
    "# Contar os valores\n",
    "habilidades_utilidade_analise_dados = df['habilidades_utilidade_analise_dados'].value_counts()\n",
    "\n",
    "# Exibir o resultado\n",
    "print(habilidades_utilidade_analise_dados)"
   ]
  },
  {
   "cell_type": "markdown",
   "id": "bb290de2-0721-415c-bf00-313bed49e73f",
   "metadata": {},
   "source": [
    "## desempregado_opcao"
   ]
  },
  {
   "cell_type": "code",
   "execution_count": 32,
   "id": "ff608520-ffe2-4dbb-a9e7-5974c9ce2ef3",
   "metadata": {},
   "outputs": [
    {
     "name": "stdout",
     "output_type": "stream",
     "text": [
      "Empregado(a)                                                                                  3521\n",
      "Busco emprego na minha área de formação ou em outra                                            205\n",
      "Busco emprego exclusivamente na minha área de formação                                          92\n",
      "Deixei de buscar emprego exclusivamente na minha área de formação nos últimos 12 meses          86\n",
      "Passei a buscar emprego exclusivamente fora da minha área de formação nos últimos 12 meses      28\n",
      "Name: desempregado_opcao, dtype: int64\n"
     ]
    }
   ],
   "source": [
    "# Preencher células vazias com o termo \"Empregado(a)\"\n",
    "df['desempregado_opcao'].fillna(\"Empregado(a)\", inplace=True)\n",
    "\n",
    "# Contar os valores após a normalização\n",
    "desempregado_opcao = df['desempregado_opcao'].value_counts()\n",
    "print(desempregado_opcao)"
   ]
  },
  {
   "cell_type": "code",
   "execution_count": 33,
   "id": "ea75bcf8-49ae-4136-b0df-b47a7da33963",
   "metadata": {},
   "outputs": [
    {
     "name": "stdout",
     "output_type": "stream",
     "text": [
      "Arquivo Excel 'arw_modificado.xlsx' salvo com sucesso!\n"
     ]
    }
   ],
   "source": [
    "# Nome do novo arquivo\n",
    "nome_arquivo_modificado = 'arw_modificado.xlsx'\n",
    "\n",
    "# Salvar o DataFrame manipulado em um novo arquivo Excel\n",
    "try:\n",
    "    df.to_excel(nome_arquivo_modificado, index=False)\n",
    "    print(f\"Arquivo Excel '{nome_arquivo_modificado}' salvo com sucesso!\")\n",
    "except Exception as e:\n",
    "    print(f\"Ocorreu um erro ao salvar o arquivo: {e}\")"
   ]
  }
 ],
 "metadata": {
  "kernelspec": {
   "display_name": "Python 3 (ipykernel)",
   "language": "python",
   "name": "python3"
  },
  "language_info": {
   "codemirror_mode": {
    "name": "ipython",
    "version": 3
   },
   "file_extension": ".py",
   "mimetype": "text/x-python",
   "name": "python",
   "nbconvert_exporter": "python",
   "pygments_lexer": "ipython3",
   "version": "3.9.13"
  }
 },
 "nbformat": 4,
 "nbformat_minor": 5
}
