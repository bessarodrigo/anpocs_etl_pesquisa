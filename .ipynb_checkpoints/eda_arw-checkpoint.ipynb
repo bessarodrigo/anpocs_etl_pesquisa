{
 "cells": [
  {
   "cell_type": "markdown",
   "id": "90e2d14f-e62c-4051-8505-4fb4700127d3",
   "metadata": {},
   "source": [
    "## Importação das Bibliotecas"
   ]
  },
  {
   "cell_type": "code",
   "execution_count": 1,
   "id": "f7aa09cf-e4ca-4aae-a11f-c447190cefbe",
   "metadata": {},
   "outputs": [],
   "source": [
    "import pandas as pd\n",
    "import matplotlib.pyplot as plt\n",
    "import numpy as np\n",
    "import re\n",
    "import seaborn as sns"
   ]
  },
  {
   "cell_type": "markdown",
   "id": "0935b08c-8749-4b6c-a8c2-16178496873f",
   "metadata": {},
   "source": [
    "## Leitura e Visualização da Base"
   ]
  },
  {
   "cell_type": "code",
   "execution_count": 2,
   "id": "fbfeda16-7d00-4ff5-b52e-1a869bf4d0c2",
   "metadata": {},
   "outputs": [
    {
     "name": "stdout",
     "output_type": "stream",
     "text": [
      "DataFrame original:\n",
      "   numero_respondente        data_resposta concorda_termo_consentimento  \\\n",
      "0                 NaN                  NaN                          NaN   \n",
      "1                 NaN                  NaN                          NaN   \n",
      "2                 1.0  2024-07-02 11:02:13                          Sim   \n",
      "3                 2.0  2024-07-02 11:46:29                          Sim   \n",
      "4                 3.0  2024-07-02 11:02:21                          Sim   \n",
      "\n",
      "   faixa_etaria cor_raca                               identificacao_genero  \\\n",
      "0           NaN      NaN                                                NaN   \n",
      "1           NaN      NaN                                                NaN   \n",
      "2  45 a 54 anos   Branca  Homem cisgênero (que se identifica com o gêner...   \n",
      "3  35 a 44 anos   Branca  Mulher cisgênero (que se identifica com o gêne...   \n",
      "4  35 a 44 anos   Branca  Homem cisgênero (que se identifica com o gêner...   \n",
      "\n",
      "  pessoa_com_deficiencia estado_graduacao estado_maior_titulacao  \\\n",
      "0                    NaN              NaN                    NaN   \n",
      "1                    NaN              NaN                    NaN   \n",
      "2                    Não     Paraíba (PB)                    NaN   \n",
      "3                    Não     Paraíba (PB)             Piauí (PI)   \n",
      "4                    Não              NaN                    NaN   \n",
      "\n",
      "   nivel_escolaridade  ...                      curriculo_atende_necessidades  \\\n",
      "0                 NaN  ...                                                NaN   \n",
      "1                 NaN  ...                                                NaN   \n",
      "2                 NaN  ...                                                NaN   \n",
      "3  Doutorado completo  ...  Não, há uma defasagem entre o currículo dos cu...   \n",
      "4                 NaN  ...                                                NaN   \n",
      "\n",
      "   conhecimento_aplicavel                     como_adquiriu_conhecimento  \\\n",
      "0                     NaN                                            NaN   \n",
      "1                     NaN                                            NaN   \n",
      "2                     NaN                                            NaN   \n",
      "3                     Sim  Adquiri esses conhecimentos por conta própria   \n",
      "4                     NaN                                            NaN   \n",
      "\n",
      "                             conhecimento_necessario  \\\n",
      "0                                                NaN   \n",
      "1                                                NaN   \n",
      "2                                                NaN   \n",
      "3  Habilidades em análise estatística e quantitat...   \n",
      "4                                                NaN   \n",
      "\n",
      "  habilidades_utilidade_leitura_escrita  \\\n",
      "0                                   NaN   \n",
      "1                                   NaN   \n",
      "2                                   NaN   \n",
      "3               Extremamente importante   \n",
      "4                                   NaN   \n",
      "\n",
      "  habilidades_utilidade_pensamento_analitico  \\\n",
      "0                                        NaN   \n",
      "1                                        NaN   \n",
      "2                                        NaN   \n",
      "3                    Extremamente importante   \n",
      "4                                        NaN   \n",
      "\n",
      "  habilidades_utilidade_analise_dados tempo_gasto     coletor     endereco_ip  \n",
      "0                                 NaN         NaN         NaN             NaN  \n",
      "1                                 NaN         NaN         NaN             NaN  \n",
      "2                                 NaN       01:27  LINK FINAL  177.37.182.121  \n",
      "3             Extremamente importante       45:24  LINK FINAL  200.222.60.186  \n",
      "4                                 NaN       00:49  LINK FINAL   201.27.57.219  \n",
      "\n",
      "[5 rows x 44 columns]\n",
      "------------\n"
     ]
    }
   ],
   "source": [
    "# Caminho do arquivo Excel\n",
    "excel_file = \"arw.xlsx\"\n",
    "\n",
    "# Leitura do arquivo Excel\n",
    "df = pd.read_excel(excel_file, sheet_name='Respondentes')\n",
    "\n",
    "# Exibir as primeiras linhas do DataFrame\n",
    "print(\"DataFrame original:\")\n",
    "print(df.head())\n",
    "print(\"------------\")"
   ]
  },
  {
   "cell_type": "code",
   "execution_count": 3,
   "id": "a9278c5f-a51d-44c8-9d72-703fc34bd278",
   "metadata": {},
   "outputs": [
    {
     "name": "stdout",
     "output_type": "stream",
     "text": [
      "\n",
      "Tipos de dados originais:\n",
      "numero_respondente                            float64\n",
      "data_resposta                                  object\n",
      "concorda_termo_consentimento                   object\n",
      "faixa_etaria                                   object\n",
      "cor_raca                                       object\n",
      "identificacao_genero                           object\n",
      "pessoa_com_deficiencia                         object\n",
      "estado_graduacao                               object\n",
      "estado_maior_titulacao                         object\n",
      "nivel_escolaridade                             object\n",
      "ano_conclusao_graduacao                       float64\n",
      "ano_conclusao_mestrado                        float64\n",
      "ano_conclusao_doutorado                       float64\n",
      "faixa_renda_domiciliar                         object\n",
      "renda_principal_onde_vive                      object\n",
      "responsavel_cuidado_familiar                   object\n",
      "quantidade_filhos                              object\n",
      "idade_filhos                                   object\n",
      "area_concentracao                              object\n",
      "instituicao_nivel_mais_alto                    object\n",
      "ocupacao_profissional_atual                    object\n",
      "desempregado_opcao                             object\n",
      "expectativa_emprego_compativel_formacao       float64\n",
      "tipo_vinculo_ocupacao atual                    object\n",
      "caracterizacao_organizacao                     object\n",
      "tamanho_instituicao                            object\n",
      "perfil_empresa_privada                         object\n",
      "perfil_ramo_atuacao_publico                    object\n",
      "expectativas_iniciais_profissao                object\n",
      "expectativas_alcancadas                        object\n",
      "satisfacao_carreira                            object\n",
      "fatores_sucesso_profissional                   object\n",
      "desafios_realizacao_profissional               object\n",
      "compatibilidade_emprego_formacao              float64\n",
      "curriculo_atende_necessidades                  object\n",
      "conhecimento_aplicavel                         object\n",
      "como_adquiriu_conhecimento                     object\n",
      "conhecimento_necessario                        object\n",
      "habilidades_utilidade_leitura_escrita          object\n",
      "habilidades_utilidade_pensamento_analitico     object\n",
      "habilidades_utilidade_analise_dados            object\n",
      "tempo_gasto                                    object\n",
      "coletor                                        object\n",
      "endereco_ip                                    object\n",
      "dtype: object\n"
     ]
    }
   ],
   "source": [
    "# Exibir os tipos de dados originais\n",
    "print(\"\\nTipos de dados originais:\")\n",
    "print(df.dtypes)"
   ]
  },
  {
   "cell_type": "code",
   "execution_count": 4,
   "id": "3c1dbe69-8beb-47f7-9f79-32a444553b78",
   "metadata": {},
   "outputs": [
    {
     "name": "stdout",
     "output_type": "stream",
     "text": [
      "\n",
      "Tipos de dados após a conversão:\n",
      "numero_respondente                             int64\n",
      "faixa_etaria                                  object\n",
      "cor_raca                                      object\n",
      "identificacao_genero                          object\n",
      "pessoa_com_deficiencia                        object\n",
      "estado_graduacao                              object\n",
      "estado_maior_titulacao                        object\n",
      "nivel_escolaridade                            object\n",
      "ano_conclusao_graduacao                        int64\n",
      "ano_conclusao_mestrado                         int64\n",
      "ano_conclusao_doutorado                        int64\n",
      "faixa_renda_domiciliar                        object\n",
      "renda_principal_onde_vive                     object\n",
      "responsavel_cuidado_familiar                  object\n",
      "quantidade_filhos                             object\n",
      "idade_filhos                                  object\n",
      "area_concentracao                             object\n",
      "instituicao_nivel_mais_alto                   object\n",
      "ocupacao_profissional_atual                   object\n",
      "desempregado_opcao                            object\n",
      "expectativa_emprego_compativel_formacao        int64\n",
      "tipo_vinculo_ocupacao atual                   object\n",
      "caracterizacao_organizacao                    object\n",
      "tamanho_instituicao                           object\n",
      "perfil_empresa_privada                        object\n",
      "perfil_ramo_atuacao_publico                   object\n",
      "expectativas_iniciais_profissao               object\n",
      "expectativas_alcancadas                       object\n",
      "satisfacao_carreira                           object\n",
      "fatores_sucesso_profissional                  object\n",
      "desafios_realizacao_profissional              object\n",
      "compatibilidade_emprego_formacao               int64\n",
      "curriculo_atende_necessidades                 object\n",
      "conhecimento_aplicavel                        object\n",
      "como_adquiriu_conhecimento                    object\n",
      "conhecimento_necessario                       object\n",
      "habilidades_utilidade_leitura_escrita         object\n",
      "habilidades_utilidade_pensamento_analitico    object\n",
      "habilidades_utilidade_analise_dados           object\n",
      "dtype: object\n"
     ]
    }
   ],
   "source": [
    "# Drop das colunas desnecessárias\n",
    "columns_to_drop = ['endereco_ip', 'coletor', 'tempo_gasto', 'data_resposta', 'concorda_termo_consentimento']\n",
    "columns_to_drop = [col for col in columns_to_drop if col in df.columns]\n",
    "df.drop(columns=columns_to_drop, inplace=True)\n",
    "\n",
    "# Função para converter floats em inteiros\n",
    "def converter_float_para_int(df):\n",
    "    for coluna in df.columns:\n",
    "        if df[coluna].dtype == 'float64':\n",
    "            # Verifica se há valores NaN na coluna e os preenche com 0 (ou outro valor apropriado) antes da conversão\n",
    "            df[coluna].fillna(0, inplace=True)\n",
    "            df[coluna] = df[coluna].astype(int)\n",
    "    return df\n",
    "\n",
    "# Aplicar a função para converter floats em inteiros\n",
    "df = converter_float_para_int(df)\n",
    "\n",
    "# Exibir os tipos de dados após a conversão\n",
    "print(\"\\nTipos de dados após a conversão:\")\n",
    "print(df.dtypes)"
   ]
  },
  {
   "cell_type": "markdown",
   "id": "d2b8b1fd-0b6a-41f7-bc62-6b39a4da21fc",
   "metadata": {},
   "source": [
    "## Perfil socioeconômico"
   ]
  },
  {
   "cell_type": "markdown",
   "id": "917147d1-3508-4ae1-bd9b-e6a39f0be3d4",
   "metadata": {},
   "source": [
    "#### Qual é a sua faixa etária?"
   ]
  },
  {
   "cell_type": "code",
   "execution_count": 5,
   "id": "7daaacb1-85ae-489a-82f9-e0f2c9464e26",
   "metadata": {},
   "outputs": [
    {
     "name": "stdout",
     "output_type": "stream",
     "text": [
      "faixa_etaria\n",
      "25 a 34 anos       1436\n",
      "35 a 44 anos       1216\n",
      "45 a 54 anos        424\n",
      "18 a 24 anos        344\n",
      "55 a 64 anos        229\n",
      "65 anos ou mais      71\n",
      "Name: count, dtype: int64\n"
     ]
    }
   ],
   "source": [
    "faixa_etaria = df['faixa_etaria'].value_counts()\n",
    "print(faixa_etaria)"
   ]
  },
  {
   "cell_type": "markdown",
   "id": "56df69b6-db51-4bec-aeb1-16cca6c5753e",
   "metadata": {},
   "source": [
    "#### Qual a sua cor ou raça?"
   ]
  },
  {
   "cell_type": "code",
   "execution_count": 6,
   "id": "a2f4037b-96fb-49e2-8423-d0a0ba1d1ffd",
   "metadata": {},
   "outputs": [
    {
     "name": "stdout",
     "output_type": "stream",
     "text": [
      "cor_raca\n",
      "Branca                   2365\n",
      "Parda                     827\n",
      "Preta                     402\n",
      "Prefiro não responder      51\n",
      "Amarela                    41\n",
      "Indígena                   26\n",
      "Name: count, dtype: int64\n"
     ]
    }
   ],
   "source": [
    "cor_raca = df['cor_raca'].value_counts()\n",
    "print(cor_raca)"
   ]
  },
  {
   "cell_type": "markdown",
   "id": "99235a2b-cef6-452c-ab0b-4db46894d706",
   "metadata": {},
   "source": [
    "#### Como você se identifica em termos de gênero?"
   ]
  },
  {
   "cell_type": "code",
   "execution_count": 7,
   "id": "0d4436b2-b451-4200-b0a8-08149c4ded58",
   "metadata": {},
   "outputs": [
    {
     "name": "stdout",
     "output_type": "stream",
     "text": [
      "identificacao_genero\n",
      "Mulher cisgênero (que se identifica com o gênero que lhe foi designado ao nascer)          2128\n",
      "Homem cisgênero (que se identifica com o gênero que lhe foi designado ao nascer)           1489\n",
      "Pessoa não-binária (cujo gênero não se limita às categorias de mulher ou homem)              66\n",
      "Prefiro não responder                                                                        41\n",
      "Homem transgênero (que não se identifica com o gênero que lhe foi designado ao nascer)       10\n",
      "Agênero (não se enquadra em nenhum dos gêneros socialmente estabelecidos)                    10\n",
      "Mulher transgênero (que não se identifica com o gênero que lhe foi designado ao nascer)       7\n",
      "Name: count, dtype: int64\n"
     ]
    }
   ],
   "source": [
    "identificacao_genero = df['identificacao_genero'].value_counts()\n",
    "print(identificacao_genero)"
   ]
  },
  {
   "cell_type": "code",
   "execution_count": 8,
   "id": "5d5d11cc-574b-4b51-bf80-1a48e7890650",
   "metadata": {},
   "outputs": [
    {
     "name": "stdout",
     "output_type": "stream",
     "text": [
      "Contagem de cada valor:\n",
      "identificacao_genero\n",
      "Mulher cisgênero         2128\n",
      "Homem cisgênero          1489\n",
      "Pessoa não-binária         66\n",
      "Prefiro não responder      41\n",
      "Homem transgênero          10\n",
      "Agênero                    10\n",
      "Mulher transgênero          7\n",
      "Name: count, dtype: int64\n"
     ]
    }
   ],
   "source": [
    "# Função para remover o texto após o parêntese, incluindo o próprio parêntese\n",
    "def remover_apos_parentese(texto):\n",
    "    if isinstance(texto, str):\n",
    "        return re.sub(r'\\s*\\(.*\\)', '', texto).strip()\n",
    "    return texto\n",
    "\n",
    "# Aplicar a função à coluna 'identificacao_genero'\n",
    "df['identificacao_genero'] = df['identificacao_genero'].apply(remover_apos_parentese)\n",
    "\n",
    "# Contar as ocorrências de cada valor único na coluna 'identificacao_genero'\n",
    "identificacao_genero_counts = df['identificacao_genero'].value_counts()\n",
    "\n",
    "# Exibir o resultado\n",
    "print(\"Contagem de cada valor:\")\n",
    "print(identificacao_genero_counts)"
   ]
  },
  {
   "cell_type": "markdown",
   "id": "1aa155fc-c267-4857-9d84-daec36cd6718",
   "metadata": {},
   "source": [
    "#### Você é uma pessoa com deficiência?"
   ]
  },
  {
   "cell_type": "code",
   "execution_count": 9,
   "id": "fb25c72e-693b-4ec3-b24d-e305d71a752c",
   "metadata": {},
   "outputs": [
    {
     "name": "stdout",
     "output_type": "stream",
     "text": [
      "pessoa_com_deficiencia\n",
      "Não    3640\n",
      "Sim     103\n",
      "Name: count, dtype: int64\n"
     ]
    }
   ],
   "source": [
    "pessoa_com_deficiencia = df['pessoa_com_deficiencia'].value_counts()\n",
    "print(pessoa_com_deficiencia)"
   ]
  },
  {
   "cell_type": "markdown",
   "id": "a619fac6-5dd8-43af-abff-904366d4e2bd",
   "metadata": {},
   "source": [
    "#### Em qual estado brasileiro você fez a sua graduação em ciências sociais?"
   ]
  },
  {
   "cell_type": "code",
   "execution_count": 10,
   "id": "39be9b4f-369f-4aff-b014-93614c022d9e",
   "metadata": {},
   "outputs": [
    {
     "name": "stdout",
     "output_type": "stream",
     "text": [
      "estado_graduacao\n",
      "São Paulo (SP)              822\n",
      "Rio de Janeiro (RJ)         450\n",
      "Minas Gerais (MG)           292\n",
      "Rio Grande do Sul (RS)      232\n",
      "Santa Catarina (SC)         229\n",
      "Paraná (PR)                 212\n",
      "Bahia (BA)                  123\n",
      "Pernambuco (PE)             118\n",
      "Ceará (CE)                  118\n",
      "Distrito Federal (DF)       117\n",
      "Paraíba (PB)                105\n",
      "Rio Grande do Norte (RN)     99\n",
      "Piauí (PI)                   99\n",
      "Mato Grosso do Sul (MS)      86\n",
      "Pará (PA)                    74\n",
      "Espírito Santo (ES)          66\n",
      "Goiás (GO)                   66\n",
      "Amazonas (AM)                48\n",
      "Maranhão (MA)                47\n",
      "Alagoas (AL)                 28\n",
      "Amapá (AP)                   19\n",
      "Sergipe (SE)                 19\n",
      "Roraima (RR)                 15\n",
      "Exterior                     15\n",
      "Mato Grosso (MT)             14\n",
      "Rondônia (RO)                13\n",
      "Acre (AC)                    10\n",
      "Tocantins (TO)                6\n",
      "Name: count, dtype: int64\n"
     ]
    }
   ],
   "source": [
    "estado_graduacao = df['estado_graduacao'].value_counts()\n",
    "print(estado_graduacao)"
   ]
  },
  {
   "cell_type": "markdown",
   "id": "dc90d3a3-27ff-466f-9bc9-fa8ed8380bd6",
   "metadata": {},
   "source": [
    "#### Em qual estado brasileiro você obteve sua maior titulação acadêmica?"
   ]
  },
  {
   "cell_type": "code",
   "execution_count": 11,
   "id": "6ab18c2e-8a24-4d2f-ad06-62aea8e0e3fc",
   "metadata": {},
   "outputs": [
    {
     "name": "stdout",
     "output_type": "stream",
     "text": [
      "estado_maior_titulacao\n",
      "São Paulo (SP)              858\n",
      "Rio de Janeiro (RJ)         488\n",
      "Santa Catarina (SC)         268\n",
      "Minas Gerais (MG)           242\n",
      "Rio Grande do Sul (RS)      224\n",
      "Paraná (PR)                 183\n",
      "Distrito Federal (DF)       132\n",
      "Pernambuco (PE)             112\n",
      "Piauí (PI)                  111\n",
      "Bahia (BA)                   99\n",
      "Ceará (CE)                   99\n",
      "Rio Grande do Norte (RN)     98\n",
      "Paraíba (PB)                 97\n",
      "Mato Grosso do Sul (MS)      68\n",
      "Pará (PA)                    66\n",
      "Goiás (GO)                   58\n",
      "Espírito Santo (ES)          47\n",
      "Amazonas (AM)                46\n",
      "Maranhão (MA)                41\n",
      "Roraima (RR)                 25\n",
      "Exterior                     23\n",
      "Alagoas (AL)                 22\n",
      "Sergipe (SE)                 21\n",
      "Amapá (AP)                   20\n",
      "Mato Grosso (MT)             15\n",
      "Rondônia (RO)                12\n",
      "Tocantins (TO)                9\n",
      "Acre (AC)                     8\n",
      "Name: count, dtype: int64\n"
     ]
    }
   ],
   "source": [
    "estado_maior_titulacao = df['estado_maior_titulacao'].value_counts()\n",
    "print(estado_maior_titulacao)"
   ]
  },
  {
   "cell_type": "markdown",
   "id": "95ee1d43-57b4-4721-a903-02dedb9a9ed0",
   "metadata": {},
   "source": [
    "#### Qual o nível de escolaridade mais elevado alcançado por você? Por favor, selecione a opção mais apropriada:"
   ]
  },
  {
   "cell_type": "code",
   "execution_count": 12,
   "id": "510da282-81a8-480a-bae0-5bf893dd5165",
   "metadata": {},
   "outputs": [
    {
     "name": "stdout",
     "output_type": "stream",
     "text": [
      "nivel_escolaridade\n",
      "Graduação completa                       693\n",
      "Mestrado completo                        557\n",
      "Doutorado incompleto/em andamento        521\n",
      "Doutorado completo                       516\n",
      "Mestrado incompleto/em andamento         439\n",
      "Especialização completa                  341\n",
      "Pós-doutorado completo                   313\n",
      "Pós-doutorado incompleto/em andamento     89\n",
      "Name: count, dtype: int64\n"
     ]
    }
   ],
   "source": [
    "nivel_escolaridade = df['nivel_escolaridade'].value_counts()\n",
    "print(nivel_escolaridade)"
   ]
  },
  {
   "cell_type": "markdown",
   "id": "5030e441-a4d4-4f32-b292-13818322a6ed",
   "metadata": {},
   "source": [
    "#### Por favor, indique o ano em que concluiu sua graduação:"
   ]
  },
  {
   "cell_type": "markdown",
   "id": "b7feb908-86ba-43f8-82a8-814a5d9b0030",
   "metadata": {},
   "source": [
    "Muitos erros no preenchimento do ano de conclusão da graduação."
   ]
  },
  {
   "cell_type": "code",
   "execution_count": 13,
   "id": "12f4b813-79ac-41f2-b8ba-63c9e95bda2e",
   "metadata": {},
   "outputs": [
    {
     "name": "stdout",
     "output_type": "stream",
     "text": [
      "ano_conclusao_graduacao\n",
      " 0       543\n",
      " 2023    271\n",
      " 2022    201\n",
      " 2019    182\n",
      " 2018    158\n",
      "        ... \n",
      "-3         1\n",
      " 2027      1\n",
      " 19        1\n",
      " 1965      1\n",
      " 2029      1\n",
      "Name: count, Length: 82, dtype: int64\n"
     ]
    }
   ],
   "source": [
    "ano_conclusao_graduacao = df['ano_conclusao_graduacao'].value_counts()\n",
    "print(ano_conclusao_graduacao)"
   ]
  },
  {
   "cell_type": "code",
   "execution_count": 14,
   "id": "73a13b54-4c12-4693-9e35-232ff2bb8b3d",
   "metadata": {},
   "outputs": [
    {
     "name": "stdout",
     "output_type": "stream",
     "text": [
      "      ano_conclusao_graduacao  numero_respondente\n",
      "0                           0                   0\n",
      "1                           0                   0\n",
      "2                           0                   1\n",
      "4                           0                   3\n",
      "15                          0                  14\n",
      "...                       ...                 ...\n",
      "3921                        0                3920\n",
      "3922                        0                3921\n",
      "3925                        0                3924\n",
      "3927                        0                3926\n",
      "3931                        0                3930\n",
      "\n",
      "[567 rows x 2 columns]\n",
      "\n",
      "Contagem por Ano de Graduação <= 1900:\n",
      "ano_conclusao_graduacao\n",
      "-91        1\n",
      "-7         1\n",
      "-3         1\n",
      "-2         1\n",
      "-1         3\n",
      " 0       543\n",
      " 1         5\n",
      " 2         3\n",
      " 5         1\n",
      " 7         1\n",
      " 9         1\n",
      " 19        1\n",
      " 88        1\n",
      " 224       1\n",
      " 666       1\n",
      " 777       1\n",
      " 1900      1\n",
      "Name: count, dtype: int64\n"
     ]
    }
   ],
   "source": [
    "# Anos de Graduação > 1900\n",
    "graduacao_abaixo_1900 = df.query('ano_conclusao_graduacao <= 1900')[['ano_conclusao_graduacao', 'numero_respondente']]\n",
    "print(graduacao_abaixo_1900)\n",
    "\n",
    "# Contar a quantidade de registros por ano para anos > 1900\n",
    "contagem_por_ano_acima_1900 = df.query('ano_conclusao_graduacao <= 1900')['ano_conclusao_graduacao'].value_counts().sort_index()\n",
    "\n",
    "# Exibir a contagem por ano\n",
    "print(\"\\nContagem por Ano de Graduação <= 1900:\")\n",
    "print(contagem_por_ano_acima_1900)"
   ]
  },
  {
   "cell_type": "code",
   "execution_count": 15,
   "id": "bd552b52-6e2e-421c-880e-7d2315af3328",
   "metadata": {},
   "outputs": [
    {
     "name": "stdout",
     "output_type": "stream",
     "text": [
      "      ano_conclusao_graduacao  numero_respondente\n",
      "0                           0                   0\n",
      "1                           0                   0\n",
      "2                           0                   1\n",
      "4                           0                   3\n",
      "15                          0                  14\n",
      "...                       ...                 ...\n",
      "3921                        0                3920\n",
      "3922                        0                3921\n",
      "3925                        0                3924\n",
      "3927                        0                3926\n",
      "3931                        0                3930\n",
      "\n",
      "[567 rows x 2 columns]\n",
      "\n",
      "Contagem por Ano de Graduação <= 1900:\n",
      "ano_conclusao_graduacao\n",
      "0    567\n",
      "Name: count, dtype: int64\n"
     ]
    }
   ],
   "source": [
    "# Substituir anos de conclusão da graduação abaixo de 1901 por 0\n",
    "df['ano_conclusao_graduacao'] = df['ano_conclusao_graduacao'].apply(lambda x: x if x >= 1901 else 0)\n",
    "\n",
    "# Anos de Graduação > 1900\n",
    "graduacao_abaixo_1900 = df.query('ano_conclusao_graduacao <= 1900')[['ano_conclusao_graduacao', 'numero_respondente']]\n",
    "print(graduacao_abaixo_1900)\n",
    "\n",
    "# Contar a quantidade de registros por ano para anos > 1900\n",
    "contagem_por_ano_acima_1900 = df.query('ano_conclusao_graduacao <= 1900')['ano_conclusao_graduacao'].value_counts().sort_index()\n",
    "\n",
    "# Exibir a contagem por ano\n",
    "print(\"\\nContagem por Ano de Graduação <= 1900:\")\n",
    "print(contagem_por_ano_acima_1900)"
   ]
  },
  {
   "cell_type": "code",
   "execution_count": 16,
   "id": "792ea3e2-e895-49f1-b361-2f17a53c67f9",
   "metadata": {},
   "outputs": [
    {
     "data": {
      "text/plain": [
       "0       0\n",
       "1       0\n",
       "2       0\n",
       "4       0\n",
       "15      0\n",
       "       ..\n",
       "3921    0\n",
       "3922    0\n",
       "3925    0\n",
       "3927    0\n",
       "3931    0\n",
       "Name: ano_conclusao_graduacao, Length: 567, dtype: int64"
      ]
     },
     "execution_count": 16,
     "metadata": {},
     "output_type": "execute_result"
    }
   ],
   "source": [
    "df.query(\"ano_conclusao_graduacao == 0\")['ano_conclusao_graduacao']"
   ]
  },
  {
   "cell_type": "code",
   "execution_count": 17,
   "id": "2034683d-8a05-4b11-bd77-52c3fe5aa0ed",
   "metadata": {},
   "outputs": [
    {
     "data": {
      "text/plain": [
       "3       2003\n",
       "5       1996\n",
       "6       2005\n",
       "7       2006\n",
       "8       2008\n",
       "        ... \n",
       "3924    2024\n",
       "3926    2016\n",
       "3928    2023\n",
       "3929    2010\n",
       "3930    1997\n",
       "Name: ano_conclusao_graduacao, Length: 3365, dtype: int64"
      ]
     },
     "execution_count": 17,
     "metadata": {},
     "output_type": "execute_result"
    }
   ],
   "source": [
    "df.query(\"ano_conclusao_graduacao != 0\")['ano_conclusao_graduacao']"
   ]
  },
  {
   "cell_type": "code",
   "execution_count": 18,
   "id": "04aabc24-a00f-4f2a-a243-502462087962",
   "metadata": {},
   "outputs": [
    {
     "name": "stdout",
     "output_type": "stream",
     "text": [
      "0\n"
     ]
    }
   ],
   "source": [
    "# Contar valores nulos na coluna 'ano_conclusao_graduacao'\n",
    "nulos_ano_conclusao = df['ano_conclusao_graduacao'].isnull().sum()\n",
    "\n",
    "# Exibir o resultado\n",
    "print(nulos_ano_conclusao)"
   ]
  },
  {
   "cell_type": "code",
   "execution_count": 19,
   "id": "46c7deae-17eb-4b15-977d-96b1f87028f8",
   "metadata": {},
   "outputs": [
    {
     "data": {
      "text/plain": [
       "ano_conclusao_graduacao\n",
       " 0       543\n",
       " 2023    271\n",
       " 2022    201\n",
       " 2019    182\n",
       " 2018    158\n",
       "        ... \n",
       "-3         1\n",
       " 2027      1\n",
       " 19        1\n",
       " 1965      1\n",
       " 2029      1\n",
       "Name: count, Length: 82, dtype: int64"
      ]
     },
     "execution_count": 19,
     "metadata": {},
     "output_type": "execute_result"
    }
   ],
   "source": [
    "ano_conclusao_graduacao"
   ]
  },
  {
   "cell_type": "markdown",
   "id": "bc3882cc-8a44-49ff-a8f2-3ebeb7288815",
   "metadata": {},
   "source": [
    "#### Por favor, indique o ano em concluiu o seu mestrado:"
   ]
  },
  {
   "cell_type": "code",
   "execution_count": 20,
   "id": "f0a2ec69-71c8-463e-8b60-c20c798f2151",
   "metadata": {},
   "outputs": [
    {
     "name": "stdout",
     "output_type": "stream",
     "text": [
      "ano_conclusao_mestrado\n",
      "0       1737\n",
      "2024     152\n",
      "2023     118\n",
      "2015     111\n",
      "2021     109\n",
      "        ... \n",
      "94         1\n",
      "1977       1\n",
      "1978       1\n",
      "1981       1\n",
      "1900       1\n",
      "Name: count, Length: 73, dtype: int64\n"
     ]
    }
   ],
   "source": [
    "ano_conclusao_mestrado = df['ano_conclusao_mestrado'].value_counts()\n",
    "print(ano_conclusao_mestrado)"
   ]
  },
  {
   "cell_type": "code",
   "execution_count": 21,
   "id": "271499fa-e00e-483e-b2f7-52a59659d56e",
   "metadata": {},
   "outputs": [
    {
     "name": "stdout",
     "output_type": "stream",
     "text": [
      "      ano_conclusao_mestrado  numero_respondente\n",
      "0                          0                   0\n",
      "1                          0                   0\n",
      "2                          0                   1\n",
      "4                          0                   3\n",
      "15                         0                  14\n",
      "...                      ...                 ...\n",
      "3924                       0                3923\n",
      "3925                       0                3924\n",
      "3927                       0                3926\n",
      "3928                       0                3927\n",
      "3931                       0                3930\n",
      "\n",
      "[1817 rows x 2 columns]\n",
      "\n",
      "Contagem por Ano de Graduação <= 1900:\n",
      "ano_conclusao_mestrado\n",
      "-4          2\n",
      "-3          1\n",
      "-2          6\n",
      "-1          4\n",
      " 0       1737\n",
      " 1          4\n",
      " 2         49\n",
      " 3          4\n",
      " 4          2\n",
      " 8          1\n",
      " 9          1\n",
      " 19         1\n",
      " 20         1\n",
      " 66         1\n",
      " 94         1\n",
      " 555        1\n",
      " 1900       1\n",
      "Name: count, dtype: int64\n"
     ]
    }
   ],
   "source": [
    "# Anos de Graduação > 1900\n",
    "mestrado_abaixo_1900 = df.query('ano_conclusao_mestrado <= 1900')[['ano_conclusao_mestrado', 'numero_respondente']]\n",
    "print(mestrado_abaixo_1900)\n",
    "\n",
    "# Contar a quantidade de registros por ano para anos > 1900\n",
    "contagem_por_ano_acima_1900 = df.query('ano_conclusao_mestrado <= 1900')['ano_conclusao_mestrado'].value_counts().sort_index()\n",
    "\n",
    "# Exibir a contagem por ano\n",
    "print(\"\\nContagem por Ano de Graduação <= 1900:\")\n",
    "print(contagem_por_ano_acima_1900)"
   ]
  },
  {
   "cell_type": "code",
   "execution_count": 22,
   "id": "0b305917-350a-47c8-aefb-10f2d8f2e597",
   "metadata": {},
   "outputs": [
    {
     "name": "stdout",
     "output_type": "stream",
     "text": [
      "      ano_conclusao_mestrado  numero_respondente\n",
      "0                          0                   0\n",
      "1                          0                   0\n",
      "2                          0                   1\n",
      "4                          0                   3\n",
      "15                         0                  14\n",
      "...                      ...                 ...\n",
      "3924                       0                3923\n",
      "3925                       0                3924\n",
      "3927                       0                3926\n",
      "3928                       0                3927\n",
      "3931                       0                3930\n",
      "\n",
      "[1817 rows x 2 columns]\n",
      "\n",
      "Contagem por Ano de Graduação <= 1900:\n",
      "ano_conclusao_mestrado\n",
      "0    1817\n",
      "Name: count, dtype: int64\n"
     ]
    }
   ],
   "source": [
    "# Substituir anos de conclusão da graduação abaixo de 1901 por 0\n",
    "df['ano_conclusao_mestrado'] = df['ano_conclusao_mestrado'].apply(lambda x: x if x >= 1901 else 0)\n",
    "\n",
    "# Anos de Graduação > 1900\n",
    "graduacao_abaixo_1900 = df.query('ano_conclusao_mestrado <= 1900')[['ano_conclusao_mestrado', 'numero_respondente']]\n",
    "print(graduacao_abaixo_1900)\n",
    "\n",
    "# Contar a quantidade de registros por ano para anos > 1900\n",
    "contagem_por_ano_acima_1900 = df.query('ano_conclusao_mestrado <= 1900')['ano_conclusao_mestrado'].value_counts().sort_index()\n",
    "\n",
    "# Exibir a contagem por ano\n",
    "print(\"\\nContagem por Ano de Graduação <= 1900:\")\n",
    "print(contagem_por_ano_acima_1900)"
   ]
  },
  {
   "cell_type": "markdown",
   "id": "035aa7a4-0cd2-4971-9b54-41409619da22",
   "metadata": {},
   "source": [
    "#### Por favor, indique o ano em que concluiu seu doutorado:"
   ]
  },
  {
   "cell_type": "code",
   "execution_count": 23,
   "id": "d98b610d-dabc-481d-ab7f-0ab9927d59fa",
   "metadata": {},
   "outputs": [
    {
     "name": "stdout",
     "output_type": "stream",
     "text": [
      "ano_conclusao_doutorado\n",
      "0       2829\n",
      "2022      78\n",
      "2024      72\n",
      "2019      69\n",
      "2023      67\n",
      "        ... \n",
      "2029       1\n",
      "1981       1\n",
      "1994       1\n",
      "1979       1\n",
      "1900       1\n",
      "Name: count, Length: 66, dtype: int64\n"
     ]
    }
   ],
   "source": [
    "ano_conclusao_doutorado = df['ano_conclusao_doutorado'].value_counts()\n",
    "print(ano_conclusao_doutorado)                      "
   ]
  },
  {
   "cell_type": "code",
   "execution_count": 24,
   "id": "1225670c-3e25-4592-b980-6315cfabb228",
   "metadata": {},
   "outputs": [
    {
     "name": "stdout",
     "output_type": "stream",
     "text": [
      "      ano_conclusao_mestrado  numero_respondente\n",
      "0                          0                   0\n",
      "1                          0                   0\n",
      "2                          0                   1\n",
      "4                          0                   3\n",
      "15                         0                  14\n",
      "...                      ...                 ...\n",
      "3924                       0                3923\n",
      "3925                       0                3924\n",
      "3927                       0                3926\n",
      "3928                       0                3927\n",
      "3931                       0                3930\n",
      "\n",
      "[1817 rows x 2 columns]\n",
      "\n",
      "Contagem por Ano de Graduação <= 1900:\n",
      "ano_conclusao_doutorado\n",
      "-8          1\n",
      "-5          1\n",
      "-3          3\n",
      "-2          5\n",
      "-1          7\n",
      " 0       2829\n",
      " 1          2\n",
      " 2         14\n",
      " 3          2\n",
      " 5          1\n",
      " 458        1\n",
      " 666        1\n",
      " 1900       1\n",
      "Name: count, dtype: int64\n"
     ]
    }
   ],
   "source": [
    "# Anos de Graduação > 1900\n",
    "doutorado_abaixo_1900 = df.query('ano_conclusao_doutorado <= 1900')[['ano_conclusao_doutorado', 'numero_respondente']]\n",
    "print(mestrado_abaixo_1900)\n",
    "\n",
    "# Contar a quantidade de registros por ano para anos > 1900\n",
    "contagem_por_ano_acima_1900 = df.query('ano_conclusao_doutorado <= 1900')['ano_conclusao_doutorado'].value_counts().sort_index()\n",
    "\n",
    "# Exibir a contagem por ano\n",
    "print(\"\\nContagem por Ano de Graduação <= 1900:\")\n",
    "print(contagem_por_ano_acima_1900)"
   ]
  },
  {
   "cell_type": "code",
   "execution_count": 25,
   "id": "0eabb4c6-c285-432c-bac1-07d233d35176",
   "metadata": {},
   "outputs": [
    {
     "name": "stdout",
     "output_type": "stream",
     "text": [
      "      ano_conclusao_mestrado  numero_respondente\n",
      "0                          0                   0\n",
      "1                          0                   0\n",
      "2                          0                   1\n",
      "4                          0                   3\n",
      "15                         0                  14\n",
      "...                      ...                 ...\n",
      "3924                       0                3923\n",
      "3925                       0                3924\n",
      "3927                       0                3926\n",
      "3928                       0                3927\n",
      "3931                       0                3930\n",
      "\n",
      "[1817 rows x 2 columns]\n",
      "\n",
      "Contagem por Ano de Graduação <= 1900:\n",
      "ano_conclusao_doutorado\n",
      "0    2868\n",
      "Name: count, dtype: int64\n"
     ]
    }
   ],
   "source": [
    "# Substituir anos de conclusão da graduação abaixo de 1901 por 0\n",
    "df['ano_conclusao_doutorado'] = df['ano_conclusao_doutorado'].apply(lambda x: x if x >= 1901 else 0)\n",
    "\n",
    "# Anos de Graduação > 1900\n",
    "doutorado_abaixo_1900 = df.query('ano_conclusao_doutorado <= 1900')[['ano_conclusao_doutorado', 'numero_respondente']]\n",
    "print(graduacao_abaixo_1900)\n",
    "\n",
    "# Contar a quantidade de registros por ano para anos > 1900\n",
    "contagem_por_ano_acima_1900 = df.query('ano_conclusao_doutorado <= 1900')['ano_conclusao_doutorado'].value_counts().sort_index()\n",
    "\n",
    "# Exibir a contagem por ano\n",
    "print(\"\\nContagem por Ano de Graduação <= 1900:\")\n",
    "print(contagem_por_ano_acima_1900)"
   ]
  },
  {
   "cell_type": "markdown",
   "id": "d8259202-09a1-402f-be70-66d8804835af",
   "metadata": {},
   "source": [
    "#### Por favor, indique a sua faixa de renda domiciliar mensal"
   ]
  },
  {
   "cell_type": "code",
   "execution_count": 26,
   "id": "22e426fe-5565-4490-b93c-8c6a0bf8c620",
   "metadata": {},
   "outputs": [
    {
     "name": "stdout",
     "output_type": "stream",
     "text": [
      "faixa_renda_domiciliar\n",
      "Mais de 2 até 5      926\n",
      "Mais de 5 até 10     889\n",
      "Mais de 10 até 15    492\n",
      "Mais de 1 até 2      388\n",
      "Mais de 15 até 20    235\n",
      "Até 1                196\n",
      "Mais de 20           192\n",
      "Name: count, dtype: int64\n"
     ]
    }
   ],
   "source": [
    "# Função para remover o texto 'salários-mínimos' ou 'salário-mínimo'\n",
    "def limpar_texto(texto):\n",
    "    if isinstance(texto, str):  # Verifica se o valor é uma string\n",
    "        return texto.replace('salários-mínimos', '').replace('salário-mínimo', '').strip()\n",
    "    return texto  # Retorna o valor original se não for uma string\n",
    "\n",
    "# Aplicar a função à coluna 'faixa_renda_domiciliar'\n",
    "df['faixa_renda_domiciliar'] = df['faixa_renda_domiciliar'].apply(limpar_texto)\n",
    "\n",
    "# Verificar o resultado\n",
    "faixa_renda_domiciliar = df['faixa_renda_domiciliar'].value_counts()\n",
    "print(faixa_renda_domiciliar)"
   ]
  },
  {
   "cell_type": "markdown",
   "id": "7f9968ef-53db-446d-8361-5b438b9a491c",
   "metadata": {},
   "source": [
    "#### A sua renda é a principal do domicílio onde você vive?"
   ]
  },
  {
   "cell_type": "code",
   "execution_count": 27,
   "id": "82dd4ead-c49f-4ccc-9bd1-b14218506728",
   "metadata": {},
   "outputs": [
    {
     "name": "stdout",
     "output_type": "stream",
     "text": [
      "renda_principal_onde_vive\n",
      "Sim    2059\n",
      "Não    1244\n",
      "Name: count, dtype: int64\n"
     ]
    }
   ],
   "source": [
    "renda_principal_onde_vive = df['renda_principal_onde_vive'].value_counts()\n",
    "print(renda_principal_onde_vive)"
   ]
  },
  {
   "cell_type": "markdown",
   "id": "7c569c64-5d17-4764-851f-86fae7333703",
   "metadata": {},
   "source": [
    "#### Você é responsável pelo cuidado de algum familiar?"
   ]
  },
  {
   "cell_type": "code",
   "execution_count": 28,
   "id": "7dc3c649-2adb-4675-b160-3dd8ce9a1f7a",
   "metadata": {},
   "outputs": [
    {
     "name": "stdout",
     "output_type": "stream",
     "text": [
      "responsavel_cuidado_familiar\n",
      "Não                                                      2103\n",
      "Sim, filho/a (s)                                          686\n",
      "Sim, familiar(es) que é (são) idosos (as)                 305\n",
      "Sim, familiar (es) que é (são) crianças                    84\n",
      "Prefiro não responder                                      72\n",
      "Sim, familiar (es) que é (são) pessoa com deficiência      33\n",
      "Sim, enteados(a)                                           19\n",
      "Name: count, dtype: int64\n"
     ]
    }
   ],
   "source": [
    "responsavel_cuidado_familiar = df['responsavel_cuidado_familiar'].value_counts()\n",
    "print(responsavel_cuidado_familiar)"
   ]
  },
  {
   "cell_type": "code",
   "execution_count": 29,
   "id": "6ce8d7a1-7735-48ea-afbb-7bdc98320957",
   "metadata": {},
   "outputs": [
    {
     "name": "stdout",
     "output_type": "stream",
     "text": [
      "responsavel_cuidado_familiar\n",
      "Não                           2103\n",
      "Filho(s)                       686\n",
      "Familiares Idosos              305\n",
      "Familiares Crianças             84\n",
      "Prefiro não responder           72\n",
      "Familiares com Deficiência      33\n",
      "Enteados                        19\n",
      "Name: count, dtype: int64\n"
     ]
    }
   ],
   "source": [
    "# Dicionário de mapeamento para simplificar os textos\n",
    "mapear_textos = {\n",
    "    'Sim, filho/a (s)': 'Filho(s)',\n",
    "    'Sim, familiar(es) que é (são) idosos (as)': 'Familiares Idosos',\n",
    "    'Sim, familiar (es) que é (são) crianças': 'Familiares Crianças',\n",
    "    'Sim, familiar (es) que é (são) pessoa com deficiência': 'Familiares com Deficiência',\n",
    "    'Sim, enteados(a)': 'Enteados',\n",
    "    'Prefiro não responder': 'Prefiro não responder',\n",
    "    'Não': 'Não'\n",
    "}\n",
    "\n",
    "# Aplicar o mapeamento à coluna 'responsavel_cuidado_familiar'\n",
    "df['responsavel_cuidado_familiar'] = df['responsavel_cuidado_familiar'].replace(mapear_textos)\n",
    "\n",
    "# Verificar o resultado\n",
    "responsavel_cuidado_familiar = df['responsavel_cuidado_familiar'].value_counts()\n",
    "print(responsavel_cuidado_familiar)"
   ]
  },
  {
   "cell_type": "markdown",
   "id": "43b299d1-9792-4ecc-9f9b-3809d3bd5e79",
   "metadata": {},
   "source": [
    "#### Quantos filhos(as) você tem?"
   ]
  },
  {
   "cell_type": "code",
   "execution_count": 30,
   "id": "06fcc322-487b-4e29-8ed3-e2b5cd37e545",
   "metadata": {},
   "outputs": [
    {
     "name": "stdout",
     "output_type": "stream",
     "text": [
      "quantidade_filhos\n",
      "1 filha (o)              443\n",
      "Não tenho filhos         426\n",
      "2 filhas (os)            294\n",
      "3 filhas (os)             61\n",
      "4 filhas (os)             15\n",
      "5 filhas (os) ou mais      8\n",
      "Prefiro não responder      2\n",
      "Name: count, dtype: int64\n"
     ]
    }
   ],
   "source": [
    "quantidade_filhos = df['quantidade_filhos'].value_counts()\n",
    "print(quantidade_filhos)"
   ]
  },
  {
   "cell_type": "code",
   "execution_count": 31,
   "id": "09668c9b-1813-4d1f-ab05-45fc52353623",
   "metadata": {},
   "outputs": [
    {
     "name": "stdout",
     "output_type": "stream",
     "text": [
      "quantidade_filhos\n",
      "1 filha(o)               443\n",
      "Sem filhos               426\n",
      "2 filhas(os)             294\n",
      "3 filhas(os)              61\n",
      "4 filhas(os)              15\n",
      "5 ou mais filhas(os)       8\n",
      "Prefiro não responder      2\n",
      "Name: count, dtype: int64\n"
     ]
    }
   ],
   "source": [
    "# Dicionário de mapeamento para simplificar os textos\n",
    "mapear_textos = {\n",
    "    '1 filha (o)': '1 filha(o)',\n",
    "    '2 filhas (os)': '2 filhas(os)',\n",
    "    '3 filhas (os)': '3 filhas(os)',\n",
    "    '4 filhas (os)': '4 filhas(os)',\n",
    "    '5 filhas (os) ou mais': '5 ou mais filhas(os)',\n",
    "    'Não tenho filhos': 'Sem filhos',\n",
    "    'Prefiro não responder': 'Prefiro não responder'\n",
    "}\n",
    "\n",
    "# Aplicar o mapeamento à coluna 'quantidade_filhos'\n",
    "df['quantidade_filhos'] = df['quantidade_filhos'].replace(mapear_textos)\n",
    "\n",
    "# Verificar o resultado\n",
    "quantidade_filhos = df['quantidade_filhos'].value_counts()\n",
    "print(quantidade_filhos)"
   ]
  },
  {
   "cell_type": "markdown",
   "id": "59111051-508a-445b-a328-f59daf2cacd3",
   "metadata": {},
   "source": [
    "#### Caso tenha filhos (as), por favor, assinale as alternativas que correspondam à idade dos (as) mesmos (as).OBS: Em caso de mais de um (a) filho (a), é possível selecionar mais de uma opção."
   ]
  },
  {
   "cell_type": "code",
   "execution_count": 32,
   "id": "e0cb5260-a76f-4429-bb2f-d751f45f8e1a",
   "metadata": {},
   "outputs": [
    {
     "name": "stdout",
     "output_type": "stream",
     "text": [
      "idade_filhos\n",
      "21 anos ou mais                                                                       103\n",
      "Mais de 2 até 4 anos                                                                   82\n",
      "Mais de 4 até 7 anos                                                                   80\n",
      "Mais de 7 até 10 anos                                                                  67\n",
      "Até 2 anos                                                                             59\n",
      "                                                                                     ... \n",
      "Até 2 anos + Mais de 2 até 4 anos + Mais de 10 até 12 anos                              1\n",
      "Até 2 anos + Mais de 18 até 21 anos                                                     1\n",
      "Mais de 12 até 15 anos + Mais de 18 até 21 anos + 21 anos ou mais                       1\n",
      "Até 2 anos + Mais de 4 até 7 anos + Mais de 7 até 10 anos + Mais de 18 até 21 anos      1\n",
      "Mais de 2 até 4 anos + Mais de 15 até 18 anos                                           1\n",
      "Name: count, Length: 76, dtype: int64\n"
     ]
    }
   ],
   "source": [
    "idade_filhos = df['idade_filhos'].value_counts()\n",
    "print(idade_filhos)"
   ]
  },
  {
   "cell_type": "markdown",
   "id": "55d761c0-7037-4665-a36b-68f2bccd36ec",
   "metadata": {},
   "source": [
    "## Perfil acadêmico e profissional"
   ]
  },
  {
   "cell_type": "markdown",
   "id": "0a88c56e-65f2-4b70-80e4-de81fa414fb7",
   "metadata": {},
   "source": [
    "#### Qual é a sua principal área de concentração nas Ciências Sociais?"
   ]
  },
  {
   "cell_type": "code",
   "execution_count": 33,
   "id": "45e40e22-9458-430d-bdb4-71d51eda9790",
   "metadata": {},
   "outputs": [
    {
     "name": "stdout",
     "output_type": "stream",
     "text": [
      "area_concentracao\n",
      "Sociologia                 1496\n",
      "Antropologia                864\n",
      "Ciência Política            549\n",
      "Políticas Públicas          238\n",
      "Relações Internacionais      41\n",
      "Demografia                   20\n",
      "Name: count, dtype: int64\n"
     ]
    }
   ],
   "source": [
    "area_concentracao = df['area_concentracao'].value_counts()\n",
    "print(area_concentracao)"
   ]
  },
  {
   "cell_type": "markdown",
   "id": "6f83b11e-c717-461e-b2b7-168d117add35",
   "metadata": {},
   "source": [
    "## Instituição de Nível Mais Alto"
   ]
  },
  {
   "cell_type": "code",
   "execution_count": 34,
   "id": "388a0f64-8b1f-450f-9580-d38099381473",
   "metadata": {},
   "outputs": [
    {
     "name": "stdout",
     "output_type": "stream",
     "text": [
      "instituicao_nivel_mais_alto\n",
      "Pública                        2802\n",
      "Privada sem fins lucrativos     215\n",
      "Privada com fins lucrativos     192\n",
      "Name: count, dtype: int64\n"
     ]
    }
   ],
   "source": [
    "# Limpar o texto entre parênteses e ajustar a coluna\n",
    "df['instituicao_nivel_mais_alto'] = df['instituicao_nivel_mais_alto'].str.replace(r'\\s*\\(.*\\)', '', regex=True).str.strip()\n",
    "\n",
    "instituicao_nivel_mais_alto = df['instituicao_nivel_mais_alto'].value_counts()\n",
    "print(instituicao_nivel_mais_alto)"
   ]
  },
  {
   "cell_type": "code",
   "execution_count": 35,
   "id": "38fbd0fd-4020-4a79-b43d-f4a664bad4b7",
   "metadata": {},
   "outputs": [
    {
     "name": "stdout",
     "output_type": "stream",
     "text": [
      "instituicao_nivel_mais_alto\n",
      "Pública                        2802\n",
      "Privada sem fins lucrativos     215\n",
      "Privada com fins lucrativos     192\n",
      "Name: count, dtype: int64\n"
     ]
    }
   ],
   "source": [
    "# Dicionário de mapeamento para simplificar os textos\n",
    "mapear_textos = {\n",
    "    'Pública': 'Pública',\n",
    "    'Privada com fins lucrativos': 'Privada com fins lucrativos',\n",
    "    'Privada sem fins lucrativos (confessionais, comunitárias e fundações)': 'Privada sem fins lucrativos',\n",
    "}\n",
    "\n",
    "# Aplicar o mapeamento à coluna 'quantidade_filhos'\n",
    "df['instituicao_nivel_mais_alto'] = df['instituicao_nivel_mais_alto'].replace(mapear_textos)\n",
    "\n",
    "# Verificar o resultado\n",
    "instituicao_nivel_mais_alto = df['instituicao_nivel_mais_alto'].value_counts()\n",
    "print(instituicao_nivel_mais_alto)"
   ]
  },
  {
   "cell_type": "markdown",
   "id": "ed4d44b1-5f04-41d2-9cea-055242453b8c",
   "metadata": {},
   "source": [
    "## Ocupação Profissional Atual"
   ]
  },
  {
   "cell_type": "code",
   "execution_count": 36,
   "id": "a1c93abd-b4a8-48f5-831c-3e3870ebcc5e",
   "metadata": {},
   "outputs": [
    {
     "name": "stdout",
     "output_type": "stream",
     "text": [
      "ocupacao_profissional_atual\n",
      "Estudante de pós-graduação bolsista                                                   345\n",
      "Docente de universidade pública                                                       344\n",
      "Desempregado (a)                                                                      241\n",
      "Docente da educação básica na rede pública                                            230\n",
      "Autônomo/prestador de serviço                                                         195\n",
      "                                                                                     ... \n",
      "Atuo como profissional de salvaguarda (proteção e garantia de direitos) em uma SAF      1\n",
      "Docente universidade pública aposentada                                                 1\n",
      "Terceirizada em empresa pública (CLT)                                                   1\n",
      "Servidor público terceirizado                                                           1\n",
      "Orientador Social                                                                       1\n",
      "Name: count, Length: 899, dtype: int64\n"
     ]
    }
   ],
   "source": [
    "ocupacao_profissional_atual = df['ocupacao_profissional_atual'].value_counts()\n",
    "print(ocupacao_profissional_atual)"
   ]
  },
  {
   "cell_type": "markdown",
   "id": "d0df308c-f2d9-4385-89bb-4e5ee9ddb5ba",
   "metadata": {},
   "source": [
    "## Desempregados"
   ]
  },
  {
   "cell_type": "code",
   "execution_count": 37,
   "id": "f5fb96a4-666b-44c2-9bb6-fdca2d564d03",
   "metadata": {},
   "outputs": [
    {
     "name": "stdout",
     "output_type": "stream",
     "text": [
      "desempregado_opcao\n",
      "Busco emprego na minha área de formação ou em outra                                           205\n",
      "Busco emprego exclusivamente na minha área de formação                                         92\n",
      "Deixei de buscar emprego exclusivamente na minha área de formação nos últimos 12 meses         86\n",
      "Passei a buscar emprego exclusivamente fora da minha área de formação nos últimos 12 meses     28\n",
      "Name: count, dtype: int64\n"
     ]
    }
   ],
   "source": [
    "desempregado_opcao = df['desempregado_opcao'].value_counts()\n",
    "print(desempregado_opcao)"
   ]
  },
  {
   "cell_type": "markdown",
   "id": "cbf849ef-7ca5-444f-8bd2-b5e7ff27f5ab",
   "metadata": {},
   "source": [
    "## Expectativa para Encontrar Emprego Compatível com a Formação"
   ]
  },
  {
   "cell_type": "code",
   "execution_count": 38,
   "id": "0ce0face-7be2-4d96-9bc5-62b44e7a8323",
   "metadata": {},
   "outputs": [
    {
     "name": "stdout",
     "output_type": "stream",
     "text": [
      "expectativa_emprego_compativel_formacao\n",
      "0    3505\n",
      "1     104\n",
      "3      84\n",
      "4      76\n",
      "2      72\n",
      "5      46\n",
      "7      27\n",
      "6      18\n",
      "Name: count, dtype: int64\n"
     ]
    }
   ],
   "source": [
    "expectativa_emprego_compativel_formacao = df['expectativa_emprego_compativel_formacao'].value_counts()\n",
    "print(expectativa_emprego_compativel_formacao)"
   ]
  },
  {
   "cell_type": "code",
   "execution_count": 39,
   "id": "32ad544f-de79-4ae4-a89c-c6d83c210bac",
   "metadata": {},
   "outputs": [
    {
     "name": "stdout",
     "output_type": "stream",
     "text": [
      "expectativa_emprego_compativel_formacao\n",
      "1    104\n",
      "3     84\n",
      "4     76\n",
      "2     72\n",
      "5     46\n",
      "7     27\n",
      "6     18\n",
      "Name: count, dtype: int64\n"
     ]
    }
   ],
   "source": [
    "# Filtrar para desconsiderar NaN e 0\n",
    "filtro = df['expectativa_emprego_compativel_formacao'].notna() & (df['expectativa_emprego_compativel_formacao'] != 0)\n",
    "\n",
    "# Aplicar o filtro e contar os valores\n",
    "expectativa_emprego_compativel_formacao = df[filtro]['expectativa_emprego_compativel_formacao'].value_counts()\n",
    "\n",
    "# Exibir o resultado\n",
    "print(expectativa_emprego_compativel_formacao)"
   ]
  },
  {
   "cell_type": "markdown",
   "id": "7a82b6d2-d6aa-4ec4-98b4-3568a913dfad",
   "metadata": {},
   "source": [
    "## Tipo de Vínculo Atual"
   ]
  },
  {
   "cell_type": "code",
   "execution_count": 40,
   "id": "a5b9afc8-51e4-4070-a7df-35e56b4c8b15",
   "metadata": {},
   "outputs": [
    {
     "name": "stdout",
     "output_type": "stream",
     "text": [
      "tipo_vinculo_ocupacao atual\n",
      "Empregado(a) formal no setor privado                 605\n",
      "Bolsista                                             498\n",
      "Autônomo(a)/prestador(a) de serviço                  445\n",
      "Servidor(a) estatutário federal                      435\n",
      "Servidor(a) estatutário estadual                     324\n",
      "Empregado(a) formal no terceiro setor                182\n",
      "Servidor(a) estatutário municipal                    112\n",
      "Servidor (a) temporário no âmbito estadual            95\n",
      "Servidor(a) público celetista estadual                51\n",
      "Servidor(a) público celetista federal                 47\n",
      "Empresário(a)                                         46\n",
      "Servidor (a) comissionado (a) no âmbito estadual      40\n",
      "Servidor (a) temporário no âmbito federal             32\n",
      "Servidor (a) temporário no âmbito municipal           29\n",
      "Servidor(a) público celetista municipal               26\n",
      "Servidor (a) comissionado (a) no âmbito municipal     22\n",
      "Servidor (a) comissionado (a) no âmbito federal       18\n",
      "Name: count, dtype: int64\n"
     ]
    }
   ],
   "source": [
    "tipo_vinculo_ocupacao_atual = df['tipo_vinculo_ocupacao atual'].value_counts()\n",
    "print(tipo_vinculo_ocupacao_atual)"
   ]
  },
  {
   "cell_type": "code",
   "execution_count": 41,
   "id": "274a9237-b019-4f01-b258-73919d240329",
   "metadata": {},
   "outputs": [
    {
     "name": "stdout",
     "output_type": "stream",
     "text": [
      "tipo_vinculo_ocupacao atual\n",
      "Empregado(a) Formal no Setor Privado               605\n",
      "Bolsista                                           498\n",
      "Autônomo(a)/Prestador(a) de Serviço                445\n",
      "Servidor(a) Estatutário Federal                    435\n",
      "Servidor(a) Estatutário Estadual                   324\n",
      "Empregado(a) Formal no Terceiro Setor              182\n",
      "Servidor(a) Estatutário Municipal                  112\n",
      "Servidor(a) Temporário no Âmbito Estadual           95\n",
      "Servidor(a) Público Celetista Estadual              51\n",
      "Servidor(a) Público Celetista Federal               47\n",
      "Empresário(a)                                       46\n",
      "Servidor(a) Comissionado (a) no Âmbito Estadual     40\n",
      "Servidor(a) Temporário no Âmbito Federal            32\n",
      "Servidor(a) Temporário no Âmbito Municipal          29\n",
      "Servidor(a) Público Celetista Municipal             26\n",
      "Servidor(a) Comissionado(a) no Âmbito Municipal     22\n",
      "Servidor(a) Comissionado(a) no Âmbito Federal       18\n",
      "Name: count, dtype: int64\n"
     ]
    }
   ],
   "source": [
    "# Criar um dicionário de mapeamento para os valores de 'tipo_vinculo_ocupacao_atual'\n",
    "mapeamento_ocupacao = {\n",
    "    \"Empregado(a) formal no setor privado\": \"Empregado(a) Formal no Setor Privado\",\n",
    "    \"Bolsista\": \"Bolsista\",\n",
    "    \"Autônomo(a)/prestador(a) de serviço\": \"Autônomo(a)/Prestador(a) de Serviço\",\n",
    "    \"Servidor(a) estatutário federal\": \"Servidor(a) Estatutário Federal\",\n",
    "    \"Servidor(a) estatutário estadual\": \"Servidor(a) Estatutário Estadual\",\n",
    "    \"Empregado(a) formal no terceiro setor\": \"Empregado(a) Formal no Terceiro Setor\",\n",
    "    \"Servidor(a) estatutário municipal\": \"Servidor(a) Estatutário Municipal\",\n",
    "    \"Servidor (a) temporário no âmbito estadual\": \"Servidor(a) Temporário no Âmbito Estadual\",\n",
    "    \"Servidor(a) público celetista estadual\": \"Servidor(a) Público Celetista Estadual\",\n",
    "    \"Servidor(a) público celetista federal\": \"Servidor(a) Público Celetista Federal\",\n",
    "    \"Empresário(a)\": \"Empresário(a)\",\n",
    "    \"Servidor (a) comissionado (a) no âmbito estadual\": \"Servidor(a) Comissionado (a) no Âmbito Estadual\",\n",
    "    \"Servidor (a) temporário no âmbito federal\": \"Servidor(a) Temporário no Âmbito Federal\",\n",
    "    \"Servidor (a) temporário no âmbito municipal\": \"Servidor(a) Temporário no Âmbito Municipal\",\n",
    "    \"Servidor(a) público celetista municipal\": \"Servidor(a) Público Celetista Municipal\",\n",
    "    \"Servidor (a) comissionado (a) no âmbito municipal\": \"Servidor(a) Comissionado(a) no Âmbito Municipal\",\n",
    "    \"Servidor (a) comissionado (a) no âmbito federal\": \"Servidor(a) Comissionado(a) no Âmbito Federal\",\n",
    "}\n",
    "\n",
    "# Aplicar o mapeamento à coluna 'tipo_vinculo_ocupacao_atual'\n",
    "df['tipo_vinculo_ocupacao atual'] = df['tipo_vinculo_ocupacao atual'].map(mapeamento_ocupacao)\n",
    "\n",
    "# Contar os valores após o mapeamento\n",
    "tipo_vinculo_ocupacao_atual = df['tipo_vinculo_ocupacao atual'].value_counts()\n",
    "\n",
    "# Exibir o resultado\n",
    "print(tipo_vinculo_ocupacao_atual)"
   ]
  },
  {
   "cell_type": "markdown",
   "id": "2b18403a-4b50-4c2f-8e41-7877502b6d3f",
   "metadata": {},
   "source": [
    "## Caracterização da Organização"
   ]
  },
  {
   "cell_type": "code",
   "execution_count": 42,
   "id": "b30a1308-465c-472d-ab31-b0c3a28d85a8",
   "metadata": {},
   "outputs": [
    {
     "name": "stdout",
     "output_type": "stream",
     "text": [
      "\n",
      "Contagem por caracterização da organização atual:\n",
      "caracterizacao_organizacao_atual\n",
      "Instituição de Ensino Superior Pública                              862\n",
      "Empresa Privada                                                     417\n",
      "Instituição de Ensino da Rede Básica Pública                        324\n",
      "Organização do Terceiro Setor                                       221\n",
      "Assembleia Legislativa Estadual                                     143\n",
      "Empresa Pública/Autarquia                                           127\n",
      "Assembleia Legislativa Municipal                                     95\n",
      "Empresa Própria ou Sócio(a)                                          69\n",
      "Órgãos Públicos de Controle                                          62\n",
      "Instituição de Ensino Superior Privada com Fins Lucrativos           59\n",
      "Instituição de Ensino Superior Privada sem Fins Lucrativos           52\n",
      "Instituição de Ensino da Rede Básica Privada                         48\n",
      "Congresso Nacional                                                   19\n",
      "Instituição de Ensino da Rede Básica Privada sem Fins Lucrativos     10\n",
      "Name: count, dtype: int64\n"
     ]
    }
   ],
   "source": [
    "# Criar um dicionário de mapeamento para os valores de 'caracterizacao_organizacao'\n",
    "mapeamento_ocupacao = {\n",
    "    \"Instituição de ensino superior pública\": \"Instituição de Ensino Superior Pública\",\n",
    "    \"Instituição de ensino superior privada com fins lucrativos\": \"Instituição de Ensino Superior Privada com Fins Lucrativos\",\n",
    "    \"Instituição de ensino superior privada sem fins lucrativos (confessionais, comunitárias e fundações)\": \"Instituição de Ensino Superior Privada sem Fins Lucrativos\",\n",
    "    \"Instituição de ensino da rede básica pública\": \"Instituição de Ensino da Rede Básica Pública\",\n",
    "    \"Instituição de ensino da rede básica privada\": \"Instituição de Ensino da Rede Básica Privada\",\n",
    "    \"Instituição de ensino da rede básica privada sem fins lucrativos\": \"Instituição de Ensino da Rede Básica Privada sem Fins Lucrativos\",\n",
    "    \"Empresa pública/autarquia\": \"Empresa Pública/Autarquia\",\n",
    "    \"Congresso Nacional\": \"Congresso Nacional\",\n",
    "    \"Assembleia legislativa estadual\": \"Assembleia Legislativa Estadual\",\n",
    "    \"Assembleia legislativa municipal\": \"Assembleia Legislativa Municipal\",\n",
    "    \"Órgãos públicos de controle (Tribunais de contas, Ministério Público etc.)\": \"Órgãos Públicos de Controle\",\n",
    "    \"Empresa privada\": \"Empresa Privada\",\n",
    "    \"Organização do terceiro setor (ONGs, OSCIPs, OSs, cooperativas, associações, fundações etc.)\": \"Organização do Terceiro Setor\",\n",
    "    \"Empresa própria ou da qual você é sócio(a)\": \"Empresa Própria ou Sócio(a)\"\n",
    "}\n",
    "\n",
    "# Remover espaços em branco nas bordas dos valores na coluna\n",
    "df['caracterizacao_organizacao'] = df['caracterizacao_organizacao'].str.strip()\n",
    "\n",
    "# Aplicar o mapeamento à coluna 'caracterizacao_organizacao'\n",
    "df['caracterizacao_organizacao_atual'] = df['caracterizacao_organizacao'].map(mapeamento_ocupacao)\n",
    "\n",
    "# Contar os valores após o mapeamento\n",
    "caracterizacao_organizacao_atual = df['caracterizacao_organizacao_atual'].value_counts()\n",
    "\n",
    "# Exibir o resultado\n",
    "print(\"\\nContagem por caracterização da organização atual:\")\n",
    "print(caracterizacao_organizacao_atual)"
   ]
  },
  {
   "cell_type": "markdown",
   "id": "b6ea2d79-e703-4703-ac74-8b49bbb19d53",
   "metadata": {},
   "source": [
    "## Tamanho da Instituição no Setor Privado"
   ]
  },
  {
   "cell_type": "code",
   "execution_count": 43,
   "id": "73d148c8-c9b0-443f-9998-d69cdb06c59a",
   "metadata": {},
   "outputs": [
    {
     "name": "stdout",
     "output_type": "stream",
     "text": [
      "tamanho_instituicao\n",
      "Grande (mais de 250 funcionários)    517\n",
      "Pequena (até 50 funcionários)        426\n",
      "Média (51 a 250 funcionários)        239\n",
      "Name: count, dtype: int64\n"
     ]
    }
   ],
   "source": [
    "# Contar os valores\n",
    "tamanho_instituicao = df['tamanho_instituicao'].value_counts()\n",
    "\n",
    "# Exibir o resultado\n",
    "print(tamanho_instituicao)"
   ]
  },
  {
   "cell_type": "markdown",
   "id": "17f4ad45-0368-4ed9-ae16-6e5db9140842",
   "metadata": {},
   "source": [
    "## Perfil da Empresa no Setor Privado"
   ]
  },
  {
   "cell_type": "code",
   "execution_count": 44,
   "id": "faf8fe80-852a-41f3-864e-19227c12944e",
   "metadata": {},
   "outputs": [
    {
     "name": "stdout",
     "output_type": "stream",
     "text": [
      "perfil_empresa_privada\n",
      "Consultoria/Assessoria em Pesquisa                                              165\n",
      "Empresa do Setor de Serviços                                                    158\n",
      "Consultoria/Assessoria em Meio Ambiente e Sustentabilidade                       82\n",
      "Consultoria/Assessoria em Ensino e Educação                                      72\n",
      "Empresa do Setor Industrial                                                      54\n",
      "Empresa do Setor Financeiro                                                      48\n",
      "Consultoria/Assessoria Econômica em Relações Institucionais e Governamentais     40\n",
      "Consultoria/Assessoria em Cultura/Projetos Culturais                             36\n",
      "Consultoria/Assessoria em Governança Social e Diversidade                        25\n",
      "Consultoria/Assessoria Econômica ou Financeira                                   18\n",
      "Name: count, dtype: int64\n"
     ]
    }
   ],
   "source": [
    "# Criar um dicionário de mapeamento para os valores de 'perfil_empresa_privada'\n",
    "mapeamento_ocupacao = {\n",
    "    \"Consultoria/assessoria econômica ou financeira\": \"Consultoria/Assessoria Econômica ou Financeira\",\n",
    "    \"Consultoria/assessoria econômica em relações institucionais e governamentais\": \"Consultoria/Assessoria Econômica em Relações Institucionais e Governamentais\",\n",
    "    \"Consultoria/assessoria em pesquisa\": \"Consultoria/Assessoria em Pesquisa\",\n",
    "    \"Consultoria/assessoria em ensino e educação\": \"Consultoria/Assessoria em Ensino e Educação\",\n",
    "    \"Consultoria/assessoria em meio ambiente e sustentabilidade\": \"Consultoria/Assessoria em Meio Ambiente e Sustentabilidade\",\n",
    "    \"Consultoria/assessoria em governança social e diversidade\": \"Consultoria/Assessoria em Governança Social e Diversidade\",\n",
    "    \"Consultoria/assessoria em cultura/projetos culturais\": \"Consultoria/Assessoria em Cultura/Projetos Culturais\",\n",
    "    \"Empresa do setor industrial\": \"Empresa do Setor Industrial\",\n",
    "    \"Empresa do setor de serviços\": \"Empresa do Setor de Serviços\",\n",
    "    \"Empresa do setor financeiro\": \"Empresa do Setor Financeiro\"\n",
    "}\n",
    "\n",
    "# Aplicar o mapeamento à coluna 'perfil_empresa_privada'\n",
    "df['perfil_empresa_privada'] = df['perfil_empresa_privada'].map(mapeamento_ocupacao)\n",
    "\n",
    "# Contar os valores após o mapeamento\n",
    "perfil_empresa_privada = df['perfil_empresa_privada'].value_counts()\n",
    "\n",
    "# Exibir o resultado\n",
    "print(perfil_empresa_privada)"
   ]
  },
  {
   "cell_type": "markdown",
   "id": "47788292-19c6-4ed9-9664-34e6d316a7a3",
   "metadata": {},
   "source": [
    "## Ramo de Atuação no Setor Público"
   ]
  },
  {
   "cell_type": "code",
   "execution_count": 45,
   "id": "1afc6a1f-3aa8-4f6c-bd45-0204b08ede0c",
   "metadata": {},
   "outputs": [
    {
     "name": "stdout",
     "output_type": "stream",
     "text": [
      "perfil_ramo_atuacao_publico\n",
      "Educação                  809\n",
      "Pesquisa                  298\n",
      "Cultura                    53\n",
      "Direitos Humanos           51\n",
      "Desenvolvimento social     46\n",
      "                         ... \n",
      "governança                  1\n",
      "Orçamento e Controle        1\n",
      "Marketing                   1\n",
      "Gestão Governamental        1\n",
      "Regulação                   1\n",
      "Name: count, Length: 166, dtype: int64\n"
     ]
    }
   ],
   "source": [
    "# Contar os valores\n",
    "perfil_ramo_atuacao_publico = df['perfil_ramo_atuacao_publico'].value_counts()\n",
    "\n",
    "# Exibir o resultado\n",
    "print(perfil_ramo_atuacao_publico)"
   ]
  },
  {
   "cell_type": "markdown",
   "id": "6f870810-01d6-426d-af02-d4ec452d95e5",
   "metadata": {},
   "source": [
    "## Expectativas Iniciais com a Profissão"
   ]
  },
  {
   "cell_type": "code",
   "execution_count": 46,
   "id": "7227f861-1463-464c-8880-9a40e885a977",
   "metadata": {},
   "outputs": [
    {
     "name": "stdout",
     "output_type": "stream",
     "text": [
      "expectativas_iniciais_profissao\n",
      "Ser Professor E Pesquisador Em Instituições Públicas De Ensino                      1329\n",
      "Contribuir Para A Produção De Conhecimento Científico Na Minha Área De Interesse     514\n",
      "Avançar Na Minha Carreira Profissional Fora Do Ambiente Acadêmico                    374\n",
      "Desenvolver Habilidades De Pesquisa E Análise De Dados                               299\n",
      "Explorar Novas Oportunidades De Carreira Além Do Campo Das Ciências Sociais          177\n",
      "                                                                                    ... \n",
      "Atuar Com Políticas Públicas                                                           1\n",
      "Gestão De Políticas Publicas                                                           1\n",
      "Estudo Da Sociedade Brasileira, Das Relações Sociais                                   1\n",
      "Transformar A Qualidade De Vida Das Pessoas                                            1\n",
      "Trabalhar Na Área Social                                                               1\n",
      "Name: count, Length: 138, dtype: int64\n"
     ]
    }
   ],
   "source": [
    "# Remover o ponto final das frases na coluna 'expectativas_iniciais_profissao' e capitalizar as palavras\n",
    "df['expectativas_iniciais_profissao'] = df['expectativas_iniciais_profissao'].str.rstrip('.').str.title()\n",
    "\n",
    "# Contar os valores\n",
    "expectativas_iniciais_profissao = df['expectativas_iniciais_profissao'].value_counts()\n",
    "\n",
    "# Exibir o resultado\n",
    "print(expectativas_iniciais_profissao)"
   ]
  },
  {
   "cell_type": "markdown",
   "id": "24427bee-1356-4203-bc97-fd06a7cbcf60",
   "metadata": {},
   "source": [
    "## Expectativas Alcançadas na Profissão"
   ]
  },
  {
   "cell_type": "code",
   "execution_count": 47,
   "id": "b940563d-f026-469a-83ff-4f6c8b7c2085",
   "metadata": {},
   "outputs": [
    {
     "name": "stdout",
     "output_type": "stream",
     "text": [
      "expectativas_alcancadas\n",
      "Um Pouco Abaixo Das Expectativas    871\n",
      "Muito Abaixo Das Expectativas       798\n",
      "Conforme As Expectativas            659\n",
      "Um Pouco Acima Das Expectativas     289\n",
      "Muito Acima Das Expectativas        269\n",
      "Name: count, dtype: int64\n"
     ]
    }
   ],
   "source": [
    "# Capitalizar os valores na coluna 'expectativas_alcancadas'\n",
    "df['expectativas_alcancadas'] = df['expectativas_alcancadas'].str.title()\n",
    "\n",
    "# Contar os valores\n",
    "expectativas_alcancadas = df['expectativas_alcancadas'].value_counts()\n",
    "\n",
    "# Exibir o resultado\n",
    "print(expectativas_alcancadas)"
   ]
  },
  {
   "cell_type": "markdown",
   "id": "a149b00f-5bd6-42d5-96ed-bdd06115a9f5",
   "metadata": {},
   "source": [
    "## Sentimento em Relação à Carreira Atualmente"
   ]
  },
  {
   "cell_type": "code",
   "execution_count": 48,
   "id": "eea1db41-c1d1-4c82-a9b2-c872cad26ae9",
   "metadata": {},
   "outputs": [
    {
     "name": "stdout",
     "output_type": "stream",
     "text": [
      "satisfacao_carreira\n",
      "Satisfeito(A)                            1046\n",
      "Insatisfeito(A)                           595\n",
      "Nem Satisfeito(A) Nem Insatisfeito(A)     562\n",
      "Muito Satisfeito(A)                       351\n",
      "Muito Insatisfeito(A)                     327\n",
      "Name: count, dtype: int64\n"
     ]
    }
   ],
   "source": [
    "# Capitalizar os valores na coluna 'satisfacao_carreira'\n",
    "df['satisfacao_carreira'] = df['satisfacao_carreira'].str.title()\n",
    "\n",
    "# Contar os valores\n",
    "satisfacao_carreira = df['satisfacao_carreira'].value_counts()\n",
    "\n",
    "# Exibir o resultado\n",
    "print(satisfacao_carreira)"
   ]
  },
  {
   "cell_type": "markdown",
   "id": "9af5c833-61bb-450c-a88f-46db7f821086",
   "metadata": {},
   "source": [
    "## Fatores para o Sucesso Profissional"
   ]
  },
  {
   "cell_type": "code",
   "execution_count": 49,
   "id": "75dfe1e0-532e-4f4c-9975-804e46ee1e1d",
   "metadata": {},
   "outputs": [
    {
     "name": "stdout",
     "output_type": "stream",
     "text": [
      "fatores_sucesso_profissional\n",
      "Relevância Do Trabalho Para A Sociedade                                                                                                                                                                                    208\n",
      "Relevância Do Trabalho Para A Sociedade + Reconhecimento Acadêmico + Remuneração + Equilíbrio Entre Vida Profissional E Pessoal + Oportunidades De Pesquisa E Publicação + Desenvolvimento De Habilidades Profissionais    160\n",
      "Relevância Do Trabalho Para A Sociedade + Remuneração + Equilíbrio Entre Vida Profissional E Pessoal                                                                                                                       152\n",
      "Relevância Do Trabalho Para A Sociedade + Reconhecimento Acadêmico + Remuneração                                                                                                                                           122\n",
      "Relevância Do Trabalho Para A Sociedade + Reconhecimento Acadêmico + Remuneração + Oportunidades De Pesquisa E Publicação                                                                                                  116\n",
      "                                                                                                                                                                                                                          ... \n",
      "Reconhecimento Acadêmico + Equilíbrio Entre Vida Profissional E Pessoal                                                                                                                                                      6\n",
      "Relevância Do Trabalho Para A Sociedade + Reconhecimento Acadêmico + Equilíbrio Entre Vida Profissional E Pessoal + Desenvolvimento De Habilidades Profissionais                                                             5\n",
      "Reconhecimento Acadêmico + Equilíbrio Entre Vida Profissional E Pessoal + Oportunidades De Pesquisa E Publicação + Desenvolvimento De Habilidades Profissionais                                                              4\n",
      "Reconhecimento Acadêmico + Equilíbrio Entre Vida Profissional E Pessoal + Desenvolvimento De Habilidades Profissionais                                                                                                       3\n",
      "Equilíbrio Entre Vida Profissional E Pessoal + Oportunidades De Pesquisa E Publicação                                                                                                                                        3\n",
      "Name: count, Length: 63, dtype: int64\n"
     ]
    }
   ],
   "source": [
    "# Capitalizar os valores na coluna 'fatores_sucesso_profissional'\n",
    "df['fatores_sucesso_profissional'] = df['fatores_sucesso_profissional'].str.title()\n",
    "\n",
    "# Contar os valores\n",
    "fatores_sucesso_profissional = df['fatores_sucesso_profissional'].value_counts()\n",
    "\n",
    "# Exibir o resultado\n",
    "print(fatores_sucesso_profissional)"
   ]
  },
  {
   "cell_type": "markdown",
   "id": "66123acd-ce15-4461-b84d-b57b4daea9e5",
   "metadata": {},
   "source": [
    "## Desafios para a Realização Profissional"
   ]
  },
  {
   "cell_type": "code",
   "execution_count": 50,
   "id": "af7b553f-5a25-49c2-b384-bee92d082311",
   "metadata": {},
   "outputs": [
    {
     "name": "stdout",
     "output_type": "stream",
     "text": [
      "desafios_realizacao_profissional\n",
      "Dificuldade Em Encontrar Oportunidades De Emprego Na Área De Ciências Sociais                                                                                                                                                                                                                                                                                                                             396\n",
      "Dificuldade Em Encontrar Oportunidades De Emprego Na Área De Ciências Sociais + Falta De Reconhecimento Ou Valorização Das Habilidades Adquiridas Durante A Pós-Graduação                                                                                                                                                                                                                                 201\n",
      "Dificuldade Em Encontrar Oportunidades De Emprego Na Área De Ciências Sociais + Dificuldades Para Estabelecer Uma Rede Profissional Ou Acadêmica                                                                                                                                                                                                                                                          130\n",
      "Desafios Para Equilibrar Trabalho E Vida Pessoal.                                                                                                                                                                                                                                                                                                                                                         128\n",
      "Dificuldade Em Encontrar Oportunidades De Emprego Na Área De Ciências Sociais + Falta De Reconhecimento Ou Valorização Das Habilidades Adquiridas Durante A Pós-Graduação + Dificuldades Para Estabelecer Uma Rede Profissional Ou Acadêmica                                                                                                                                                              103\n",
      "                                                                                                                                                                                                                                                                                                                                                                                                         ... \n",
      "Concorrência Acirrada No Mercado De Trabalho + Falta De Reconhecimento Ou Valorização Das Habilidades Adquiridas Durante A Pós-Graduação + Desafios Para Equilibrar Trabalho E Vida Pessoal. + Barreiras Para Publicação De Pesquisas Ou Acesso A Recursos Acadêmicos + Dificuldades Para Estabelecer Uma Rede Profissional Ou Acadêmica                                                                    1\n",
      "Dificuldade Em Encontrar Oportunidades De Emprego Na Área De Ciências Sociais + Concorrência Acirrada No Mercado De Trabalho + Falta De Reconhecimento Ou Valorização Das Habilidades Adquiridas Durante A Pós-Graduação + Desafios Para Equilibrar Trabalho E Vida Pessoal. + Dificuldades Para Estabelecer Uma Rede Profissional Ou Acadêmica + Discriminação Ou Preconceito No Ambiente De Trabalho      1\n",
      "Desafios Para Equilibrar Trabalho E Vida Pessoal. + Dificuldades Para Estabelecer Uma Rede Profissional Ou Acadêmica + Limitações Geográficas Na Busca Por Oportunidades De Trabalho + Discriminação Ou Preconceito No Ambiente De Trabalho                                                                                                                                                                 1\n",
      "Dificuldade Em Encontrar Oportunidades De Emprego Na Área De Ciências Sociais + Concorrência Acirrada No Mercado De Trabalho + Falta De Reconhecimento Ou Valorização Das Habilidades Adquiridas Durante A Pós-Graduação + Desafios Para Equilibrar Trabalho E Vida Pessoal. + Limitações Geográficas Na Busca Por Oportunidades De Trabalho + Discriminação Ou Preconceito No Ambiente De Trabalho         1\n",
      "Dificuldade Em Encontrar Oportunidades De Emprego Na Área De Ciências Sociais + Concorrência Acirrada No Mercado De Trabalho + Barreiras Para Publicação De Pesquisas Ou Acesso A Recursos Acadêmicos + Dificuldades Para Estabelecer Uma Rede Profissional Ou Acadêmica + Limitações Geográficas Na Busca Por Oportunidades De Trabalho + Discriminação Ou Preconceito No Ambiente De Trabalho             1\n",
      "Name: count, Length: 202, dtype: int64\n"
     ]
    }
   ],
   "source": [
    "# Capitalizar os valores na coluna 'desafios_realizacao_profissional'\n",
    "df['desafios_realizacao_profissional'] = df['desafios_realizacao_profissional'].str.title()\n",
    "\n",
    "# Contar os valores\n",
    "desafios_realizacao_profissional = df['desafios_realizacao_profissional'].value_counts()\n",
    "\n",
    "# Exibir o resultado\n",
    "print(desafios_realizacao_profissional)"
   ]
  },
  {
   "cell_type": "markdown",
   "id": "a204329c-d6d1-451c-b04c-47b245ba43fb",
   "metadata": {},
   "source": [
    "## Compatibilidade do Emprego com a Formação"
   ]
  },
  {
   "cell_type": "code",
   "execution_count": 51,
   "id": "719f9b4f-17d9-4232-8c41-0659b1c81a82",
   "metadata": {},
   "outputs": [
    {
     "name": "stdout",
     "output_type": "stream",
     "text": [
      "compatibilidade_emprego_formacao\n",
      "7    1122\n",
      "0    1094\n",
      "5     457\n",
      "6     379\n",
      "1     308\n",
      "4     285\n",
      "3     174\n",
      "2     113\n",
      "Name: count, dtype: int64\n"
     ]
    }
   ],
   "source": [
    "# Contar os valores\n",
    "compatibilidade_emprego_formacao = df['compatibilidade_emprego_formacao'].value_counts()\n",
    "\n",
    "# Exibir o resultado\n",
    "print(compatibilidade_emprego_formacao)"
   ]
  },
  {
   "cell_type": "markdown",
   "id": "d20e93c0-ce08-4f10-8ba1-5d29827c1f05",
   "metadata": {},
   "source": [
    "## O Currículo do Curso Atende às Necessidades Profissionais"
   ]
  },
  {
   "cell_type": "code",
   "execution_count": 52,
   "id": "191bcd6d-6d3d-4458-8b79-9d6b320730d4",
   "metadata": {},
   "outputs": [
    {
     "name": "stdout",
     "output_type": "stream",
     "text": [
      "curriculo_atende_necessidades\n",
      "Sim, Mas Há Espaço Para Melhorias Direcionadas A Atender Melhor Às Necessidades Profissionais    1326\n",
      "Não, Há Uma Defasagem Entre O Currículo Dos Cursos E As Necessidades Profissionais.              1082\n",
      "Sim, O Currículo Dos Cursos Atende Plenamente Às Necessidades Profissionais                       299\n",
      "Não Tenho Certeza                                                                                 119\n",
      "Name: count, dtype: int64\n"
     ]
    }
   ],
   "source": [
    "# Capitalizar os valores na coluna 'curriculo_atende_necessidades'\n",
    "df['curriculo_atende_necessidades'] = df['curriculo_atende_necessidades'].str.title()\n",
    "\n",
    "# Contar os valores\n",
    "curriculo_atende_necessidades = df['curriculo_atende_necessidades'].value_counts()\n",
    "\n",
    "# Exibir o resultado\n",
    "print(curriculo_atende_necessidades)               "
   ]
  },
  {
   "cell_type": "markdown",
   "id": "df2a8192-bb94-4f11-8145-8936c8552bfc",
   "metadata": {},
   "source": [
    "## Conhecimento Aplicável"
   ]
  },
  {
   "cell_type": "code",
   "execution_count": 53,
   "id": "665f526b-313f-4d4d-b8c6-a07f8a01bc7f",
   "metadata": {},
   "outputs": [
    {
     "name": "stdout",
     "output_type": "stream",
     "text": [
      "conhecimento_aplicavel\n",
      "Sim    2208\n",
      "Não     614\n",
      "Name: count, dtype: int64\n"
     ]
    }
   ],
   "source": [
    "# Capitalizar os valores na coluna 'conhecimento_aplicavel'\n",
    "df['conhecimento_aplicavel'] = df['conhecimento_aplicavel'].str.title()\n",
    "\n",
    "# Contar os valores\n",
    "conhecimento_aplicavel = df['conhecimento_aplicavel'].value_counts()\n",
    "\n",
    "# Exibir o resultado\n",
    "print(conhecimento_aplicavel)          "
   ]
  },
  {
   "cell_type": "markdown",
   "id": "329fb34b-87f7-402e-86dc-f288c83349c1",
   "metadata": {},
   "source": [
    "## Como Adquiriu os Conhecimentos Aplicáveis Necessários"
   ]
  },
  {
   "cell_type": "code",
   "execution_count": 54,
   "id": "060474c0-6c22-4f7f-95e8-502ec66ab3e4",
   "metadata": {},
   "outputs": [
    {
     "name": "stdout",
     "output_type": "stream",
     "text": [
      "como_adquiriu_conhecimento\n",
      "Por Conta Própria                            1095\n",
      "Cursos Complementares Ou De Curta Duração     621\n",
      "Treinamentos No Local De Trabalho             544\n",
      "Name: count, dtype: int64\n"
     ]
    }
   ],
   "source": [
    "# Criar um dicionário de mapeamento para os valores de 'como_adquiriu_conhecimento'\n",
    "mapeamento_ocupacao = {\n",
    "    \"Adquiri esses conhecimentos por conta própria\": \"Por Conta Própria\",\n",
    "    \"Adquiri esses conhecimentos através de cursos complementares ou de curta duração\": \"Cursos Complementares Ou De Curta Duração\",\n",
    "    \"Adquiri esses conhecimentos através de treinamentos no local de trabalho\": \"Treinamentos No Local De Trabalho\"\n",
    "}\n",
    "\n",
    "# Aplicar o mapeamento à coluna 'como_adquiriu_conhecimento'\n",
    "df['como_adquiriu_conhecimento'] = df['como_adquiriu_conhecimento'].map(mapeamento_ocupacao)\n",
    "\n",
    "# Contar os valores\n",
    "como_adquiriu_conhecimento = df['como_adquiriu_conhecimento'].value_counts()\n",
    "\n",
    "# Exibir o resultado\n",
    "print(como_adquiriu_conhecimento) "
   ]
  },
  {
   "cell_type": "markdown",
   "id": "6ebd8dcd-6555-4094-ae9b-b3cb9a339e9f",
   "metadata": {},
   "source": [
    "## Conhecimento Necessário nos Cursos de Ciência Política"
   ]
  },
  {
   "cell_type": "code",
   "execution_count": 55,
   "id": "c4728879-6148-4a39-a61f-d73060b27837",
   "metadata": {},
   "outputs": [
    {
     "name": "stdout",
     "output_type": "stream",
     "text": [
      "conhecimento_necessario\n",
      "Habilidades Em Análise Estatística E Quantitativa + Conhecimentos Em Ferramentas De Coleta E Análise De Dados (Por Exemplo, Software Estatístico, Ferramentas De Visualização De Dados) + Competências Em Pesquisa Qualitativa (Por Exemplo, Entrevistas, Análise De Conteúdo) + Conhecimentos Em Programação E Análise De Dados Em Linguagens Como R Ou Python + Habilidades Em Comunicação E Apresentação De Resultados De Pesquisa + Competências Para Gerir Projetos De Pesquisa + Competências E Habilidades Relacionadas À Gestão Empresarial    235\n",
      "Habilidades Em Análise Estatística E Quantitativa + Conhecimentos Em Ferramentas De Coleta E Análise De Dados (Por Exemplo, Software Estatístico, Ferramentas De Visualização De Dados) + Competências Em Pesquisa Qualitativa (Por Exemplo, Entrevistas, Análise De Conteúdo) + Conhecimentos Em Programação E Análise De Dados Em Linguagens Como R Ou Python + Habilidades Em Comunicação E Apresentação De Resultados De Pesquisa + Competências Para Gerir Projetos De Pesquisa                                                                   173\n",
      "Habilidades Em Análise Estatística E Quantitativa + Conhecimentos Em Ferramentas De Coleta E Análise De Dados (Por Exemplo, Software Estatístico, Ferramentas De Visualização De Dados) + Conhecimentos Em Programação E Análise De Dados Em Linguagens Como R Ou Python                                                                                                                                                                                                                                                                               113\n",
      "Habilidades Em Análise Estatística E Quantitativa + Conhecimentos Em Ferramentas De Coleta E Análise De Dados (Por Exemplo, Software Estatístico, Ferramentas De Visualização De Dados) + Competências Em Pesquisa Qualitativa (Por Exemplo, Entrevistas, Análise De Conteúdo) + Habilidades Em Comunicação E Apresentação De Resultados De Pesquisa + Competências Para Gerir Projetos De Pesquisa                                                                                                                                                     81\n",
      "Habilidades Em Análise Estatística E Quantitativa + Conhecimentos Em Ferramentas De Coleta E Análise De Dados (Por Exemplo, Software Estatístico, Ferramentas De Visualização De Dados) + Competências Em Pesquisa Qualitativa (Por Exemplo, Entrevistas, Análise De Conteúdo) + Conhecimentos Em Programação E Análise De Dados Em Linguagens Como R Ou Python                                                                                                                                                                                         73\n",
      "                                                                                                                                                                                                                                                                                                                                                                                                                                                                                                                                                      ... \n",
      "Habilidades Em Análise Estatística E Quantitativa + Conhecimentos Em Ferramentas De Coleta E Análise De Dados (Por Exemplo, Software Estatístico, Ferramentas De Visualização De Dados) + Competências Para Gerir Projetos De Pesquisa + Competências E Habilidades Relacionadas À Gestão Empresarial + Competências Relacionadas À Atuação Em Sala De Aula Enquanto Docente                                                                                                                                                                             1\n",
      "Competências Em Pesquisa Qualitativa (Por Exemplo, Entrevistas, Análise De Conteúdo) + Habilidades Em Comunicação E Apresentação De Resultados De Pesquisa + Competências Para Gerir Projetos De Pesquisa + Saber Gerir Projetos Sociais                                                                                                                                                                                                                                                                                                                 1\n",
      "Conhecimentos Em Ferramentas De Coleta E Análise De Dados (Por Exemplo, Software Estatístico, Ferramentas De Visualização De Dados) + Competências Em Pesquisa Qualitativa (Por Exemplo, Entrevistas, Análise De Conteúdo) + Habilidades Em Comunicação E Apresentação De Resultados De Pesquisa + Competências E Habilidades Relacionadas À Gestão Empresarial                                                                                                                                                                                          1\n",
      "Conhecimentos Em Ferramentas De Coleta E Análise De Dados (Por Exemplo, Software Estatístico, Ferramentas De Visualização De Dados) + Competências Em Pesquisa Qualitativa (Por Exemplo, Entrevistas, Análise De Conteúdo) + Competências Para Gerir Projetos De Pesquisa + Competências E Habilidades Relacionadas À Gestão Empresarial + Habilidades Em Gestão Institucional                                                                                                                                                                           1\n",
      "Habilidades Em Análise Estatística E Quantitativa + Conhecimentos Em Ferramentas De Coleta E Análise De Dados (Por Exemplo, Software Estatístico, Ferramentas De Visualização De Dados) + Competências Em Pesquisa Qualitativa (Por Exemplo, Entrevistas, Análise De Conteúdo) + Conhecimentos Em Programação E Análise De Dados Em Linguagens Como R Ou Python + Habilidades Em Comunicação E Apresentação De Resultados De Pesquisa + Competências E Habilidades Relacionadas À Gestão Empresarial + Power Bi                                          1\n",
      "Name: count, Length: 552, dtype: int64\n"
     ]
    }
   ],
   "source": [
    "# Capitalizar os valores na coluna 'desafios_realizacao_profissional'\n",
    "df['conhecimento_necessario'] = df['conhecimento_necessario'].str.title()\n",
    "\n",
    "# Contar os valores\n",
    "conhecimento_necessario = df['conhecimento_necessario'].value_counts()\n",
    "\n",
    "# Exibir o resultado\n",
    "print(conhecimento_necessario)"
   ]
  },
  {
   "cell_type": "markdown",
   "id": "fcf35c44-9545-45ce-9784-39ab8aa7e030",
   "metadata": {},
   "source": [
    "#### A formação em Ciências Sociais ajuda a desenvolver habilidades como leitura e escrita. Em que medida essas habilidades têm sido úteis na sua atividade profissional?"
   ]
  },
  {
   "cell_type": "code",
   "execution_count": 56,
   "id": "73cc342d-beb6-42fe-885b-2bdbeb7c561e",
   "metadata": {},
   "outputs": [
    {
     "name": "stdout",
     "output_type": "stream",
     "text": [
      "habilidades_utilidade_leitura_escrita\n",
      "Extremamente Importante    1516\n",
      "Muito Importante            735\n",
      "Importante                  423\n",
      "Pouco Importante             87\n",
      "Nada Importante              30\n",
      "Name: count, dtype: int64\n"
     ]
    }
   ],
   "source": [
    "# Capitalizar os valores na coluna 'habilidades_utilidade_leitura_escrita'\n",
    "df['habilidades_utilidade_leitura_escrita'] = df['habilidades_utilidade_leitura_escrita'].str.title()\n",
    "\n",
    "# Contar os valores\n",
    "habilidades_utilidade_leitura_escrita = df['habilidades_utilidade_leitura_escrita'].value_counts()\n",
    "\n",
    "# Exibir o resultado\n",
    "print(habilidades_utilidade_leitura_escrita)"
   ]
  },
  {
   "cell_type": "markdown",
   "id": "2891af9b-a481-427e-a5ab-6203b6708c57",
   "metadata": {},
   "source": [
    "#### A formação em Ciências Sociais ajuda a desenvolver habilidades como pensamento sistemático e capacidade analítica. Em que medida essas habilidades têm sido úteis na sua atividade profissional?"
   ]
  },
  {
   "cell_type": "code",
   "execution_count": 57,
   "id": "90f59cb2-b985-455f-91e3-4eb3d7354557",
   "metadata": {},
   "outputs": [
    {
     "name": "stdout",
     "output_type": "stream",
     "text": [
      "habilidades_utilidade_pensamento_analitico\n",
      "Extremamente Importante    1617\n",
      "Muito Importante            681\n",
      "Importante                  391\n",
      "Pouco Importante             72\n",
      "Nada Importante              24\n",
      "Name: count, dtype: int64\n"
     ]
    }
   ],
   "source": [
    "# Capitalizar os valores na coluna 'habilidades_utilidade_pensamento_analitico'\n",
    "df['habilidades_utilidade_pensamento_analitico'] = df['habilidades_utilidade_pensamento_analitico'].str.title()\n",
    "\n",
    "# Contar os valores\n",
    "habilidades_utilidade_pensamento_analitico = df['habilidades_utilidade_pensamento_analitico'].value_counts()\n",
    "\n",
    "# Exibir o resultado\n",
    "print(habilidades_utilidade_pensamento_analitico)"
   ]
  },
  {
   "cell_type": "markdown",
   "id": "4fd4dd6c-ce84-4948-a4c8-716e247a4bc9",
   "metadata": {},
   "source": [
    "#### A formação em Ciências Sociais ajuda a desenvolver habilidades como coleta, tratamento e análise de dados. Em que medida essas habilidades têm sido úteis na sua atividade profissional?"
   ]
  },
  {
   "cell_type": "code",
   "execution_count": 58,
   "id": "1aa87d60-16bf-49a3-9029-be6a0b1807d1",
   "metadata": {},
   "outputs": [
    {
     "name": "stdout",
     "output_type": "stream",
     "text": [
      "habilidades_utilidade_analise_dados\n",
      "Extremamente Importante    1159\n",
      "Muito Importante            670\n",
      "Importante                  607\n",
      "Pouco Importante            245\n",
      "Nada Importante             111\n",
      "Name: count, dtype: int64\n"
     ]
    }
   ],
   "source": [
    "# Capitalizar os valores na coluna 'habilidades_utilidade_analise_dados'\n",
    "df['habilidades_utilidade_analise_dados'] = df['habilidades_utilidade_analise_dados'].str.title()\n",
    "\n",
    "# Contar os valores\n",
    "habilidades_utilidade_analise_dados = df['habilidades_utilidade_analise_dados'].value_counts()\n",
    "\n",
    "# Exibir o resultado\n",
    "print(habilidades_utilidade_analise_dados)"
   ]
  }
 ],
 "metadata": {
  "kernelspec": {
   "display_name": "Python 3 (ipykernel)",
   "language": "python",
   "name": "python3"
  },
  "language_info": {
   "codemirror_mode": {
    "name": "ipython",
    "version": 3
   },
   "file_extension": ".py",
   "mimetype": "text/x-python",
   "name": "python",
   "nbconvert_exporter": "python",
   "pygments_lexer": "ipython3",
   "version": "3.8.10"
  }
 },
 "nbformat": 4,
 "nbformat_minor": 5
}
