{
 "cells": [
  {
   "cell_type": "markdown",
   "id": "21651082-c451-4fdc-b9bf-5110f8477f8c",
   "metadata": {},
   "source": [
    "# Importações"
   ]
  },
  {
   "cell_type": "code",
   "execution_count": 1,
   "id": "d6050949-2605-400d-a8bb-2e89e21d9f41",
   "metadata": {},
   "outputs": [],
   "source": [
    "import pandas as pd\n",
    "import matplotlib.pyplot as plt\n",
    "import numpy as np\n",
    "import re\n",
    "import seaborn as sns\n",
    "import numpy as np\n",
    "import os"
   ]
  },
  {
   "cell_type": "markdown",
   "id": "92258111-d300-4572-9f6e-0bd46a5255c8",
   "metadata": {},
   "source": [
    "# Leitura do Arquivo"
   ]
  },
  {
   "cell_type": "code",
   "execution_count": 2,
   "id": "10a9ea28-b4c4-4933-b5af-de576e9842ab",
   "metadata": {},
   "outputs": [],
   "source": [
    "# Caminho do arquivo Excel\n",
    "excel_file = \"arw.xlsx\"\n",
    "\n",
    "# Leitura do arquivo Excel\n",
    "df = pd.read_excel(excel_file, sheet_name='Respondentes')"
   ]
  },
  {
   "cell_type": "markdown",
   "id": "8169726c-f1cc-4447-a06d-41e5b325d6eb",
   "metadata": {},
   "source": [
    "# Ajustes Iniciais"
   ]
  },
  {
   "cell_type": "code",
   "execution_count": 3,
   "id": "4a76c3db-8046-4cfc-a111-aa1ad244d4db",
   "metadata": {},
   "outputs": [],
   "source": [
    "# Drop das colunas desnecessárias\n",
    "columns_to_drop = ['endereco_ip', 'coletor', 'tempo_gasto', 'data_resposta', 'concorda_termo_consentimento']\n",
    "columns_to_drop = [col for col in columns_to_drop if col in df.columns]\n",
    "df.drop(columns=columns_to_drop, inplace=True)\n",
    "\n",
    "# Função para converter floats em inteiros\n",
    "def converter_float_para_int(df):\n",
    "    for coluna in df.columns:\n",
    "        if df[coluna].dtype == 'float64':\n",
    "            # Verifica se há valores NaN na coluna e os preenche com 0 (ou outro valor apropriado) antes da conversão\n",
    "            df[coluna].fillna(0, inplace=True)\n",
    "            df[coluna] = df[coluna].astype(int)\n",
    "    return df\n",
    "\n",
    "# Aplicar a função para converter floats em inteiros\n",
    "df = converter_float_para_int(df)"
   ]
  },
  {
   "cell_type": "markdown",
   "id": "2cbf30de-5536-4672-8e39-30092ebb7772",
   "metadata": {},
   "source": [
    "# Transformações"
   ]
  },
  {
   "cell_type": "markdown",
   "id": "1ed5331c-76cb-45bc-a6e3-3cd6bd9d5599",
   "metadata": {},
   "source": [
    "## Identificação de Gênero"
   ]
  },
  {
   "cell_type": "code",
   "execution_count": 4,
   "id": "d07d6aae-adf1-4c18-b4e4-6c90ca26c128",
   "metadata": {},
   "outputs": [
    {
     "name": "stdout",
     "output_type": "stream",
     "text": [
      "Contagem de cada valor:\n",
      "identificacao_genero\n",
      "Mulher cisgênero         2128\n",
      "Homem cisgênero          1489\n",
      "Pessoa não-binária         66\n",
      "Prefiro não responder      41\n",
      "Homem transgênero          10\n",
      "Agênero                    10\n",
      "Mulher transgênero          7\n",
      "Name: count, dtype: int64\n"
     ]
    }
   ],
   "source": [
    "# Função para remover o texto após o parêntese, incluindo o próprio parêntese\n",
    "def remover_apos_parentese(texto):\n",
    "    if isinstance(texto, str):\n",
    "        return re.sub(r'\\s*\\(.*\\)', '', texto).strip()\n",
    "    return texto\n",
    "\n",
    "# Aplicar a função à coluna 'identificacao_genero'\n",
    "df['identificacao_genero'] = df['identificacao_genero'].apply(remover_apos_parentese)\n",
    "\n",
    "# Contar as ocorrências de cada valor único na coluna 'identificacao_genero'\n",
    "identificacao_genero_counts = df['identificacao_genero'].value_counts()\n",
    "\n",
    "# Exibir o resultado\n",
    "print(\"Contagem de cada valor:\")\n",
    "print(identificacao_genero_counts)"
   ]
  },
  {
   "cell_type": "markdown",
   "id": "bfba085d-2fa4-4475-a3aa-ca68dd6765ba",
   "metadata": {},
   "source": [
    "## Ano de Conclusão da Graduação"
   ]
  },
  {
   "cell_type": "code",
   "execution_count": 5,
   "id": "2566ee08-84f7-4c3a-b490-2408ccb02a22",
   "metadata": {},
   "outputs": [
    {
     "name": "stdout",
     "output_type": "stream",
     "text": [
      "Valores únicos antes da substituição:\n",
      "[   0 2003 1996 2005 2006 2008 2007 1981 1973 2013 1992 2000 2015 2011\n",
      " 1995 2017 2019 2018 1983 2004 2014 2023 2002 2012 1975 1980 1998 1989\n",
      " 1986 1997 1999 2016 2010 2001 1987 2022 2020 2009 2021 1984 2024 1979\n",
      " 1970 1971 1993 1982 1991 2025 1985 1976 1994 1990 1974   88 2027 1988\n",
      " 1965   -1   -7 1967 2026   19    1   -3    7 1978  224   -2  -91 1964\n",
      "    2 1960    9 2028 1968  777    5  666 1977 1972 1900 2029]\n",
      "\n",
      "Valores únicos após a substituição:\n",
      "<IntegerArray>\n",
      "[<NA>, 2003, 1996, 2005, 2006, 2008, 2007, 1981, 1973, 2013, 1992, 2000, 2015,\n",
      " 2011, 1995, 2017, 2019, 2018, 1983, 2004, 2014, 2023, 2002, 2012, 1975, 1980,\n",
      " 1998, 1989, 1986, 1997, 1999, 2016, 2010, 2001, 1987, 2022, 2020, 2009, 2021,\n",
      " 1984, 2024, 1979, 1970, 1971, 1993, 1982, 1991, 2025, 1985, 1976, 1994, 1990,\n",
      " 1974, 2027, 1988, 1965, 1967, 2026, 1978, 1964, 1960, 2028, 1968, 1977, 1972,\n",
      " 2029]\n",
      "Length: 66, dtype: Int64\n",
      "\n",
      "Número de valores nulos: 567\n",
      "\n",
      "Contagem por Ano de Graduação:\n",
      "ano_conclusao_graduacao\n",
      "1960      2\n",
      "1964      2\n",
      "1965      1\n",
      "1967      1\n",
      "1968      2\n",
      "       ... \n",
      "2026      6\n",
      "2027      1\n",
      "2028      2\n",
      "2029      1\n",
      "<NA>    567\n",
      "Name: count, Length: 66, dtype: Int64\n"
     ]
    }
   ],
   "source": [
    "# Exibir os valores únicos antes de qualquer manipulação\n",
    "print(\"Valores únicos antes da substituição:\")\n",
    "print(df['ano_conclusao_graduacao'].unique())\n",
    "\n",
    "# Substituir anos de conclusão da graduação abaixo de 1901 por NaN\n",
    "df['ano_conclusao_graduacao'] = df['ano_conclusao_graduacao'].apply(lambda x: x if x >= 1901 else np.nan)\n",
    "\n",
    "# Converter a coluna para 'Int64', que suporta NaN\n",
    "df['ano_conclusao_graduacao'] = df['ano_conclusao_graduacao'].astype('Int64')\n",
    "\n",
    "# Exibir os valores únicos após a substituição\n",
    "print(\"\\nValores únicos após a substituição:\")\n",
    "print(df['ano_conclusao_graduacao'].unique())\n",
    "\n",
    "# Contar valores nulos na coluna 'ano_conclusao_graduacao'\n",
    "nulos_ano_conclusao = df['ano_conclusao_graduacao'].isnull().sum()\n",
    "print(f\"\\nNúmero de valores nulos: {nulos_ano_conclusao}\")\n",
    "\n",
    "# Verificar contagem por ano após a substituição\n",
    "contagem_por_ano = df['ano_conclusao_graduacao'].value_counts(dropna=False).sort_index()\n",
    "print(\"\\nContagem por Ano de Graduação:\")\n",
    "print(contagem_por_ano)"
   ]
  },
  {
   "cell_type": "code",
   "execution_count": 6,
   "id": "051844cc-6856-4c06-b0a0-dbd0377c49d1",
   "metadata": {},
   "outputs": [
    {
     "name": "stdout",
     "output_type": "stream",
     "text": [
      "Valores únicos antes da substituição:\n",
      "[   0 2005 2001 2018 2009 2015 2010 1989 1979 1996 2013 2019 2014 2017\n",
      " 2000 2020 2022 2021 2025 1980 1995 1994 1993 2016 2002 2007 2004    2\n",
      " 2003 2008 1988 2011 2012 2023 2006 2024    1 1983 1974 1977 1998 1978\n",
      " 1999   19 1991 1986 2026 1981 1992   -2   94 1972    3 1987 1971 1997\n",
      " 1985 1975 1976 1990    4   -1   20 1966 1973   -3    8  555   -4    9\n",
      "   66 1970 1900]\n",
      "\n",
      "Valores únicos após a substituição:\n",
      "<IntegerArray>\n",
      "[<NA>, 2005, 2001, 2018, 2009, 2015, 2010, 1989, 1979, 1996, 2013, 2019, 2014,\n",
      " 2017, 2000, 2020, 2022, 2021, 2025, 1980, 1995, 1994, 1993, 2016, 2002, 2007,\n",
      " 2004, 2003, 2008, 1988, 2011, 2012, 2023, 2006, 2024, 1983, 1974, 1977, 1998,\n",
      " 1978, 1999, 1991, 1986, 2026, 1981, 1992, 1972, 1987, 1971, 1997, 1985, 1975,\n",
      " 1976, 1990, 1966, 1973, 1970]\n",
      "Length: 57, dtype: Int64\n",
      "\n",
      "Número de valores nulos: 1817\n",
      "\n",
      "Contagem por Ano de Mestrado:\n",
      "ano_conclusao_mestrado\n",
      "1966       1\n",
      "1970       1\n",
      "1971       2\n",
      "1972       3\n",
      "1973       1\n",
      "1974       3\n",
      "1975       2\n",
      "1976       3\n",
      "1977       1\n",
      "1978       1\n",
      "1979       4\n",
      "1980       2\n",
      "1981       1\n",
      "1983       3\n",
      "1985       1\n",
      "1986       1\n",
      "1987       4\n",
      "1988       4\n",
      "1989       8\n",
      "1990       5\n",
      "1991       5\n",
      "1992       9\n",
      "1993       8\n",
      "1994      12\n",
      "1995      11\n",
      "1996      18\n",
      "1997      11\n",
      "1998      24\n",
      "1999      21\n",
      "2000      21\n",
      "2001      28\n",
      "2002      27\n",
      "2003      28\n",
      "2004      28\n",
      "2005      37\n",
      "2006      33\n",
      "2007      41\n",
      "2008      48\n",
      "2009      79\n",
      "2010      63\n",
      "2011      60\n",
      "2012      91\n",
      "2013      94\n",
      "2014     106\n",
      "2015     111\n",
      "2016     104\n",
      "2017     107\n",
      "2018     102\n",
      "2019      91\n",
      "2020      88\n",
      "2021     109\n",
      "2022      99\n",
      "2023     118\n",
      "2024     152\n",
      "2025      47\n",
      "2026      33\n",
      "<NA>    1817\n",
      "Name: count, dtype: Int64\n"
     ]
    }
   ],
   "source": [
    "import numpy as np\n",
    "\n",
    "# Exibir os valores únicos antes de qualquer manipulação\n",
    "print(\"Valores únicos antes da substituição:\")\n",
    "print(df['ano_conclusao_mestrado'].unique())\n",
    "\n",
    "# Substituir anos de conclusão do mestrado abaixo de 1901 por NaN\n",
    "df['ano_conclusao_mestrado'] = df['ano_conclusao_mestrado'].apply(lambda x: x if x >= 1901 else np.nan)\n",
    "\n",
    "# Converter a coluna para 'Int64', que suporta NaN\n",
    "df['ano_conclusao_mestrado'] = df['ano_conclusao_mestrado'].astype('Int64')\n",
    "\n",
    "# Exibir os valores únicos após a substituição\n",
    "print(\"\\nValores únicos após a substituição:\")\n",
    "print(df['ano_conclusao_mestrado'].unique())\n",
    "\n",
    "# Contar valores nulos na coluna 'ano_conclusao_mestrado'\n",
    "nulos_ano_conclusao = df['ano_conclusao_mestrado'].isnull().sum()\n",
    "print(f\"\\nNúmero de valores nulos: {nulos_ano_conclusao}\")\n",
    "\n",
    "# Verificar contagem por ano após a substituição\n",
    "contagem_por_ano = df['ano_conclusao_mestrado'].value_counts(dropna=False).sort_index()\n",
    "print(\"\\nContagem por Ano de Mestrado:\")\n",
    "print(contagem_por_ano)"
   ]
  },
  {
   "cell_type": "code",
   "execution_count": 7,
   "id": "37d730e8-a080-48b6-9d22-76a35a3bc412",
   "metadata": {},
   "outputs": [
    {
     "name": "stdout",
     "output_type": "stream",
     "text": [
      "Valores únicos antes da substituição:\n",
      "[   0 2012 2006 2022 2013 2025 2020 1997 1999 2005 2018 2019 2007 2024\n",
      " 2017 1989 2016 2028 2011 2023 1986 2002 2010 2001 2008 2014 2015    2\n",
      " 2027 2029 2003 2004 2021 2026 1992 1985 1987 2009 1995 2000 1984 1974\n",
      "    1 1993 1996 1990   -2    3   -1 1988 1998   -3 1979 1994 1981 1973\n",
      " 1991 1980  458    5  666 1975   -8   -5 1983 1900]\n",
      "\n",
      "Valores únicos após a substituição:\n",
      "[   0 2012 2006 2022 2013 2025 2020 1997 1999 2005 2018 2019 2007 2024\n",
      " 2017 1989 2016 2028 2011 2023 1986 2002 2010 2001 2008 2014 2015 2027\n",
      " 2029 2003 2004 2021 2026 1992 1985 1987 2009 1995 2000 1984 1974 1993\n",
      " 1996 1990 1988 1998 1979 1994 1981 1973 1991 1980 1975 1983]\n",
      "\n",
      "Número de valores nulos: 0\n",
      "\n",
      "Contagem por Ano de Graduação:\n",
      "ano_conclusao_doutorado\n",
      "0       2868\n",
      "1973       2\n",
      "1974       2\n",
      "1975       1\n",
      "1979       1\n",
      "1980       2\n",
      "1981       1\n",
      "1983       1\n",
      "1984       2\n",
      "1985       3\n",
      "1986       1\n",
      "1987       4\n",
      "1988       2\n",
      "1989       2\n",
      "1990       1\n",
      "1991       1\n",
      "1992       2\n",
      "1993       6\n",
      "1994       1\n",
      "1995       4\n",
      "1996       2\n",
      "1997       5\n",
      "1998       6\n",
      "1999       5\n",
      "2000       8\n",
      "2001      13\n",
      "2002      11\n",
      "2003      10\n",
      "2004      14\n",
      "2005      15\n",
      "2006      18\n",
      "2007      23\n",
      "2008      18\n",
      "2009      18\n",
      "2010      31\n",
      "2011      19\n",
      "2012      29\n",
      "2013      45\n",
      "2014      38\n",
      "2015      40\n",
      "2016      48\n",
      "2017      37\n",
      "2018      46\n",
      "2019      69\n",
      "2020      55\n",
      "2021      53\n",
      "2022      78\n",
      "2023      67\n",
      "2024      72\n",
      "2025      54\n",
      "2026      31\n",
      "2027      28\n",
      "2028      18\n",
      "2029       1\n",
      "Name: count, dtype: int64\n"
     ]
    }
   ],
   "source": [
    "# Exibir os valores únicos antes de qualquer manipulação\n",
    "print(\"Valores únicos antes da substituição:\")\n",
    "print(df['ano_conclusao_doutorado'].unique())\n",
    "\n",
    "# Substituir anos de conclusão da graduação abaixo de 1901 por 0\n",
    "df['ano_conclusao_doutorado'] = df['ano_conclusao_doutorado'].apply(lambda x: x if x >= 1901 else 0)\n",
    "\n",
    "# Exibir os valores únicos após a substituição\n",
    "print(\"\\nValores únicos após a substituição:\")\n",
    "print(df['ano_conclusao_doutorado'].unique())\n",
    "\n",
    "# Contar valores nulos na coluna 'ano_conclusao_graduacao'\n",
    "nulos_ano_conclusao = df['ano_conclusao_doutorado'].isnull().sum()\n",
    "print(f\"\\nNúmero de valores nulos: {nulos_ano_conclusao}\")\n",
    "\n",
    "# Verificar contagem por ano após a substituição\n",
    "contagem_por_ano = df['ano_conclusao_doutorado'].value_counts().sort_index()\n",
    "print(\"\\nContagem por Ano de Graduação:\")\n",
    "print(contagem_por_ano)"
   ]
  },
  {
   "cell_type": "code",
   "execution_count": 8,
   "id": "6c2a8ee0-d1da-4a49-b897-8ae4aed15c1c",
   "metadata": {},
   "outputs": [
    {
     "name": "stdout",
     "output_type": "stream",
     "text": [
      "faixa_renda_domiciliar\n",
      "Mais de 2 até 5      926\n",
      "Mais de 5 até 10     889\n",
      "Mais de 10 até 15    492\n",
      "Mais de 1 até 2      388\n",
      "Mais de 15 até 20    235\n",
      "Até 1                196\n",
      "Mais de 20           192\n",
      "Name: count, dtype: int64\n"
     ]
    }
   ],
   "source": [
    "# Função para remover o texto 'salários-mínimos' ou 'salário-mínimo'\n",
    "def limpar_texto(texto):\n",
    "    if isinstance(texto, str):  # Verifica se o valor é uma string\n",
    "        return texto.replace('salários-mínimos', '').replace('salário-mínimo', '').strip()\n",
    "    return texto  # Retorna o valor original se não for uma string\n",
    "\n",
    "# Aplicar a função à coluna 'faixa_renda_domiciliar'\n",
    "df['faixa_renda_domiciliar'] = df['faixa_renda_domiciliar'].apply(limpar_texto)\n",
    "\n",
    "# Verificar o resultado\n",
    "faixa_renda_domiciliar = df['faixa_renda_domiciliar'].value_counts()\n",
    "print(faixa_renda_domiciliar)"
   ]
  },
  {
   "cell_type": "code",
   "execution_count": 9,
   "id": "2f033d81-9992-40d4-8b33-fbf4a00f551a",
   "metadata": {},
   "outputs": [
    {
     "name": "stdout",
     "output_type": "stream",
     "text": [
      "responsavel_cuidado_familiar\n",
      "Não                           2103\n",
      "Filho(s)                       686\n",
      "Familiares Idosos              305\n",
      "Familiares Crianças             84\n",
      "Prefiro não responder           72\n",
      "Familiares com Deficiência      33\n",
      "Enteados                        19\n",
      "Name: count, dtype: int64\n"
     ]
    }
   ],
   "source": [
    "# Dicionário de mapeamento para simplificar os textos\n",
    "mapear_textos = {\n",
    "    'Sim, filho/a (s)': 'Filho(s)',\n",
    "    'Sim, familiar(es) que é (são) idosos (as)': 'Familiares Idosos',\n",
    "    'Sim, familiar (es) que é (são) crianças': 'Familiares Crianças',\n",
    "    'Sim, familiar (es) que é (são) pessoa com deficiência': 'Familiares com Deficiência',\n",
    "    'Sim, enteados(a)': 'Enteados',\n",
    "    'Prefiro não responder': 'Prefiro não responder',\n",
    "    'Não': 'Não'\n",
    "}\n",
    "\n",
    "# Aplicar o mapeamento à coluna 'responsavel_cuidado_familiar'\n",
    "df['responsavel_cuidado_familiar'] = df['responsavel_cuidado_familiar'].replace(mapear_textos)\n",
    "\n",
    "# Verificar o resultado\n",
    "responsavel_cuidado_familiar = df['responsavel_cuidado_familiar'].value_counts()\n",
    "print(responsavel_cuidado_familiar)"
   ]
  },
  {
   "cell_type": "code",
   "execution_count": 10,
   "id": "f2fa5695-3b43-4356-b296-8898066ef7d2",
   "metadata": {},
   "outputs": [
    {
     "name": "stdout",
     "output_type": "stream",
     "text": [
      "quantidade_filhos\n",
      "1 filha(o)               443\n",
      "Sem filhos               426\n",
      "2 filhas(os)             294\n",
      "3 filhas(os)              61\n",
      "4 filhas(os)              15\n",
      "5 ou mais filhas(os)       8\n",
      "Prefiro não responder      2\n",
      "Name: count, dtype: int64\n"
     ]
    }
   ],
   "source": [
    "# Dicionário de mapeamento para simplificar os textos\n",
    "mapear_textos = {\n",
    "    '1 filha (o)': '1 filha(o)',\n",
    "    '2 filhas (os)': '2 filhas(os)',\n",
    "    '3 filhas (os)': '3 filhas(os)',\n",
    "    '4 filhas (os)': '4 filhas(os)',\n",
    "    '5 filhas (os) ou mais': '5 ou mais filhas(os)',\n",
    "    'Não tenho filhos': 'Sem filhos',\n",
    "    'Prefiro não responder': 'Prefiro não responder'\n",
    "}\n",
    "\n",
    "# Aplicar o mapeamento à coluna 'quantidade_filhos'\n",
    "df['quantidade_filhos'] = df['quantidade_filhos'].replace(mapear_textos)\n",
    "\n",
    "# Verificar o resultado\n",
    "quantidade_filhos = df['quantidade_filhos'].value_counts()\n",
    "print(quantidade_filhos)"
   ]
  },
  {
   "cell_type": "code",
   "execution_count": 11,
   "id": "1744898b-fd3f-425a-ab38-dc152b56957a",
   "metadata": {},
   "outputs": [
    {
     "name": "stdout",
     "output_type": "stream",
     "text": [
      "instituicao_nivel_mais_alto\n",
      "Pública                        2802\n",
      "Privada sem fins lucrativos     215\n",
      "Privada com fins lucrativos     192\n",
      "Name: count, dtype: int64\n"
     ]
    }
   ],
   "source": [
    "# Dicionário de mapeamento para simplificar os textos\n",
    "mapear_textos = {\n",
    "    'Pública': 'Pública',\n",
    "    'Privada com fins lucrativos': 'Privada com fins lucrativos',\n",
    "    'Privada sem fins lucrativos (confessionais, comunitárias e fundações)': 'Privada sem fins lucrativos',\n",
    "}\n",
    "\n",
    "# Aplicar o mapeamento à coluna 'quantidade_filhos'\n",
    "df['instituicao_nivel_mais_alto'] = df['instituicao_nivel_mais_alto'].replace(mapear_textos)\n",
    "\n",
    "# Verificar o resultado\n",
    "instituicao_nivel_mais_alto = df['instituicao_nivel_mais_alto'].value_counts()\n",
    "print(instituicao_nivel_mais_alto)"
   ]
  },
  {
   "cell_type": "code",
   "execution_count": 12,
   "id": "7291aa2b-9e3c-4e65-842e-609a503b7345",
   "metadata": {},
   "outputs": [
    {
     "name": "stdout",
     "output_type": "stream",
     "text": [
      "tipo_vinculo_ocupacao atual\n",
      "Empregado(a) Formal no Setor Privado               605\n",
      "Bolsista                                           498\n",
      "Autônomo(a)/Prestador(a) de Serviço                445\n",
      "Servidor(a) Estatutário Federal                    435\n",
      "Servidor(a) Estatutário Estadual                   324\n",
      "Empregado(a) Formal no Terceiro Setor              182\n",
      "Servidor(a) Estatutário Municipal                  112\n",
      "Servidor(a) Temporário no Âmbito Estadual           95\n",
      "Servidor(a) Público Celetista Estadual              51\n",
      "Servidor(a) Público Celetista Federal               47\n",
      "Empresário(a)                                       46\n",
      "Servidor(a) Comissionado (a) no Âmbito Estadual     40\n",
      "Servidor(a) Temporário no Âmbito Federal            32\n",
      "Servidor(a) Temporário no Âmbito Municipal          29\n",
      "Servidor(a) Público Celetista Municipal             26\n",
      "Servidor(a) Comissionado(a) no Âmbito Municipal     22\n",
      "Servidor(a) Comissionado(a) no Âmbito Federal       18\n",
      "Name: count, dtype: int64\n"
     ]
    }
   ],
   "source": [
    "# Criar um dicionário de mapeamento para os valores de 'tipo_vinculo_ocupacao_atual'\n",
    "mapeamento_ocupacao = {\n",
    "    \"Empregado(a) formal no setor privado\": \"Empregado(a) Formal no Setor Privado\",\n",
    "    \"Bolsista\": \"Bolsista\",\n",
    "    \"Autônomo(a)/prestador(a) de serviço\": \"Autônomo(a)/Prestador(a) de Serviço\",\n",
    "    \"Servidor(a) estatutário federal\": \"Servidor(a) Estatutário Federal\",\n",
    "    \"Servidor(a) estatutário estadual\": \"Servidor(a) Estatutário Estadual\",\n",
    "    \"Empregado(a) formal no terceiro setor\": \"Empregado(a) Formal no Terceiro Setor\",\n",
    "    \"Servidor(a) estatutário municipal\": \"Servidor(a) Estatutário Municipal\",\n",
    "    \"Servidor (a) temporário no âmbito estadual\": \"Servidor(a) Temporário no Âmbito Estadual\",\n",
    "    \"Servidor(a) público celetista estadual\": \"Servidor(a) Público Celetista Estadual\",\n",
    "    \"Servidor(a) público celetista federal\": \"Servidor(a) Público Celetista Federal\",\n",
    "    \"Empresário(a)\": \"Empresário(a)\",\n",
    "    \"Servidor (a) comissionado (a) no âmbito estadual\": \"Servidor(a) Comissionado (a) no Âmbito Estadual\",\n",
    "    \"Servidor (a) temporário no âmbito federal\": \"Servidor(a) Temporário no Âmbito Federal\",\n",
    "    \"Servidor (a) temporário no âmbito municipal\": \"Servidor(a) Temporário no Âmbito Municipal\",\n",
    "    \"Servidor(a) público celetista municipal\": \"Servidor(a) Público Celetista Municipal\",\n",
    "    \"Servidor (a) comissionado (a) no âmbito municipal\": \"Servidor(a) Comissionado(a) no Âmbito Municipal\",\n",
    "    \"Servidor (a) comissionado (a) no âmbito federal\": \"Servidor(a) Comissionado(a) no Âmbito Federal\",\n",
    "}\n",
    "\n",
    "# Aplicar o mapeamento à coluna 'tipo_vinculo_ocupacao_atual'\n",
    "df['tipo_vinculo_ocupacao atual'] = df['tipo_vinculo_ocupacao atual'].map(mapeamento_ocupacao)\n",
    "\n",
    "# Contar os valores após o mapeamento\n",
    "tipo_vinculo_ocupacao_atual = df['tipo_vinculo_ocupacao atual'].value_counts()\n",
    "\n",
    "# Exibir o resultado\n",
    "print(tipo_vinculo_ocupacao_atual)"
   ]
  },
  {
   "cell_type": "code",
   "execution_count": 13,
   "id": "32759f4e-2856-47be-b552-d36a84e7e3bf",
   "metadata": {},
   "outputs": [
    {
     "name": "stdout",
     "output_type": "stream",
     "text": [
      "\n",
      "Contagem por caracterização da organização atual:\n",
      "caracterizacao_organizacao_atual\n",
      "Instituição de Ensino Superior Pública                              862\n",
      "Empresa Privada                                                     417\n",
      "Instituição de Ensino da Rede Básica Pública                        324\n",
      "Organização do Terceiro Setor                                       221\n",
      "Assembleia Legislativa Estadual                                     143\n",
      "Empresa Pública/Autarquia                                           127\n",
      "Assembleia Legislativa Municipal                                     95\n",
      "Empresa Própria ou Sócio(a)                                          69\n",
      "Órgãos Públicos de Controle                                          62\n",
      "Instituição de Ensino Superior Privada com Fins Lucrativos           59\n",
      "Instituição de Ensino Superior Privada sem Fins Lucrativos           52\n",
      "Instituição de Ensino da Rede Básica Privada                         48\n",
      "Congresso Nacional                                                   19\n",
      "Instituição de Ensino da Rede Básica Privada sem Fins Lucrativos     10\n",
      "Name: count, dtype: int64\n"
     ]
    }
   ],
   "source": [
    "# Criar um dicionário de mapeamento para os valores de 'caracterizacao_organizacao'\n",
    "mapeamento_ocupacao = {\n",
    "    \"Instituição de ensino superior pública\": \"Instituição de Ensino Superior Pública\",\n",
    "    \"Instituição de ensino superior privada com fins lucrativos\": \"Instituição de Ensino Superior Privada com Fins Lucrativos\",\n",
    "    \"Instituição de ensino superior privada sem fins lucrativos (confessionais, comunitárias e fundações)\": \"Instituição de Ensino Superior Privada sem Fins Lucrativos\",\n",
    "    \"Instituição de ensino da rede básica pública\": \"Instituição de Ensino da Rede Básica Pública\",\n",
    "    \"Instituição de ensino da rede básica privada\": \"Instituição de Ensino da Rede Básica Privada\",\n",
    "    \"Instituição de ensino da rede básica privada sem fins lucrativos\": \"Instituição de Ensino da Rede Básica Privada sem Fins Lucrativos\",\n",
    "    \"Empresa pública/autarquia\": \"Empresa Pública/Autarquia\",\n",
    "    \"Congresso Nacional\": \"Congresso Nacional\",\n",
    "    \"Assembleia legislativa estadual\": \"Assembleia Legislativa Estadual\",\n",
    "    \"Assembleia legislativa municipal\": \"Assembleia Legislativa Municipal\",\n",
    "    \"Órgãos públicos de controle (Tribunais de contas, Ministério Público etc.)\": \"Órgãos Públicos de Controle\",\n",
    "    \"Empresa privada\": \"Empresa Privada\",\n",
    "    \"Organização do terceiro setor (ONGs, OSCIPs, OSs, cooperativas, associações, fundações etc.)\": \"Organização do Terceiro Setor\",\n",
    "    \"Empresa própria ou da qual você é sócio(a)\": \"Empresa Própria ou Sócio(a)\"\n",
    "}\n",
    "\n",
    "# Remover espaços em branco nas bordas dos valores na coluna\n",
    "df['caracterizacao_organizacao'] = df['caracterizacao_organizacao'].str.strip()\n",
    "\n",
    "# Aplicar o mapeamento à coluna 'caracterizacao_organizacao'\n",
    "df['caracterizacao_organizacao_atual'] = df['caracterizacao_organizacao'].map(mapeamento_ocupacao)\n",
    "\n",
    "# Contar os valores após o mapeamento\n",
    "caracterizacao_organizacao_atual = df['caracterizacao_organizacao_atual'].value_counts()\n",
    "\n",
    "# Exibir o resultado\n",
    "print(\"\\nContagem por caracterização da organização atual:\")\n",
    "print(caracterizacao_organizacao_atual)"
   ]
  },
  {
   "cell_type": "code",
   "execution_count": 14,
   "id": "11816c99-9df2-42fa-9437-98fdf1047519",
   "metadata": {},
   "outputs": [
    {
     "name": "stdout",
     "output_type": "stream",
     "text": [
      "perfil_empresa_privada\n",
      "Consultoria/Assessoria em Pesquisa                                              165\n",
      "Empresa do Setor de Serviços                                                    158\n",
      "Consultoria/Assessoria em Meio Ambiente e Sustentabilidade                       82\n",
      "Consultoria/Assessoria em Ensino e Educação                                      72\n",
      "Empresa do Setor Industrial                                                      54\n",
      "Empresa do Setor Financeiro                                                      48\n",
      "Consultoria/Assessoria Econômica em Relações Institucionais e Governamentais     40\n",
      "Consultoria/Assessoria em Cultura/Projetos Culturais                             36\n",
      "Consultoria/Assessoria em Governança Social e Diversidade                        25\n",
      "Consultoria/Assessoria Econômica ou Financeira                                   18\n",
      "Name: count, dtype: int64\n"
     ]
    }
   ],
   "source": [
    "# Criar um dicionário de mapeamento para os valores de 'perfil_empresa_privada'\n",
    "mapeamento_ocupacao = {\n",
    "    \"Consultoria/assessoria econômica ou financeira\": \"Consultoria/Assessoria Econômica ou Financeira\",\n",
    "    \"Consultoria/assessoria econômica em relações institucionais e governamentais\": \"Consultoria/Assessoria Econômica em Relações Institucionais e Governamentais\",\n",
    "    \"Consultoria/assessoria em pesquisa\": \"Consultoria/Assessoria em Pesquisa\",\n",
    "    \"Consultoria/assessoria em ensino e educação\": \"Consultoria/Assessoria em Ensino e Educação\",\n",
    "    \"Consultoria/assessoria em meio ambiente e sustentabilidade\": \"Consultoria/Assessoria em Meio Ambiente e Sustentabilidade\",\n",
    "    \"Consultoria/assessoria em governança social e diversidade\": \"Consultoria/Assessoria em Governança Social e Diversidade\",\n",
    "    \"Consultoria/assessoria em cultura/projetos culturais\": \"Consultoria/Assessoria em Cultura/Projetos Culturais\",\n",
    "    \"Empresa do setor industrial\": \"Empresa do Setor Industrial\",\n",
    "    \"Empresa do setor de serviços\": \"Empresa do Setor de Serviços\",\n",
    "    \"Empresa do setor financeiro\": \"Empresa do Setor Financeiro\"\n",
    "}\n",
    "\n",
    "# Aplicar o mapeamento à coluna 'perfil_empresa_privada'\n",
    "df['perfil_empresa_privada'] = df['perfil_empresa_privada'].map(mapeamento_ocupacao)\n",
    "\n",
    "# Contar os valores após o mapeamento\n",
    "perfil_empresa_privada = df['perfil_empresa_privada'].value_counts()\n",
    "\n",
    "# Exibir o resultado\n",
    "print(perfil_empresa_privada)"
   ]
  },
  {
   "cell_type": "code",
   "execution_count": 15,
   "id": "59c9b948-f4a1-4e1f-90a0-e84c1a1be27d",
   "metadata": {},
   "outputs": [
    {
     "name": "stdout",
     "output_type": "stream",
     "text": [
      "expectativas_iniciais_profissao\n",
      "Ser Professor E Pesquisador Em Instituições Públicas De Ensino                      1329\n",
      "Contribuir Para A Produção De Conhecimento Científico Na Minha Área De Interesse     514\n",
      "Avançar Na Minha Carreira Profissional Fora Do Ambiente Acadêmico                    374\n",
      "Desenvolver Habilidades De Pesquisa E Análise De Dados                               299\n",
      "Explorar Novas Oportunidades De Carreira Além Do Campo Das Ciências Sociais          177\n",
      "                                                                                    ... \n",
      "Atuar Com Políticas Públicas                                                           1\n",
      "Gestão De Políticas Publicas                                                           1\n",
      "Estudo Da Sociedade Brasileira, Das Relações Sociais                                   1\n",
      "Transformar A Qualidade De Vida Das Pessoas                                            1\n",
      "Trabalhar Na Área Social                                                               1\n",
      "Name: count, Length: 138, dtype: int64\n"
     ]
    }
   ],
   "source": [
    "# Remover o ponto final das frases na coluna 'expectativas_iniciais_profissao' e capitalizar as palavras\n",
    "df['expectativas_iniciais_profissao'] = df['expectativas_iniciais_profissao'].str.rstrip('.').str.title()\n",
    "\n",
    "# Contar os valores\n",
    "expectativas_iniciais_profissao = df['expectativas_iniciais_profissao'].value_counts()\n",
    "\n",
    "# Exibir o resultado\n",
    "print(expectativas_iniciais_profissao)"
   ]
  },
  {
   "cell_type": "code",
   "execution_count": 16,
   "id": "c77b5fdf-a271-462c-a0ba-6e8a17c79925",
   "metadata": {},
   "outputs": [
    {
     "name": "stdout",
     "output_type": "stream",
     "text": [
      "expectativas_alcancadas\n",
      "Um Pouco Abaixo Das Expectativas    871\n",
      "Muito Abaixo Das Expectativas       798\n",
      "Conforme As Expectativas            659\n",
      "Um Pouco Acima Das Expectativas     289\n",
      "Muito Acima Das Expectativas        269\n",
      "Name: count, dtype: int64\n"
     ]
    }
   ],
   "source": [
    "# Capitalizar os valores na coluna 'expectativas_alcancadas'\n",
    "df['expectativas_alcancadas'] = df['expectativas_alcancadas'].str.title()\n",
    "\n",
    "# Contar os valores\n",
    "expectativas_alcancadas = df['expectativas_alcancadas'].value_counts()\n",
    "\n",
    "# Exibir o resultado\n",
    "print(expectativas_alcancadas)"
   ]
  },
  {
   "cell_type": "code",
   "execution_count": 17,
   "id": "da85afeb-7316-400b-abd8-b9650a679908",
   "metadata": {},
   "outputs": [
    {
     "name": "stdout",
     "output_type": "stream",
     "text": [
      "satisfacao_carreira\n",
      "Satisfeito(A)                            1046\n",
      "Insatisfeito(A)                           595\n",
      "Nem Satisfeito(A) Nem Insatisfeito(A)     562\n",
      "Muito Satisfeito(A)                       351\n",
      "Muito Insatisfeito(A)                     327\n",
      "Name: count, dtype: int64\n"
     ]
    }
   ],
   "source": [
    "# Capitalizar os valores na coluna 'satisfacao_carreira'\n",
    "df['satisfacao_carreira'] = df['satisfacao_carreira'].str.title()\n",
    "\n",
    "# Contar os valores\n",
    "satisfacao_carreira = df['satisfacao_carreira'].value_counts()\n",
    "\n",
    "# Exibir o resultado\n",
    "print(satisfacao_carreira)"
   ]
  },
  {
   "cell_type": "code",
   "execution_count": 18,
   "id": "1a124da1-92a5-4192-8e8b-a909f78e89d7",
   "metadata": {},
   "outputs": [
    {
     "name": "stdout",
     "output_type": "stream",
     "text": [
      "fatores_sucesso_profissional\n",
      "Relevância Do Trabalho Para A Sociedade                                                                                                                                                                                    208\n",
      "Relevância Do Trabalho Para A Sociedade + Reconhecimento Acadêmico + Remuneração + Equilíbrio Entre Vida Profissional E Pessoal + Oportunidades De Pesquisa E Publicação + Desenvolvimento De Habilidades Profissionais    160\n",
      "Relevância Do Trabalho Para A Sociedade + Remuneração + Equilíbrio Entre Vida Profissional E Pessoal                                                                                                                       152\n",
      "Relevância Do Trabalho Para A Sociedade + Reconhecimento Acadêmico + Remuneração                                                                                                                                           122\n",
      "Relevância Do Trabalho Para A Sociedade + Reconhecimento Acadêmico + Remuneração + Oportunidades De Pesquisa E Publicação                                                                                                  116\n",
      "                                                                                                                                                                                                                          ... \n",
      "Reconhecimento Acadêmico + Equilíbrio Entre Vida Profissional E Pessoal                                                                                                                                                      6\n",
      "Relevância Do Trabalho Para A Sociedade + Reconhecimento Acadêmico + Equilíbrio Entre Vida Profissional E Pessoal + Desenvolvimento De Habilidades Profissionais                                                             5\n",
      "Reconhecimento Acadêmico + Equilíbrio Entre Vida Profissional E Pessoal + Oportunidades De Pesquisa E Publicação + Desenvolvimento De Habilidades Profissionais                                                              4\n",
      "Reconhecimento Acadêmico + Equilíbrio Entre Vida Profissional E Pessoal + Desenvolvimento De Habilidades Profissionais                                                                                                       3\n",
      "Equilíbrio Entre Vida Profissional E Pessoal + Oportunidades De Pesquisa E Publicação                                                                                                                                        3\n",
      "Name: count, Length: 63, dtype: int64\n"
     ]
    }
   ],
   "source": [
    "# Capitalizar os valores na coluna 'fatores_sucesso_profissional'\n",
    "df['fatores_sucesso_profissional'] = df['fatores_sucesso_profissional'].str.title()\n",
    "\n",
    "# Contar os valores\n",
    "fatores_sucesso_profissional = df['fatores_sucesso_profissional'].value_counts()\n",
    "\n",
    "# Exibir o resultado\n",
    "print(fatores_sucesso_profissional)"
   ]
  },
  {
   "cell_type": "code",
   "execution_count": 19,
   "id": "1ea5801a-572b-4a4a-833b-a2d79c3db405",
   "metadata": {},
   "outputs": [
    {
     "name": "stdout",
     "output_type": "stream",
     "text": [
      "desafios_realizacao_profissional\n",
      "Dificuldade Em Encontrar Oportunidades De Emprego Na Área De Ciências Sociais                                                                                                                                                                                                                                                                                                                             396\n",
      "Dificuldade Em Encontrar Oportunidades De Emprego Na Área De Ciências Sociais + Falta De Reconhecimento Ou Valorização Das Habilidades Adquiridas Durante A Pós-Graduação                                                                                                                                                                                                                                 201\n",
      "Dificuldade Em Encontrar Oportunidades De Emprego Na Área De Ciências Sociais + Dificuldades Para Estabelecer Uma Rede Profissional Ou Acadêmica                                                                                                                                                                                                                                                          130\n",
      "Desafios Para Equilibrar Trabalho E Vida Pessoal.                                                                                                                                                                                                                                                                                                                                                         128\n",
      "Dificuldade Em Encontrar Oportunidades De Emprego Na Área De Ciências Sociais + Falta De Reconhecimento Ou Valorização Das Habilidades Adquiridas Durante A Pós-Graduação + Dificuldades Para Estabelecer Uma Rede Profissional Ou Acadêmica                                                                                                                                                              103\n",
      "                                                                                                                                                                                                                                                                                                                                                                                                         ... \n",
      "Concorrência Acirrada No Mercado De Trabalho + Falta De Reconhecimento Ou Valorização Das Habilidades Adquiridas Durante A Pós-Graduação + Desafios Para Equilibrar Trabalho E Vida Pessoal. + Barreiras Para Publicação De Pesquisas Ou Acesso A Recursos Acadêmicos + Dificuldades Para Estabelecer Uma Rede Profissional Ou Acadêmica                                                                    1\n",
      "Dificuldade Em Encontrar Oportunidades De Emprego Na Área De Ciências Sociais + Concorrência Acirrada No Mercado De Trabalho + Falta De Reconhecimento Ou Valorização Das Habilidades Adquiridas Durante A Pós-Graduação + Desafios Para Equilibrar Trabalho E Vida Pessoal. + Dificuldades Para Estabelecer Uma Rede Profissional Ou Acadêmica + Discriminação Ou Preconceito No Ambiente De Trabalho      1\n",
      "Desafios Para Equilibrar Trabalho E Vida Pessoal. + Dificuldades Para Estabelecer Uma Rede Profissional Ou Acadêmica + Limitações Geográficas Na Busca Por Oportunidades De Trabalho + Discriminação Ou Preconceito No Ambiente De Trabalho                                                                                                                                                                 1\n",
      "Dificuldade Em Encontrar Oportunidades De Emprego Na Área De Ciências Sociais + Concorrência Acirrada No Mercado De Trabalho + Falta De Reconhecimento Ou Valorização Das Habilidades Adquiridas Durante A Pós-Graduação + Desafios Para Equilibrar Trabalho E Vida Pessoal. + Limitações Geográficas Na Busca Por Oportunidades De Trabalho + Discriminação Ou Preconceito No Ambiente De Trabalho         1\n",
      "Dificuldade Em Encontrar Oportunidades De Emprego Na Área De Ciências Sociais + Concorrência Acirrada No Mercado De Trabalho + Barreiras Para Publicação De Pesquisas Ou Acesso A Recursos Acadêmicos + Dificuldades Para Estabelecer Uma Rede Profissional Ou Acadêmica + Limitações Geográficas Na Busca Por Oportunidades De Trabalho + Discriminação Ou Preconceito No Ambiente De Trabalho             1\n",
      "Name: count, Length: 202, dtype: int64\n"
     ]
    }
   ],
   "source": [
    "# Capitalizar os valores na coluna 'desafios_realizacao_profissional'\n",
    "df['desafios_realizacao_profissional'] = df['desafios_realizacao_profissional'].str.title()\n",
    "\n",
    "# Contar os valores\n",
    "desafios_realizacao_profissional = df['desafios_realizacao_profissional'].value_counts()\n",
    "\n",
    "# Exibir o resultado\n",
    "print(desafios_realizacao_profissional)"
   ]
  },
  {
   "cell_type": "code",
   "execution_count": 20,
   "id": "25f9986f-592e-413b-b19e-d02044baf450",
   "metadata": {},
   "outputs": [
    {
     "name": "stdout",
     "output_type": "stream",
     "text": [
      "curriculo_atende_necessidades\n",
      "Sim, Mas Há Espaço Para Melhorias Direcionadas A Atender Melhor Às Necessidades Profissionais    1326\n",
      "Não, Há Uma Defasagem Entre O Currículo Dos Cursos E As Necessidades Profissionais.              1082\n",
      "Sim, O Currículo Dos Cursos Atende Plenamente Às Necessidades Profissionais                       299\n",
      "Não Tenho Certeza                                                                                 119\n",
      "Name: count, dtype: int64\n"
     ]
    }
   ],
   "source": [
    "# Capitalizar os valores na coluna 'curriculo_atende_necessidades'\n",
    "df['curriculo_atende_necessidades'] = df['curriculo_atende_necessidades'].str.title()\n",
    "\n",
    "# Contar os valores\n",
    "curriculo_atende_necessidades = df['curriculo_atende_necessidades'].value_counts()\n",
    "\n",
    "# Exibir o resultado\n",
    "print(curriculo_atende_necessidades)    "
   ]
  },
  {
   "cell_type": "code",
   "execution_count": 21,
   "id": "746226b1-f16b-43a9-a8bd-2eb38835fa00",
   "metadata": {},
   "outputs": [
    {
     "name": "stdout",
     "output_type": "stream",
     "text": [
      "conhecimento_aplicavel\n",
      "Sim    2208\n",
      "Não     614\n",
      "Name: count, dtype: int64\n"
     ]
    }
   ],
   "source": [
    "# Capitalizar os valores na coluna 'conhecimento_aplicavel'\n",
    "df['conhecimento_aplicavel'] = df['conhecimento_aplicavel'].str.title()\n",
    "\n",
    "# Contar os valores\n",
    "conhecimento_aplicavel = df['conhecimento_aplicavel'].value_counts()\n",
    "\n",
    "# Exibir o resultado\n",
    "print(conhecimento_aplicavel)  "
   ]
  },
  {
   "cell_type": "code",
   "execution_count": 22,
   "id": "aac74a42-fb0b-4a9f-b112-f6351454c5a8",
   "metadata": {},
   "outputs": [
    {
     "name": "stdout",
     "output_type": "stream",
     "text": [
      "como_adquiriu_conhecimento\n",
      "Por Conta Própria                            1095\n",
      "Cursos Complementares Ou De Curta Duração     621\n",
      "Treinamentos No Local De Trabalho             544\n",
      "Name: count, dtype: int64\n"
     ]
    }
   ],
   "source": [
    "# Criar um dicionário de mapeamento para os valores de 'como_adquiriu_conhecimento'\n",
    "mapeamento_ocupacao = {\n",
    "    \"Adquiri esses conhecimentos por conta própria\": \"Por Conta Própria\",\n",
    "    \"Adquiri esses conhecimentos através de cursos complementares ou de curta duração\": \"Cursos Complementares Ou De Curta Duração\",\n",
    "    \"Adquiri esses conhecimentos através de treinamentos no local de trabalho\": \"Treinamentos No Local De Trabalho\"\n",
    "}\n",
    "\n",
    "# Aplicar o mapeamento à coluna 'como_adquiriu_conhecimento'\n",
    "df['como_adquiriu_conhecimento'] = df['como_adquiriu_conhecimento'].map(mapeamento_ocupacao)\n",
    "\n",
    "# Contar os valores\n",
    "como_adquiriu_conhecimento = df['como_adquiriu_conhecimento'].value_counts()\n",
    "\n",
    "# Exibir o resultado\n",
    "print(como_adquiriu_conhecimento)"
   ]
  },
  {
   "cell_type": "code",
   "execution_count": 24,
   "id": "24af0c38-58a3-467d-a214-a9c381dfc332",
   "metadata": {},
   "outputs": [
    {
     "name": "stdout",
     "output_type": "stream",
     "text": [
      "conhecimento_necessario\n",
      "Habilidades Em Análise Estatística E Quantitativa + Conhecimentos Em Ferramentas De Coleta E Análise De Dados (Por Exemplo, Software Estatístico, Ferramentas De Visualização De Dados) + Competências Em Pesquisa Qualitativa (Por Exemplo, Entrevistas, Análise De Conteúdo) + Conhecimentos Em Programação E Análise De Dados Em Linguagens Como R Ou Python + Habilidades Em Comunicação E Apresentação De Resultados De Pesquisa + Competências Para Gerir Projetos De Pesquisa + Competências E Habilidades Relacionadas À Gestão Empresarial    235\n",
      "Habilidades Em Análise Estatística E Quantitativa + Conhecimentos Em Ferramentas De Coleta E Análise De Dados (Por Exemplo, Software Estatístico, Ferramentas De Visualização De Dados) + Competências Em Pesquisa Qualitativa (Por Exemplo, Entrevistas, Análise De Conteúdo) + Conhecimentos Em Programação E Análise De Dados Em Linguagens Como R Ou Python + Habilidades Em Comunicação E Apresentação De Resultados De Pesquisa + Competências Para Gerir Projetos De Pesquisa                                                                   173\n",
      "Habilidades Em Análise Estatística E Quantitativa + Conhecimentos Em Ferramentas De Coleta E Análise De Dados (Por Exemplo, Software Estatístico, Ferramentas De Visualização De Dados) + Conhecimentos Em Programação E Análise De Dados Em Linguagens Como R Ou Python                                                                                                                                                                                                                                                                               113\n",
      "Habilidades Em Análise Estatística E Quantitativa + Conhecimentos Em Ferramentas De Coleta E Análise De Dados (Por Exemplo, Software Estatístico, Ferramentas De Visualização De Dados) + Competências Em Pesquisa Qualitativa (Por Exemplo, Entrevistas, Análise De Conteúdo) + Habilidades Em Comunicação E Apresentação De Resultados De Pesquisa + Competências Para Gerir Projetos De Pesquisa                                                                                                                                                     81\n",
      "Habilidades Em Análise Estatística E Quantitativa + Conhecimentos Em Ferramentas De Coleta E Análise De Dados (Por Exemplo, Software Estatístico, Ferramentas De Visualização De Dados) + Competências Em Pesquisa Qualitativa (Por Exemplo, Entrevistas, Análise De Conteúdo) + Conhecimentos Em Programação E Análise De Dados Em Linguagens Como R Ou Python                                                                                                                                                                                         73\n",
      "                                                                                                                                                                                                                                                                                                                                                                                                                                                                                                                                                      ... \n",
      "Habilidades Em Análise Estatística E Quantitativa + Conhecimentos Em Ferramentas De Coleta E Análise De Dados (Por Exemplo, Software Estatístico, Ferramentas De Visualização De Dados) + Competências Para Gerir Projetos De Pesquisa + Competências E Habilidades Relacionadas À Gestão Empresarial + Competências Relacionadas À Atuação Em Sala De Aula Enquanto Docente                                                                                                                                                                             1\n",
      "Competências Em Pesquisa Qualitativa (Por Exemplo, Entrevistas, Análise De Conteúdo) + Habilidades Em Comunicação E Apresentação De Resultados De Pesquisa + Competências Para Gerir Projetos De Pesquisa + Saber Gerir Projetos Sociais                                                                                                                                                                                                                                                                                                                 1\n",
      "Conhecimentos Em Ferramentas De Coleta E Análise De Dados (Por Exemplo, Software Estatístico, Ferramentas De Visualização De Dados) + Competências Em Pesquisa Qualitativa (Por Exemplo, Entrevistas, Análise De Conteúdo) + Habilidades Em Comunicação E Apresentação De Resultados De Pesquisa + Competências E Habilidades Relacionadas À Gestão Empresarial                                                                                                                                                                                          1\n",
      "Conhecimentos Em Ferramentas De Coleta E Análise De Dados (Por Exemplo, Software Estatístico, Ferramentas De Visualização De Dados) + Competências Em Pesquisa Qualitativa (Por Exemplo, Entrevistas, Análise De Conteúdo) + Competências Para Gerir Projetos De Pesquisa + Competências E Habilidades Relacionadas À Gestão Empresarial + Habilidades Em Gestão Institucional                                                                                                                                                                           1\n",
      "Habilidades Em Análise Estatística E Quantitativa + Conhecimentos Em Ferramentas De Coleta E Análise De Dados (Por Exemplo, Software Estatístico, Ferramentas De Visualização De Dados) + Competências Em Pesquisa Qualitativa (Por Exemplo, Entrevistas, Análise De Conteúdo) + Conhecimentos Em Programação E Análise De Dados Em Linguagens Como R Ou Python + Habilidades Em Comunicação E Apresentação De Resultados De Pesquisa + Competências E Habilidades Relacionadas À Gestão Empresarial + Power Bi                                          1\n",
      "Name: count, Length: 552, dtype: int64\n"
     ]
    }
   ],
   "source": [
    "# Capitalizar os valores na coluna 'desafios_realizacao_profissional'\n",
    "df['conhecimento_necessario'] = df['conhecimento_necessario'].str.title()\n",
    "\n",
    "# Contar os valores\n",
    "conhecimento_necessario = df['conhecimento_necessario'].value_counts()\n",
    "\n",
    "# Exibir o resultado\n",
    "print(conhecimento_necessario)"
   ]
  },
  {
   "cell_type": "code",
   "execution_count": 25,
   "id": "13693029-1032-4d04-bb71-953e6710c3fb",
   "metadata": {},
   "outputs": [
    {
     "name": "stdout",
     "output_type": "stream",
     "text": [
      "habilidades_utilidade_leitura_escrita\n",
      "Extremamente Importante    1516\n",
      "Muito Importante            735\n",
      "Importante                  423\n",
      "Pouco Importante             87\n",
      "Nada Importante              30\n",
      "Name: count, dtype: int64\n"
     ]
    }
   ],
   "source": [
    "# Capitalizar os valores na coluna 'habilidades_utilidade_leitura_escrita'\n",
    "df['habilidades_utilidade_leitura_escrita'] = df['habilidades_utilidade_leitura_escrita'].str.title()\n",
    "\n",
    "# Contar os valores\n",
    "habilidades_utilidade_leitura_escrita = df['habilidades_utilidade_leitura_escrita'].value_counts()\n",
    "\n",
    "# Exibir o resultado\n",
    "print(habilidades_utilidade_leitura_escrita)"
   ]
  },
  {
   "cell_type": "code",
   "execution_count": 23,
   "id": "ea75bcf8-49ae-4136-b0df-b47a7da33963",
   "metadata": {},
   "outputs": [],
   "source": [
    "# Salvar o DataFrame em um arquivo Excel com o nome especificado\n",
    "# df.to_excel('arw.xlsx', index=False)\n",
    "\n",
    "# print(\"Arquivo Excel 'arw_modificado.xlsx' salvo com sucesso!\")"
   ]
  }
 ],
 "metadata": {
  "kernelspec": {
   "display_name": "Python 3 (ipykernel)",
   "language": "python",
   "name": "python3"
  },
  "language_info": {
   "codemirror_mode": {
    "name": "ipython",
    "version": 3
   },
   "file_extension": ".py",
   "mimetype": "text/x-python",
   "name": "python",
   "nbconvert_exporter": "python",
   "pygments_lexer": "ipython3",
   "version": "3.8.10"
  }
 },
 "nbformat": 4,
 "nbformat_minor": 5
}
